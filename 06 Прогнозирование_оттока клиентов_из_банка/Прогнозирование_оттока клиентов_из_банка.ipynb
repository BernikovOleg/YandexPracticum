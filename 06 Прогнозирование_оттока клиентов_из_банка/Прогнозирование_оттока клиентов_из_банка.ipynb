{
 "cells": [
  {
   "cell_type": "markdown",
   "metadata": {},
   "source": [
    "# Прогнозирование оттока клиентов из банка"
   ]
  },
  {
   "cell_type": "markdown",
   "metadata": {},
   "source": [
    "Из «Бета-Банка» каждый месяц стали уходить клиенты. Немного, но заметно. Банковские маркетологи посчитали: сохранять текущих клиентов дешевле, чем привлекать новых.\n",
    "\n",
    "Нужно спрогнозировать, уйдёт клиент из банка в ближайшее время или нет. Нам предоставлены исторические данные о поведении клиентов и расторжении договоров с банком. \n",
    "\n",
    "Источник данных: [https://www.kaggle.com/barelydedicated/bank-customer-churn-modeling](https://www.kaggle.com/barelydedicated/bank-customer-churn-modeling)\n",
    "\n",
    "**Цель проекта**: построить модель с предельно большим значением *F1*-меры.\n",
    "\n",
    "*План действий*:\n",
    "- откроем данные и изучим общую информацию\n",
    "- выполним предобработку\n",
    "- подготовим признаки для машинного обучения\n",
    "- исследуем баланс классов\n",
    "- попробуем разные техники борьбы с дисбалансом\n",
    "- протестируем лучшую выявленную модель"
   ]
  },
  {
   "cell_type": "markdown",
   "metadata": {},
   "source": [
    "## Оглавление\n",
    "\n",
    "1. [Подготовка данных](#step1)\n",
    "    * [Откроем файл с данными и изучим общую информацию](#open) \n",
    "    * [Удаление ненужных столбцов](#del)\n",
    "    * [Замена пропусков](#fillna)\n",
    "    * [Провека на выбросы](#vibros)\n",
    "    * [Прямое кодирование OHE](#ohe)\n",
    "    * [Корреляция признаков](#corr)\n",
    "    * [Разделение данных](#sepp)\n",
    "    * [Стандартизация данных](#standrd)\n",
    "    * [Вывод](#ouput1)\n",
    "2. [Исследование задачи](#step2)\n",
    "    * [Проверка баланса классов](#balance)\n",
    "    * [Решающее дерево](#tree)\n",
    "    * [Случайный лес](#forest)\n",
    "    * [Логистическая регрессия](#logreg)\n",
    "    * [Вывод](#ouput2)\n",
    "3. [Борьба с дисбалансом](#fight)\n",
    "    * [Взвешивание классов](#weight)\n",
    "    * [Upsampling](#upsmpl)\n",
    "    * [Downsampling](#downsmpl)\n",
    "    * [Вывод](#ouput3)\n",
    "4. [Тестирование модели](#step4)"
   ]
  },
  {
   "cell_type": "markdown",
   "metadata": {},
   "source": [
    "<a id=\"step1\"></a>\n",
    "# Подготовка данных\n",
    "<a id=\"open\"></a>\n",
    "## Откроем файл с данными и изучим общую информацию"
   ]
  },
  {
   "cell_type": "code",
   "execution_count": 1,
   "metadata": {},
   "outputs": [
    {
     "name": "stdout",
     "output_type": "stream",
     "text": [
      "<class 'pandas.core.frame.DataFrame'>\n",
      "RangeIndex: 10000 entries, 0 to 9999\n",
      "Data columns (total 14 columns):\n",
      "RowNumber          10000 non-null int64\n",
      "CustomerId         10000 non-null int64\n",
      "Surname            10000 non-null object\n",
      "CreditScore        10000 non-null int64\n",
      "Geography          10000 non-null object\n",
      "Gender             10000 non-null object\n",
      "Age                10000 non-null int64\n",
      "Tenure             9091 non-null float64\n",
      "Balance            10000 non-null float64\n",
      "NumOfProducts      10000 non-null int64\n",
      "HasCrCard          10000 non-null int64\n",
      "IsActiveMember     10000 non-null int64\n",
      "EstimatedSalary    10000 non-null float64\n",
      "Exited             10000 non-null int64\n",
      "dtypes: float64(3), int64(8), object(3)\n",
      "memory usage: 1.1+ MB\n"
     ]
    },
    {
     "data": {
      "text/html": [
       "<div>\n",
       "<style scoped>\n",
       "    .dataframe tbody tr th:only-of-type {\n",
       "        vertical-align: middle;\n",
       "    }\n",
       "\n",
       "    .dataframe tbody tr th {\n",
       "        vertical-align: top;\n",
       "    }\n",
       "\n",
       "    .dataframe thead th {\n",
       "        text-align: right;\n",
       "    }\n",
       "</style>\n",
       "<table border=\"1\" class=\"dataframe\">\n",
       "  <thead>\n",
       "    <tr style=\"text-align: right;\">\n",
       "      <th></th>\n",
       "      <th>RowNumber</th>\n",
       "      <th>CustomerId</th>\n",
       "      <th>Surname</th>\n",
       "      <th>CreditScore</th>\n",
       "      <th>Geography</th>\n",
       "      <th>Gender</th>\n",
       "      <th>Age</th>\n",
       "      <th>Tenure</th>\n",
       "      <th>Balance</th>\n",
       "      <th>NumOfProducts</th>\n",
       "      <th>HasCrCard</th>\n",
       "      <th>IsActiveMember</th>\n",
       "      <th>EstimatedSalary</th>\n",
       "      <th>Exited</th>\n",
       "    </tr>\n",
       "  </thead>\n",
       "  <tbody>\n",
       "    <tr>\n",
       "      <td>0</td>\n",
       "      <td>1</td>\n",
       "      <td>15634602</td>\n",
       "      <td>Hargrave</td>\n",
       "      <td>619</td>\n",
       "      <td>France</td>\n",
       "      <td>Female</td>\n",
       "      <td>42</td>\n",
       "      <td>2.0</td>\n",
       "      <td>0.00</td>\n",
       "      <td>1</td>\n",
       "      <td>1</td>\n",
       "      <td>1</td>\n",
       "      <td>101348.88</td>\n",
       "      <td>1</td>\n",
       "    </tr>\n",
       "    <tr>\n",
       "      <td>1</td>\n",
       "      <td>2</td>\n",
       "      <td>15647311</td>\n",
       "      <td>Hill</td>\n",
       "      <td>608</td>\n",
       "      <td>Spain</td>\n",
       "      <td>Female</td>\n",
       "      <td>41</td>\n",
       "      <td>1.0</td>\n",
       "      <td>83807.86</td>\n",
       "      <td>1</td>\n",
       "      <td>0</td>\n",
       "      <td>1</td>\n",
       "      <td>112542.58</td>\n",
       "      <td>0</td>\n",
       "    </tr>\n",
       "    <tr>\n",
       "      <td>2</td>\n",
       "      <td>3</td>\n",
       "      <td>15619304</td>\n",
       "      <td>Onio</td>\n",
       "      <td>502</td>\n",
       "      <td>France</td>\n",
       "      <td>Female</td>\n",
       "      <td>42</td>\n",
       "      <td>8.0</td>\n",
       "      <td>159660.80</td>\n",
       "      <td>3</td>\n",
       "      <td>1</td>\n",
       "      <td>0</td>\n",
       "      <td>113931.57</td>\n",
       "      <td>1</td>\n",
       "    </tr>\n",
       "    <tr>\n",
       "      <td>3</td>\n",
       "      <td>4</td>\n",
       "      <td>15701354</td>\n",
       "      <td>Boni</td>\n",
       "      <td>699</td>\n",
       "      <td>France</td>\n",
       "      <td>Female</td>\n",
       "      <td>39</td>\n",
       "      <td>1.0</td>\n",
       "      <td>0.00</td>\n",
       "      <td>2</td>\n",
       "      <td>0</td>\n",
       "      <td>0</td>\n",
       "      <td>93826.63</td>\n",
       "      <td>0</td>\n",
       "    </tr>\n",
       "    <tr>\n",
       "      <td>4</td>\n",
       "      <td>5</td>\n",
       "      <td>15737888</td>\n",
       "      <td>Mitchell</td>\n",
       "      <td>850</td>\n",
       "      <td>Spain</td>\n",
       "      <td>Female</td>\n",
       "      <td>43</td>\n",
       "      <td>2.0</td>\n",
       "      <td>125510.82</td>\n",
       "      <td>1</td>\n",
       "      <td>1</td>\n",
       "      <td>1</td>\n",
       "      <td>79084.10</td>\n",
       "      <td>0</td>\n",
       "    </tr>\n",
       "  </tbody>\n",
       "</table>\n",
       "</div>"
      ],
      "text/plain": [
       "   RowNumber  CustomerId   Surname  CreditScore Geography  Gender  Age  \\\n",
       "0          1    15634602  Hargrave          619    France  Female   42   \n",
       "1          2    15647311      Hill          608     Spain  Female   41   \n",
       "2          3    15619304      Onio          502    France  Female   42   \n",
       "3          4    15701354      Boni          699    France  Female   39   \n",
       "4          5    15737888  Mitchell          850     Spain  Female   43   \n",
       "\n",
       "   Tenure    Balance  NumOfProducts  HasCrCard  IsActiveMember  \\\n",
       "0     2.0       0.00              1          1               1   \n",
       "1     1.0   83807.86              1          0               1   \n",
       "2     8.0  159660.80              3          1               0   \n",
       "3     1.0       0.00              2          0               0   \n",
       "4     2.0  125510.82              1          1               1   \n",
       "\n",
       "   EstimatedSalary  Exited  \n",
       "0        101348.88       1  \n",
       "1        112542.58       0  \n",
       "2        113931.57       1  \n",
       "3         93826.63       0  \n",
       "4         79084.10       0  "
      ]
     },
     "execution_count": 1,
     "metadata": {},
     "output_type": "execute_result"
    }
   ],
   "source": [
    "import pandas as pd\n",
    "\n",
    "data = pd.read_csv('/datasets/Churn.csv')\n",
    "\n",
    "data.info()\n",
    "data.head()"
   ]
  },
  {
   "cell_type": "markdown",
   "metadata": {},
   "source": [
    "Входные данные представляют собой таблицу, в которой каждая строка - наблюдение за одним из клиентов банка по 14 признакам.\n",
    "\n",
    "Признаки:\n",
    "- RowNumber — индекс строки в данных\n",
    "- CustomerId — уникальный идентификатор клиента\n",
    "- Surname — фамилия\n",
    "- CreditScore — кредитный рейтинг\n",
    "- Geography — страна проживания\n",
    "- Gender — пол\n",
    "- Age — возраст\n",
    "- Tenure — сколько лет человек является клиентом банка\n",
    "- Balance — баланс на счёте\n",
    "- NumOfProducts — количество продуктов банка, используемых клиентом\n",
    "- HasCrCard — наличие кредитной карты\n",
    "- IsActiveMember — активность клиента\n",
    "- EstimatedSalary — предполагаемая зарплата\n",
    "\n",
    "Целевой признак:\n",
    "- Exited — факт ухода клиента"
   ]
  },
  {
   "cell_type": "markdown",
   "metadata": {},
   "source": [
    "<a id=\"del\"></a>\n",
    "## Удаление ненужных столбцов\n",
    "\n",
    "В таблице есть два столбца, которые не несут никакой полезной информации для модели: *RowNumber* просто дублирует индекс строки, *CustomerId* и *Surname* - по сути по-разному записанные имена клиентов, уж точно никак не влияют на уход клиента из банка. Поэтому удалим эти столбцы."
   ]
  },
  {
   "cell_type": "code",
   "execution_count": 2,
   "metadata": {},
   "outputs": [
    {
     "data": {
      "text/html": [
       "<div>\n",
       "<style scoped>\n",
       "    .dataframe tbody tr th:only-of-type {\n",
       "        vertical-align: middle;\n",
       "    }\n",
       "\n",
       "    .dataframe tbody tr th {\n",
       "        vertical-align: top;\n",
       "    }\n",
       "\n",
       "    .dataframe thead th {\n",
       "        text-align: right;\n",
       "    }\n",
       "</style>\n",
       "<table border=\"1\" class=\"dataframe\">\n",
       "  <thead>\n",
       "    <tr style=\"text-align: right;\">\n",
       "      <th></th>\n",
       "      <th>CreditScore</th>\n",
       "      <th>Geography</th>\n",
       "      <th>Gender</th>\n",
       "      <th>Age</th>\n",
       "      <th>Tenure</th>\n",
       "      <th>Balance</th>\n",
       "      <th>NumOfProducts</th>\n",
       "      <th>HasCrCard</th>\n",
       "      <th>IsActiveMember</th>\n",
       "      <th>EstimatedSalary</th>\n",
       "      <th>Exited</th>\n",
       "    </tr>\n",
       "  </thead>\n",
       "  <tbody>\n",
       "    <tr>\n",
       "      <td>0</td>\n",
       "      <td>619</td>\n",
       "      <td>France</td>\n",
       "      <td>Female</td>\n",
       "      <td>42</td>\n",
       "      <td>2.0</td>\n",
       "      <td>0.00</td>\n",
       "      <td>1</td>\n",
       "      <td>1</td>\n",
       "      <td>1</td>\n",
       "      <td>101348.88</td>\n",
       "      <td>1</td>\n",
       "    </tr>\n",
       "    <tr>\n",
       "      <td>1</td>\n",
       "      <td>608</td>\n",
       "      <td>Spain</td>\n",
       "      <td>Female</td>\n",
       "      <td>41</td>\n",
       "      <td>1.0</td>\n",
       "      <td>83807.86</td>\n",
       "      <td>1</td>\n",
       "      <td>0</td>\n",
       "      <td>1</td>\n",
       "      <td>112542.58</td>\n",
       "      <td>0</td>\n",
       "    </tr>\n",
       "    <tr>\n",
       "      <td>2</td>\n",
       "      <td>502</td>\n",
       "      <td>France</td>\n",
       "      <td>Female</td>\n",
       "      <td>42</td>\n",
       "      <td>8.0</td>\n",
       "      <td>159660.80</td>\n",
       "      <td>3</td>\n",
       "      <td>1</td>\n",
       "      <td>0</td>\n",
       "      <td>113931.57</td>\n",
       "      <td>1</td>\n",
       "    </tr>\n",
       "    <tr>\n",
       "      <td>3</td>\n",
       "      <td>699</td>\n",
       "      <td>France</td>\n",
       "      <td>Female</td>\n",
       "      <td>39</td>\n",
       "      <td>1.0</td>\n",
       "      <td>0.00</td>\n",
       "      <td>2</td>\n",
       "      <td>0</td>\n",
       "      <td>0</td>\n",
       "      <td>93826.63</td>\n",
       "      <td>0</td>\n",
       "    </tr>\n",
       "    <tr>\n",
       "      <td>4</td>\n",
       "      <td>850</td>\n",
       "      <td>Spain</td>\n",
       "      <td>Female</td>\n",
       "      <td>43</td>\n",
       "      <td>2.0</td>\n",
       "      <td>125510.82</td>\n",
       "      <td>1</td>\n",
       "      <td>1</td>\n",
       "      <td>1</td>\n",
       "      <td>79084.10</td>\n",
       "      <td>0</td>\n",
       "    </tr>\n",
       "  </tbody>\n",
       "</table>\n",
       "</div>"
      ],
      "text/plain": [
       "   CreditScore Geography  Gender  Age  Tenure    Balance  NumOfProducts  \\\n",
       "0          619    France  Female   42     2.0       0.00              1   \n",
       "1          608     Spain  Female   41     1.0   83807.86              1   \n",
       "2          502    France  Female   42     8.0  159660.80              3   \n",
       "3          699    France  Female   39     1.0       0.00              2   \n",
       "4          850     Spain  Female   43     2.0  125510.82              1   \n",
       "\n",
       "   HasCrCard  IsActiveMember  EstimatedSalary  Exited  \n",
       "0          1               1        101348.88       1  \n",
       "1          0               1        112542.58       0  \n",
       "2          1               0        113931.57       1  \n",
       "3          0               0         93826.63       0  \n",
       "4          1               1         79084.10       0  "
      ]
     },
     "execution_count": 2,
     "metadata": {},
     "output_type": "execute_result"
    }
   ],
   "source": [
    "data = data.drop(['RowNumber', 'CustomerId', 'Surname'], axis=1)\n",
    "data.head()"
   ]
  },
  {
   "cell_type": "markdown",
   "metadata": {},
   "source": [
    "<a id=\"fillna\"></a>\n",
    "## Замена пропусков"
   ]
  },
  {
   "cell_type": "markdown",
   "metadata": {},
   "source": [
    "В столбце *Tenure* присутствуют пропуски. Их около 10%, поэтому удаление такой части данных будет неразумно. Заменим пропуски медианой. Такой подход учитывает имеющиеся данные и усредняет их."
   ]
  },
  {
   "cell_type": "code",
   "execution_count": 3,
   "metadata": {},
   "outputs": [
    {
     "data": {
      "text/plain": [
       "0"
      ]
     },
     "execution_count": 3,
     "metadata": {},
     "output_type": "execute_result"
    }
   ],
   "source": [
    "data['Tenure'] = data['Tenure'].fillna(data['Tenure'].median())\n",
    "#заодно приведем столбец к более читаемому виду\n",
    "data['Tenure'] = data['Tenure'].astype('int')\n",
    "\n",
    "#проверим, что пропусков не осталось\n",
    "data['Tenure'].isna().sum()"
   ]
  },
  {
   "cell_type": "markdown",
   "metadata": {},
   "source": [
    "<a id=\"vibros\"></a>\n",
    "## Проверка на выбросы\n",
    "\n",
    "В количественных признаках возможно существуют выбросы. Их точно стоит проверить. Для этого посмотрим общую информацию о признаках и их распределения."
   ]
  },
  {
   "cell_type": "code",
   "execution_count": 4,
   "metadata": {},
   "outputs": [
    {
     "data": {
      "text/html": [
       "<div>\n",
       "<style scoped>\n",
       "    .dataframe tbody tr th:only-of-type {\n",
       "        vertical-align: middle;\n",
       "    }\n",
       "\n",
       "    .dataframe tbody tr th {\n",
       "        vertical-align: top;\n",
       "    }\n",
       "\n",
       "    .dataframe thead th {\n",
       "        text-align: right;\n",
       "    }\n",
       "</style>\n",
       "<table border=\"1\" class=\"dataframe\">\n",
       "  <thead>\n",
       "    <tr style=\"text-align: right;\">\n",
       "      <th></th>\n",
       "      <th>CreditScore</th>\n",
       "      <th>Age</th>\n",
       "      <th>Tenure</th>\n",
       "      <th>Balance</th>\n",
       "      <th>NumOfProducts</th>\n",
       "      <th>HasCrCard</th>\n",
       "      <th>IsActiveMember</th>\n",
       "      <th>EstimatedSalary</th>\n",
       "      <th>Exited</th>\n",
       "    </tr>\n",
       "  </thead>\n",
       "  <tbody>\n",
       "    <tr>\n",
       "      <td>count</td>\n",
       "      <td>10000.000000</td>\n",
       "      <td>10000.000000</td>\n",
       "      <td>10000.00000</td>\n",
       "      <td>10000.000000</td>\n",
       "      <td>10000.000000</td>\n",
       "      <td>10000.00000</td>\n",
       "      <td>10000.000000</td>\n",
       "      <td>10000.000000</td>\n",
       "      <td>10000.000000</td>\n",
       "    </tr>\n",
       "    <tr>\n",
       "      <td>mean</td>\n",
       "      <td>650.528800</td>\n",
       "      <td>38.921800</td>\n",
       "      <td>4.99790</td>\n",
       "      <td>76485.889288</td>\n",
       "      <td>1.530200</td>\n",
       "      <td>0.70550</td>\n",
       "      <td>0.515100</td>\n",
       "      <td>100090.239881</td>\n",
       "      <td>0.203700</td>\n",
       "    </tr>\n",
       "    <tr>\n",
       "      <td>std</td>\n",
       "      <td>96.653299</td>\n",
       "      <td>10.487806</td>\n",
       "      <td>2.76001</td>\n",
       "      <td>62397.405202</td>\n",
       "      <td>0.581654</td>\n",
       "      <td>0.45584</td>\n",
       "      <td>0.499797</td>\n",
       "      <td>57510.492818</td>\n",
       "      <td>0.402769</td>\n",
       "    </tr>\n",
       "    <tr>\n",
       "      <td>min</td>\n",
       "      <td>350.000000</td>\n",
       "      <td>18.000000</td>\n",
       "      <td>0.00000</td>\n",
       "      <td>0.000000</td>\n",
       "      <td>1.000000</td>\n",
       "      <td>0.00000</td>\n",
       "      <td>0.000000</td>\n",
       "      <td>11.580000</td>\n",
       "      <td>0.000000</td>\n",
       "    </tr>\n",
       "    <tr>\n",
       "      <td>25%</td>\n",
       "      <td>584.000000</td>\n",
       "      <td>32.000000</td>\n",
       "      <td>3.00000</td>\n",
       "      <td>0.000000</td>\n",
       "      <td>1.000000</td>\n",
       "      <td>0.00000</td>\n",
       "      <td>0.000000</td>\n",
       "      <td>51002.110000</td>\n",
       "      <td>0.000000</td>\n",
       "    </tr>\n",
       "    <tr>\n",
       "      <td>50%</td>\n",
       "      <td>652.000000</td>\n",
       "      <td>37.000000</td>\n",
       "      <td>5.00000</td>\n",
       "      <td>97198.540000</td>\n",
       "      <td>1.000000</td>\n",
       "      <td>1.00000</td>\n",
       "      <td>1.000000</td>\n",
       "      <td>100193.915000</td>\n",
       "      <td>0.000000</td>\n",
       "    </tr>\n",
       "    <tr>\n",
       "      <td>75%</td>\n",
       "      <td>718.000000</td>\n",
       "      <td>44.000000</td>\n",
       "      <td>7.00000</td>\n",
       "      <td>127644.240000</td>\n",
       "      <td>2.000000</td>\n",
       "      <td>1.00000</td>\n",
       "      <td>1.000000</td>\n",
       "      <td>149388.247500</td>\n",
       "      <td>0.000000</td>\n",
       "    </tr>\n",
       "    <tr>\n",
       "      <td>max</td>\n",
       "      <td>850.000000</td>\n",
       "      <td>92.000000</td>\n",
       "      <td>10.00000</td>\n",
       "      <td>250898.090000</td>\n",
       "      <td>4.000000</td>\n",
       "      <td>1.00000</td>\n",
       "      <td>1.000000</td>\n",
       "      <td>199992.480000</td>\n",
       "      <td>1.000000</td>\n",
       "    </tr>\n",
       "  </tbody>\n",
       "</table>\n",
       "</div>"
      ],
      "text/plain": [
       "        CreditScore           Age       Tenure        Balance  NumOfProducts  \\\n",
       "count  10000.000000  10000.000000  10000.00000   10000.000000   10000.000000   \n",
       "mean     650.528800     38.921800      4.99790   76485.889288       1.530200   \n",
       "std       96.653299     10.487806      2.76001   62397.405202       0.581654   \n",
       "min      350.000000     18.000000      0.00000       0.000000       1.000000   \n",
       "25%      584.000000     32.000000      3.00000       0.000000       1.000000   \n",
       "50%      652.000000     37.000000      5.00000   97198.540000       1.000000   \n",
       "75%      718.000000     44.000000      7.00000  127644.240000       2.000000   \n",
       "max      850.000000     92.000000     10.00000  250898.090000       4.000000   \n",
       "\n",
       "         HasCrCard  IsActiveMember  EstimatedSalary        Exited  \n",
       "count  10000.00000    10000.000000     10000.000000  10000.000000  \n",
       "mean       0.70550        0.515100    100090.239881      0.203700  \n",
       "std        0.45584        0.499797     57510.492818      0.402769  \n",
       "min        0.00000        0.000000        11.580000      0.000000  \n",
       "25%        0.00000        0.000000     51002.110000      0.000000  \n",
       "50%        1.00000        1.000000    100193.915000      0.000000  \n",
       "75%        1.00000        1.000000    149388.247500      0.000000  \n",
       "max        1.00000        1.000000    199992.480000      1.000000  "
      ]
     },
     "execution_count": 4,
     "metadata": {},
     "output_type": "execute_result"
    }
   ],
   "source": [
    "quantitative = ['CreditScore', 'Age', 'Tenure', 'Balance', 'NumOfProducts', 'EstimatedSalary']\n",
    "\n",
    "data.describe()"
   ]
  },
  {
   "cell_type": "code",
   "execution_count": 5,
   "metadata": {},
   "outputs": [
    {
     "data": {
      "image/png": "[encoded data removed]",
      "text/plain": [
       "<Figure size 1080x720 with 6 Axes>"
      ]
     },
     "metadata": {},
     "output_type": "display_data"
    }
   ],
   "source": [
    "import matplotlib.pyplot as plt\n",
    "import seaborn as sns\n",
    "\n",
    "sns.set_style('darkgrid')\n",
    "\n",
    "clm = ['CreditScore', 'Age', 'Tenure', 'Balance', 'NumOfProducts', 'EstimatedSalary']\n",
    "data[clm].hist(bins=30, figsize=(15, 10))\n",
    "plt.show()"
   ]
  },
  {
   "cell_type": "markdown",
   "metadata": {},
   "source": [
    "В целом все значения в пределах разумного.\n",
    "\n",
    "По возрасту: самому младшему кллиенту 18, а значит он совершеннолетний и уже может пользоваться услугами банка. Самому старшему - 92, это не выходит за рамки возможного.\n",
    "\n",
    "Баланс на счете вообще распределен нормально, не учитывая пика в нуле. В данной задаче это не похоже на выброс. Так как нулевой баланс может быть сигналом, что человек вскоре перестанет пользоваться услугами банка.\n",
    "\n",
    "Во всех остальных признаках тоже нет аномальных значений. А значит выбросы в данны отсутствуют"
   ]
  },
  {
   "cell_type": "markdown",
   "metadata": {},
   "source": [
    "<a id=\"ohe\"></a>\n",
    "## Прямое кодирование *OHE*\n",
    "\n",
    "Так как многие алгоритмы машинного обучение не умеют работать с объектами типа *object*, то преобразуем подобные столбцы в нашей таблице техникой прямого кодирования."
   ]
  },
  {
   "cell_type": "code",
   "execution_count": 6,
   "metadata": {},
   "outputs": [
    {
     "data": {
      "text/html": [
       "<div>\n",
       "<style scoped>\n",
       "    .dataframe tbody tr th:only-of-type {\n",
       "        vertical-align: middle;\n",
       "    }\n",
       "\n",
       "    .dataframe tbody tr th {\n",
       "        vertical-align: top;\n",
       "    }\n",
       "\n",
       "    .dataframe thead th {\n",
       "        text-align: right;\n",
       "    }\n",
       "</style>\n",
       "<table border=\"1\" class=\"dataframe\">\n",
       "  <thead>\n",
       "    <tr style=\"text-align: right;\">\n",
       "      <th></th>\n",
       "      <th>CreditScore</th>\n",
       "      <th>Age</th>\n",
       "      <th>Tenure</th>\n",
       "      <th>Balance</th>\n",
       "      <th>NumOfProducts</th>\n",
       "      <th>HasCrCard</th>\n",
       "      <th>IsActiveMember</th>\n",
       "      <th>EstimatedSalary</th>\n",
       "      <th>Exited</th>\n",
       "      <th>Geography_Germany</th>\n",
       "      <th>Geography_Spain</th>\n",
       "      <th>Gender_Male</th>\n",
       "    </tr>\n",
       "  </thead>\n",
       "  <tbody>\n",
       "    <tr>\n",
       "      <td>0</td>\n",
       "      <td>619</td>\n",
       "      <td>42</td>\n",
       "      <td>2</td>\n",
       "      <td>0.00</td>\n",
       "      <td>1</td>\n",
       "      <td>1</td>\n",
       "      <td>1</td>\n",
       "      <td>101348.88</td>\n",
       "      <td>1</td>\n",
       "      <td>0</td>\n",
       "      <td>0</td>\n",
       "      <td>0</td>\n",
       "    </tr>\n",
       "    <tr>\n",
       "      <td>1</td>\n",
       "      <td>608</td>\n",
       "      <td>41</td>\n",
       "      <td>1</td>\n",
       "      <td>83807.86</td>\n",
       "      <td>1</td>\n",
       "      <td>0</td>\n",
       "      <td>1</td>\n",
       "      <td>112542.58</td>\n",
       "      <td>0</td>\n",
       "      <td>0</td>\n",
       "      <td>1</td>\n",
       "      <td>0</td>\n",
       "    </tr>\n",
       "    <tr>\n",
       "      <td>2</td>\n",
       "      <td>502</td>\n",
       "      <td>42</td>\n",
       "      <td>8</td>\n",
       "      <td>159660.80</td>\n",
       "      <td>3</td>\n",
       "      <td>1</td>\n",
       "      <td>0</td>\n",
       "      <td>113931.57</td>\n",
       "      <td>1</td>\n",
       "      <td>0</td>\n",
       "      <td>0</td>\n",
       "      <td>0</td>\n",
       "    </tr>\n",
       "    <tr>\n",
       "      <td>3</td>\n",
       "      <td>699</td>\n",
       "      <td>39</td>\n",
       "      <td>1</td>\n",
       "      <td>0.00</td>\n",
       "      <td>2</td>\n",
       "      <td>0</td>\n",
       "      <td>0</td>\n",
       "      <td>93826.63</td>\n",
       "      <td>0</td>\n",
       "      <td>0</td>\n",
       "      <td>0</td>\n",
       "      <td>0</td>\n",
       "    </tr>\n",
       "    <tr>\n",
       "      <td>4</td>\n",
       "      <td>850</td>\n",
       "      <td>43</td>\n",
       "      <td>2</td>\n",
       "      <td>125510.82</td>\n",
       "      <td>1</td>\n",
       "      <td>1</td>\n",
       "      <td>1</td>\n",
       "      <td>79084.10</td>\n",
       "      <td>0</td>\n",
       "      <td>0</td>\n",
       "      <td>1</td>\n",
       "      <td>0</td>\n",
       "    </tr>\n",
       "  </tbody>\n",
       "</table>\n",
       "</div>"
      ],
      "text/plain": [
       "   CreditScore  Age  Tenure    Balance  NumOfProducts  HasCrCard  \\\n",
       "0          619   42       2       0.00              1          1   \n",
       "1          608   41       1   83807.86              1          0   \n",
       "2          502   42       8  159660.80              3          1   \n",
       "3          699   39       1       0.00              2          0   \n",
       "4          850   43       2  125510.82              1          1   \n",
       "\n",
       "   IsActiveMember  EstimatedSalary  Exited  Geography_Germany  \\\n",
       "0               1        101348.88       1                  0   \n",
       "1               1        112542.58       0                  0   \n",
       "2               0        113931.57       1                  0   \n",
       "3               0         93826.63       0                  0   \n",
       "4               1         79084.10       0                  0   \n",
       "\n",
       "   Geography_Spain  Gender_Male  \n",
       "0                0            0  \n",
       "1                1            0  \n",
       "2                0            0  \n",
       "3                0            0  \n",
       "4                1            0  "
      ]
     },
     "execution_count": 6,
     "metadata": {},
     "output_type": "execute_result"
    }
   ],
   "source": [
    "categorial = ['Geography', 'Gender']\n",
    "#укажем параметр drop_first=True, чтобы не перегружать модель лишним столбцом\n",
    "data = pd.get_dummies(data, columns=categorial, drop_first=True)\n",
    "#посмотрим на новые столбцы\n",
    "data.head()"
   ]
  },
  {
   "cell_type": "markdown",
   "metadata": {},
   "source": [
    "<a id=\"corr\"></a>\n",
    "## Корреляция признаков \n",
    "\n",
    "Сильно коррелирующие между собой признаки будут усложнять обучение модели. Проверим как коррелируеют признаки."
   ]
  },
  {
   "cell_type": "code",
   "execution_count": 7,
   "metadata": {},
   "outputs": [
    {
     "data": {
      "text/html": [
       "<div>\n",
       "<style scoped>\n",
       "    .dataframe tbody tr th:only-of-type {\n",
       "        vertical-align: middle;\n",
       "    }\n",
       "\n",
       "    .dataframe tbody tr th {\n",
       "        vertical-align: top;\n",
       "    }\n",
       "\n",
       "    .dataframe thead th {\n",
       "        text-align: right;\n",
       "    }\n",
       "</style>\n",
       "<table border=\"1\" class=\"dataframe\">\n",
       "  <thead>\n",
       "    <tr style=\"text-align: right;\">\n",
       "      <th></th>\n",
       "      <th>CreditScore</th>\n",
       "      <th>Age</th>\n",
       "      <th>Tenure</th>\n",
       "      <th>Balance</th>\n",
       "      <th>NumOfProducts</th>\n",
       "      <th>HasCrCard</th>\n",
       "      <th>IsActiveMember</th>\n",
       "      <th>EstimatedSalary</th>\n",
       "      <th>Exited</th>\n",
       "      <th>Geography_Germany</th>\n",
       "      <th>Geography_Spain</th>\n",
       "      <th>Gender_Male</th>\n",
       "    </tr>\n",
       "  </thead>\n",
       "  <tbody>\n",
       "    <tr>\n",
       "      <td>CreditScore</td>\n",
       "      <td>1.000000</td>\n",
       "      <td>-0.003965</td>\n",
       "      <td>-0.000060</td>\n",
       "      <td>0.006268</td>\n",
       "      <td>0.012238</td>\n",
       "      <td>-0.005458</td>\n",
       "      <td>0.025651</td>\n",
       "      <td>-0.001384</td>\n",
       "      <td>-0.027094</td>\n",
       "      <td>0.005538</td>\n",
       "      <td>0.004780</td>\n",
       "      <td>-0.002857</td>\n",
       "    </tr>\n",
       "    <tr>\n",
       "      <td>Age</td>\n",
       "      <td>-0.003965</td>\n",
       "      <td>1.000000</td>\n",
       "      <td>-0.012606</td>\n",
       "      <td>0.028308</td>\n",
       "      <td>-0.030680</td>\n",
       "      <td>-0.011721</td>\n",
       "      <td>0.085472</td>\n",
       "      <td>-0.007201</td>\n",
       "      <td>0.285323</td>\n",
       "      <td>0.046897</td>\n",
       "      <td>-0.001685</td>\n",
       "      <td>-0.027544</td>\n",
       "    </tr>\n",
       "    <tr>\n",
       "      <td>Tenure</td>\n",
       "      <td>-0.000060</td>\n",
       "      <td>-0.012606</td>\n",
       "      <td>1.000000</td>\n",
       "      <td>-0.007535</td>\n",
       "      <td>0.011409</td>\n",
       "      <td>0.025979</td>\n",
       "      <td>-0.030681</td>\n",
       "      <td>0.010049</td>\n",
       "      <td>-0.015989</td>\n",
       "      <td>-0.003153</td>\n",
       "      <td>0.000772</td>\n",
       "      <td>0.012041</td>\n",
       "    </tr>\n",
       "    <tr>\n",
       "      <td>Balance</td>\n",
       "      <td>0.006268</td>\n",
       "      <td>0.028308</td>\n",
       "      <td>-0.007535</td>\n",
       "      <td>1.000000</td>\n",
       "      <td>-0.304180</td>\n",
       "      <td>-0.014858</td>\n",
       "      <td>-0.010084</td>\n",
       "      <td>0.012797</td>\n",
       "      <td>0.118533</td>\n",
       "      <td>0.401110</td>\n",
       "      <td>-0.134892</td>\n",
       "      <td>0.012087</td>\n",
       "    </tr>\n",
       "    <tr>\n",
       "      <td>NumOfProducts</td>\n",
       "      <td>0.012238</td>\n",
       "      <td>-0.030680</td>\n",
       "      <td>0.011409</td>\n",
       "      <td>-0.304180</td>\n",
       "      <td>1.000000</td>\n",
       "      <td>0.003183</td>\n",
       "      <td>0.009612</td>\n",
       "      <td>0.014204</td>\n",
       "      <td>-0.047820</td>\n",
       "      <td>-0.010419</td>\n",
       "      <td>0.009039</td>\n",
       "      <td>-0.021859</td>\n",
       "    </tr>\n",
       "    <tr>\n",
       "      <td>HasCrCard</td>\n",
       "      <td>-0.005458</td>\n",
       "      <td>-0.011721</td>\n",
       "      <td>0.025979</td>\n",
       "      <td>-0.014858</td>\n",
       "      <td>0.003183</td>\n",
       "      <td>1.000000</td>\n",
       "      <td>-0.011866</td>\n",
       "      <td>-0.009933</td>\n",
       "      <td>-0.007138</td>\n",
       "      <td>0.010577</td>\n",
       "      <td>-0.013480</td>\n",
       "      <td>0.005766</td>\n",
       "    </tr>\n",
       "    <tr>\n",
       "      <td>IsActiveMember</td>\n",
       "      <td>0.025651</td>\n",
       "      <td>0.085472</td>\n",
       "      <td>-0.030681</td>\n",
       "      <td>-0.010084</td>\n",
       "      <td>0.009612</td>\n",
       "      <td>-0.011866</td>\n",
       "      <td>1.000000</td>\n",
       "      <td>-0.011421</td>\n",
       "      <td>-0.156128</td>\n",
       "      <td>-0.020486</td>\n",
       "      <td>0.016732</td>\n",
       "      <td>0.022544</td>\n",
       "    </tr>\n",
       "    <tr>\n",
       "      <td>EstimatedSalary</td>\n",
       "      <td>-0.001384</td>\n",
       "      <td>-0.007201</td>\n",
       "      <td>0.010049</td>\n",
       "      <td>0.012797</td>\n",
       "      <td>0.014204</td>\n",
       "      <td>-0.009933</td>\n",
       "      <td>-0.011421</td>\n",
       "      <td>1.000000</td>\n",
       "      <td>0.012097</td>\n",
       "      <td>0.010297</td>\n",
       "      <td>-0.006482</td>\n",
       "      <td>-0.008112</td>\n",
       "    </tr>\n",
       "    <tr>\n",
       "      <td>Exited</td>\n",
       "      <td>-0.027094</td>\n",
       "      <td>0.285323</td>\n",
       "      <td>-0.015989</td>\n",
       "      <td>0.118533</td>\n",
       "      <td>-0.047820</td>\n",
       "      <td>-0.007138</td>\n",
       "      <td>-0.156128</td>\n",
       "      <td>0.012097</td>\n",
       "      <td>1.000000</td>\n",
       "      <td>0.173488</td>\n",
       "      <td>-0.052667</td>\n",
       "      <td>-0.106512</td>\n",
       "    </tr>\n",
       "    <tr>\n",
       "      <td>Geography_Germany</td>\n",
       "      <td>0.005538</td>\n",
       "      <td>0.046897</td>\n",
       "      <td>-0.003153</td>\n",
       "      <td>0.401110</td>\n",
       "      <td>-0.010419</td>\n",
       "      <td>0.010577</td>\n",
       "      <td>-0.020486</td>\n",
       "      <td>0.010297</td>\n",
       "      <td>0.173488</td>\n",
       "      <td>1.000000</td>\n",
       "      <td>-0.332084</td>\n",
       "      <td>-0.024628</td>\n",
       "    </tr>\n",
       "    <tr>\n",
       "      <td>Geography_Spain</td>\n",
       "      <td>0.004780</td>\n",
       "      <td>-0.001685</td>\n",
       "      <td>0.000772</td>\n",
       "      <td>-0.134892</td>\n",
       "      <td>0.009039</td>\n",
       "      <td>-0.013480</td>\n",
       "      <td>0.016732</td>\n",
       "      <td>-0.006482</td>\n",
       "      <td>-0.052667</td>\n",
       "      <td>-0.332084</td>\n",
       "      <td>1.000000</td>\n",
       "      <td>0.016889</td>\n",
       "    </tr>\n",
       "    <tr>\n",
       "      <td>Gender_Male</td>\n",
       "      <td>-0.002857</td>\n",
       "      <td>-0.027544</td>\n",
       "      <td>0.012041</td>\n",
       "      <td>0.012087</td>\n",
       "      <td>-0.021859</td>\n",
       "      <td>0.005766</td>\n",
       "      <td>0.022544</td>\n",
       "      <td>-0.008112</td>\n",
       "      <td>-0.106512</td>\n",
       "      <td>-0.024628</td>\n",
       "      <td>0.016889</td>\n",
       "      <td>1.000000</td>\n",
       "    </tr>\n",
       "  </tbody>\n",
       "</table>\n",
       "</div>"
      ],
      "text/plain": [
       "                   CreditScore       Age    Tenure   Balance  NumOfProducts  \\\n",
       "CreditScore           1.000000 -0.003965 -0.000060  0.006268       0.012238   \n",
       "Age                  -0.003965  1.000000 -0.012606  0.028308      -0.030680   \n",
       "Tenure               -0.000060 -0.012606  1.000000 -0.007535       0.011409   \n",
       "Balance               0.006268  0.028308 -0.007535  1.000000      -0.304180   \n",
       "NumOfProducts         0.012238 -0.030680  0.011409 -0.304180       1.000000   \n",
       "HasCrCard            -0.005458 -0.011721  0.025979 -0.014858       0.003183   \n",
       "IsActiveMember        0.025651  0.085472 -0.030681 -0.010084       0.009612   \n",
       "EstimatedSalary      -0.001384 -0.007201  0.010049  0.012797       0.014204   \n",
       "Exited               -0.027094  0.285323 -0.015989  0.118533      -0.047820   \n",
       "Geography_Germany     0.005538  0.046897 -0.003153  0.401110      -0.010419   \n",
       "Geography_Spain       0.004780 -0.001685  0.000772 -0.134892       0.009039   \n",
       "Gender_Male          -0.002857 -0.027544  0.012041  0.012087      -0.021859   \n",
       "\n",
       "                   HasCrCard  IsActiveMember  EstimatedSalary    Exited  \\\n",
       "CreditScore        -0.005458        0.025651        -0.001384 -0.027094   \n",
       "Age                -0.011721        0.085472        -0.007201  0.285323   \n",
       "Tenure              0.025979       -0.030681         0.010049 -0.015989   \n",
       "Balance            -0.014858       -0.010084         0.012797  0.118533   \n",
       "NumOfProducts       0.003183        0.009612         0.014204 -0.047820   \n",
       "HasCrCard           1.000000       -0.011866        -0.009933 -0.007138   \n",
       "IsActiveMember     -0.011866        1.000000        -0.011421 -0.156128   \n",
       "EstimatedSalary    -0.009933       -0.011421         1.000000  0.012097   \n",
       "Exited             -0.007138       -0.156128         0.012097  1.000000   \n",
       "Geography_Germany   0.010577       -0.020486         0.010297  0.173488   \n",
       "Geography_Spain    -0.013480        0.016732        -0.006482 -0.052667   \n",
       "Gender_Male         0.005766        0.022544        -0.008112 -0.106512   \n",
       "\n",
       "                   Geography_Germany  Geography_Spain  Gender_Male  \n",
       "CreditScore                 0.005538         0.004780    -0.002857  \n",
       "Age                         0.046897        -0.001685    -0.027544  \n",
       "Tenure                     -0.003153         0.000772     0.012041  \n",
       "Balance                     0.401110        -0.134892     0.012087  \n",
       "NumOfProducts              -0.010419         0.009039    -0.021859  \n",
       "HasCrCard                   0.010577        -0.013480     0.005766  \n",
       "IsActiveMember             -0.020486         0.016732     0.022544  \n",
       "EstimatedSalary             0.010297        -0.006482    -0.008112  \n",
       "Exited                      0.173488        -0.052667    -0.106512  \n",
       "Geography_Germany           1.000000        -0.332084    -0.024628  \n",
       "Geography_Spain            -0.332084         1.000000     0.016889  \n",
       "Gender_Male                -0.024628         0.016889     1.000000  "
      ]
     },
     "execution_count": 7,
     "metadata": {},
     "output_type": "execute_result"
    }
   ],
   "source": [
    "data.corr()"
   ]
  },
  {
   "cell_type": "markdown",
   "metadata": {},
   "source": [
    "Максимальная корреляция достигает 0.4 . Это очень слабый показатель поэтому мы оставляем все признаки."
   ]
  },
  {
   "cell_type": "markdown",
   "metadata": {},
   "source": [
    "<a id=\"sepp\"></a>\n",
    "## Разделение данных\n",
    "\n",
    "Разделим данные на обучающую, валидационную и тестовые выборки."
   ]
  },
  {
   "cell_type": "code",
   "execution_count": 8,
   "metadata": {},
   "outputs": [],
   "source": [
    "from sklearn.model_selection import train_test_split\n",
    "\n",
    "#разделим в пропорции 60:20:20\n",
    "train, other = train_test_split(data, test_size=0.4, random_state=5, stratify=data['Exited'])\n",
    "valid, test = train_test_split(other, test_size=0.5, random_state=5, stratify=other['Exited'])\n",
    "\n",
    "features_train = train.drop('Exited', axis=1)\n",
    "target_train = train['Exited']\n",
    "\n",
    "features_valid = valid.drop('Exited', axis=1)\n",
    "target_valid = valid['Exited']\n",
    "\n",
    "features_test = test.drop('Exited', axis=1)\n",
    "target_test = test['Exited']"
   ]
  },
  {
   "cell_type": "markdown",
   "metadata": {},
   "source": [
    "<a id=\"standrd\"></a>\n",
    "## Стандартизация данных\n",
    "\n",
    "В исследовании мы будем использовать модель логистической регресси, которая, в отличие от деревьев, чувствительна к разным масштабам количественных признаков - она может посчитать какие-то признаки более весомее, чем другие. Чтобы избежать подобного, стандартизируем данные."
   ]
  },
  {
   "cell_type": "code",
   "execution_count": 9,
   "metadata": {},
   "outputs": [],
   "source": [
    "from sklearn.preprocessing import StandardScaler\n",
    "pd.options.mode.chained_assignment=None\n",
    "\n",
    "#выделим количественные признаки\n",
    "numeric = ['CreditScore', 'Age', 'Tenure', 'Balance', 'NumOfProducts', 'EstimatedSalary']\n",
    "\n",
    "scaler = StandardScaler()\n",
    "#обучим на тренировочных данных\n",
    "scaler.fit(features_train[numeric])\n",
    "#стандартизируем численные признаки в признаках для обучения\n",
    "features_train[numeric] = scaler.transform(features_train[numeric])\n",
    "\n",
    "#сразу же стандартизируем и признаки валидационной и тестовой выборок\n",
    "features_valid[numeric] = scaler.transform(features_valid[numeric])\n",
    "features_test[numeric] = scaler.transform(features_test[numeric])\n"
   ]
  },
  {
   "cell_type": "markdown",
   "metadata": {},
   "source": [
    "<a id=\"ouput1\"></a>\n",
    "## Вывод:\n",
    "\n",
    "Нами были прочитаны данные и краткая информация о них. Затем подготовили данные для обучения моделей:\n",
    "- удалили ненужные столбцы\n",
    "- заполнили пропуски\n",
    "- проверили на выбросы\n",
    "- преобразовали данные в понятный для алгоритма формат\n",
    "- убедились, что нет сильно коррелирующих признаков\n",
    "- разделили данные на обучающую, валидационую и тестовую выборки\n",
    "\n",
    "Мы никак не обрабатывали столбцы HasCrCard и IsActiveMember. Данные в них представленны уже в удовлетворительном бинарном виде."
   ]
  },
  {
   "cell_type": "markdown",
   "metadata": {},
   "source": [
    "<a id=\"step2\"></a>\n",
    "# Исследование задачи\n",
    "<a id=\"balance\"></a>\n",
    "## Проверка баланса классов"
   ]
  },
  {
   "cell_type": "code",
   "execution_count": 10,
   "metadata": {},
   "outputs": [
    {
     "data": {
      "text/plain": [
       "0    0.796333\n",
       "1    0.203667\n",
       "Name: Exited, dtype: float64"
      ]
     },
     "execution_count": 10,
     "metadata": {},
     "output_type": "execute_result"
    }
   ],
   "source": [
    "target_train.value_counts(normalize=True)"
   ]
  },
  {
   "cell_type": "markdown",
   "metadata": {},
   "source": [
    "Результат показал, что классы находятся в дисбалансе.\n",
    "\n",
    "Посмотрим какие будут метрики качества, если оставить дисбаланс.\n",
    "\n",
    "Будем использовать три алгоритма машинного обучения: *решающее дерево*, *случаный лес* и *логиситческую регрессию*. Для сравнения моделей будем использовать две метрики качества: *F1-меру* и *AUC-ROC*."
   ]
  },
  {
   "cell_type": "markdown",
   "metadata": {},
   "source": [
    "<a id=\"tree\"></a>\n",
    "## Решающее дерево"
   ]
  },
  {
   "cell_type": "code",
   "execution_count": 11,
   "metadata": {},
   "outputs": [
    {
     "name": "stdout",
     "output_type": "stream",
     "text": [
      "Лучший результат F1 = 0.5714285714285714 | глубина = 8 | AUC-ROC = 0.8307089832513561\n"
     ]
    }
   ],
   "source": [
    "from sklearn.tree import DecisionTreeClassifier\n",
    "from sklearn.metrics import f1_score\n",
    "from sklearn.metrics import roc_auc_score\n",
    "\n",
    "best_f1 = 0\n",
    "#перебором найдем лучшую глубину дерева и выведем результат на экран\n",
    "for depth in range(2, 20):\n",
    "    model = DecisionTreeClassifier(max_depth=depth, random_state=5)\n",
    "    model.fit(features_train, target_train)\n",
    "    predictions = model.predict(features_valid)\n",
    "    \n",
    "    #посчитаем значение F1меры\n",
    "    f1 = f1_score(y_true = target_valid, y_pred = predictions)\n",
    "    \n",
    "    #теперь узнаем AUC-ROC: сначала посчитаем вероятности классов\n",
    "    proba = model.predict_proba(features_valid)\n",
    "    #выделим из них положительные \n",
    "    proba_one = proba[:, 1]\n",
    "    #и посчитаем саму метрику \n",
    "    auc_roc = roc_auc_score(target_valid, proba_one)\n",
    "    if f1 > best_f1:\n",
    "        best_f1 = f1\n",
    "        best_depth = depth\n",
    "        best_auc_roc = auc_roc\n",
    "\n",
    "print('Лучший результат F1 =', best_f1, '| глубина =', best_depth, '| AUC-ROC =', best_auc_roc)"
   ]
  },
  {
   "cell_type": "markdown",
   "metadata": {},
   "source": [
    "<a id=\"forest\"></a>\n",
    "## Случайный лес"
   ]
  },
  {
   "cell_type": "code",
   "execution_count": 12,
   "metadata": {},
   "outputs": [
    {
     "name": "stdout",
     "output_type": "stream",
     "text": [
      "Лучший результат F1 = 0.5882352941176471 | количество деревьев = 20 | глубина = 15 | AUC-ROC = 0.842372418643605\n"
     ]
    }
   ],
   "source": [
    "from sklearn.ensemble import RandomForestClassifier\n",
    "\n",
    "best_f1 = 0\n",
    "#циклом переберем гипермапареметры: количество решающих деревьев и глубину дерева, выведем параметры модели с лучшим результатом\n",
    "for estim in range(10, 111, 5):\n",
    "    for depth in range(5, 16):\n",
    "        model = RandomForestClassifier(n_estimators=estim, max_depth=depth, random_state=5)\n",
    "        model.fit(features_train, target_train)\n",
    "        predictions = model.predict(features_valid)\n",
    "        \n",
    "        f1 = f1_score(y_true = target_valid, y_pred = predictions)\n",
    "        \n",
    "        proba = model.predict_proba(features_valid)\n",
    "        proba_one = proba[:, 1]\n",
    "        auc_roc = roc_auc_score(target_valid, proba_one)\n",
    "        if f1 > best_f1:\n",
    "            best_f1 = f1\n",
    "            best_depth = depth\n",
    "            best_estim = estim\n",
    "            best_auc_roc = auc_roc\n",
    "            \n",
    "print('Лучший результат F1 =', best_f1, '| количество деревьев =', best_estim, '| глубина =', best_depth,\n",
    "      '| AUC-ROC =', best_auc_roc)"
   ]
  },
  {
   "cell_type": "markdown",
   "metadata": {},
   "source": [
    "<a id=\"logreg\"></a>\n",
    "## Логистическая регрессия"
   ]
  },
  {
   "cell_type": "code",
   "execution_count": 13,
   "metadata": {},
   "outputs": [
    {
     "name": "stdout",
     "output_type": "stream",
     "text": [
      "F1 = 0.29259259259259257 | AUC-ROC = 0.7772672518435231\n"
     ]
    }
   ],
   "source": [
    "from sklearn.linear_model import LogisticRegression\n",
    "\n",
    "model = LogisticRegression(solver='liblinear', random_state=5)\n",
    "model.fit(features_train, target_train)\n",
    "predictions = model.predict(features_valid)\n",
    "\n",
    "f1 = f1_score(y_true = target_valid, y_pred = predictions)\n",
    "\n",
    "proba = model.predict_proba(features_valid)\n",
    "proba_one = proba[:, 1]\n",
    "auc_roc = roc_auc_score(target_valid, proba_one)\n",
    "\n",
    "print('F1 =', f1, '| AUC-ROC =', auc_roc)"
   ]
  },
  {
   "cell_type": "markdown",
   "metadata": {},
   "source": [
    "<a id=\"ouput2\"></a>\n",
    "## Вывод:\n",
    "\n",
    "Мы выявили, что классы целевого признака находятся в дисбалансе - соотношение 8:2.\n",
    "\n",
    "Не изменяя баланса классов, мы протестировали на данных три вида алгоритмов машинного обучения: *решающее дерево*, *случаный лес* и *логиситческую регрессию*. Для решающего девера и случайного леса подобрали лучшие гиперпараметры. После вычислили значения метрик качества F1 и AUC-ROC.\n",
    "\n",
    "Каждая модель работает лучше чем случайная.\n",
    "\n",
    "**Лучшей моделью оказалась модель случаного леса с гиперпараметрами: количество деревьев = 90 и глубина = 13**. **Её метрики качества получились: F1 = 0.588, AUC-ROC = 0.84**.\n",
    "\n",
    "Немного хуже справилась модель решающего дерева: F1 = 0.571 | AUC-ROC = 0.83.\n",
    "Хуже всех показала себя логистическая регрессия: F1 = 0.293 | AUC-ROC = 0.78."
   ]
  },
  {
   "cell_type": "markdown",
   "metadata": {},
   "source": [
    "<a id=\"fight\"></a>\n",
    "# Борьба с дисбалансом"
   ]
  },
  {
   "cell_type": "markdown",
   "metadata": {},
   "source": [
    "Для упрощения работы напишем три функции, которые будут возвращать нам модели с лучшими результатами для каждого из выбранных алгоритмов."
   ]
  },
  {
   "cell_type": "code",
   "execution_count": 14,
   "metadata": {},
   "outputs": [],
   "source": [
    "def tree_results(features_train, target_train, features_valid, target_valid, clas_weight):\n",
    "    '''\n",
    "    функция подбора лучших гиперпараметров для алгоритма решающего дерева\n",
    "    функция перебирает разные глубины дерева решений и возвращает лучшую модель по метрике f1,\n",
    "    дополнительно возвращает параметры и AUC-ROC\n",
    "    '''\n",
    "    best_f1 = 0\n",
    "    for depth in range(1, 20):\n",
    "        model = DecisionTreeClassifier(max_depth=depth, random_state=5, class_weight=clas_weight)\n",
    "        model.fit(features_train, target_train)\n",
    "        predictions = model.predict(features_valid)\n",
    "        \n",
    "        f1 = f1_score(y_true = target_valid, y_pred = predictions)\n",
    "        \n",
    "        proba = model.predict_proba(features_valid)\n",
    "        proba_one = proba[:, 1]\n",
    "        auc_roc = roc_auc_score(target_valid, proba_one)\n",
    "        if f1 > best_f1:\n",
    "            best_f1 = f1\n",
    "            best_depth = depth\n",
    "            best_auc_roc = auc_roc\n",
    "    print('ДЕРЕВО РЕШЕНИЙ          | F1 =', best_f1, '| AUC-ROC =', best_auc_roc, '| глубина =', best_depth)\n",
    "#-----------------------------------------------------------------------------------------------------------------------\n",
    "def forest_results(features_train, target_train, features_valid, target_valid, clas_weight):\n",
    "    '''\n",
    "    функция подбора лучших гиперпараметров для алгоритма случайного леса\n",
    "    функция перебирает разные глубины дерева решений и количества решающих деревьев, и возвращает лучшую модель по метрике f1,\n",
    "    дополнительно возвращает параметры модели и AUC-ROC\n",
    "    '''\n",
    "    best_f1 = 0\n",
    "    for estim in range(30, 111, 5):\n",
    "        for depth in range(5, 16):\n",
    "            model = RandomForestClassifier(n_estimators=estim, max_depth=depth, random_state=5, class_weight=clas_weight)\n",
    "            model.fit(features_train, target_train)\n",
    "            predictions = model.predict(features_valid)\n",
    "            \n",
    "            f1 = f1_score(y_true = target_valid, y_pred = predictions)\n",
    "            \n",
    "            proba = model.predict_proba(features_valid)\n",
    "            proba_one = proba[:, 1]\n",
    "            auc_roc = roc_auc_score(target_valid, proba_one)\n",
    "            if f1 > best_f1:\n",
    "                best_f1 = f1\n",
    "                best_depth = depth\n",
    "                best_estim = estim\n",
    "                best_auc_roc = auc_roc      \n",
    "    print('СЛУЧАЙНЫЙ ЛЕС           | F1 =', best_f1, '| AUC-ROC =', best_auc_roc,\n",
    "          '| количество деревьев =', best_estim, '| глубина =', best_depth)\n",
    "#-----------------------------------------------------------------------------------------------------------------------\n",
    "def logreg_results(features_train, target_train, features_valid, target_valid, clas_weight):\n",
    "    '''\n",
    "    функция возвращает результаты f1 и AUC-ROC для модели обученной с помощью логистической регрессии\n",
    "    '''\n",
    "    model = LogisticRegression(solver='liblinear', random_state=5, class_weight=clas_weight)\n",
    "    model.fit(features_train, target_train)\n",
    "    predictions = model.predict(features_valid)\n",
    "    \n",
    "    f1 = f1_score(y_true = target_valid, y_pred = predictions)\n",
    "    \n",
    "    proba = model.predict_proba(features_valid)\n",
    "    proba_one = proba[:, 1]\n",
    "    auc_roc = roc_auc_score(target_valid, proba_one)\n",
    "\n",
    "    print('ЛОГИСТИЧЕСКАЯ РЕГРЕССИЯ | F1 =', f1, '| AUC-ROC =', auc_roc)"
   ]
  },
  {
   "cell_type": "markdown",
   "metadata": {},
   "source": [
    "<a id=\"weight\"></a>\n",
    "## Взвешивание классов\n",
    "\n",
    "Сначала попробуем способ, который рассчитает и сам установит веса классов, тем самым сбалансируя их. Для этого будем указывать *class_weight='balanced'* при создании каждой модели."
   ]
  },
  {
   "cell_type": "code",
   "execution_count": 15,
   "metadata": {},
   "outputs": [
    {
     "name": "stdout",
     "output_type": "stream",
     "text": [
      "ДЕРЕВО РЕШЕНИЙ          | F1 = 0.5956175298804781 | AUC-ROC = 0.8316621706452215 | глубина = 7\n",
      "СЛУЧАЙНЫЙ ЛЕС           | F1 = 0.6220735785953178 | AUC-ROC = 0.8601837584888432 | количество деревьев = 35 | глубина = 7\n",
      "ЛОГИСТИЧЕСКАЯ РЕГРЕССИЯ | F1 = 0.5054545454545455 | AUC-ROC = 0.7786954905598974\n"
     ]
    }
   ],
   "source": [
    "tree_results(features_train, target_train, features_valid, target_valid, 'balanced')\n",
    "forest_results(features_train, target_train, features_valid, target_valid, 'balanced')\n",
    "logreg_results(features_train, target_train, features_valid, target_valid, 'balanced')"
   ]
  },
  {
   "cell_type": "markdown",
   "metadata": {},
   "source": [
    "Данным способом нам удалось значительно увеличить показатели качества. Фаворитом все так же остается случайный лес, его F1-мера возросла на приблизительно на 5% по сравнению с результатами без балансировки."
   ]
  },
  {
   "cell_type": "markdown",
   "metadata": {},
   "source": [
    "<a id=\"upsmpl\"></a>\n",
    "## Upsampling\n",
    "\n",
    "Теперь попробуем технику увеличения выборки. Увеличим количество положительных ответов настолько, чтобы приблизительно сравнять его с  количеством отрицательными."
   ]
  },
  {
   "cell_type": "code",
   "execution_count": 16,
   "metadata": {},
   "outputs": [],
   "source": [
    "from sklearn.utils import shuffle\n",
    "\n",
    "#сначала разделим положительные и отрицательные ответы\n",
    "features_zeros = features_train[target_train == 0]\n",
    "features_ones = features_train[target_train == 1]\n",
    "target_zeros = target_train[target_train == 0]\n",
    "target_ones = target_train[target_train == 1]\n",
    "\n",
    "#здесь посчитаем во сколько раз нужно увеличить положительные ответы и\n",
    "#окргулим в большую сторону, потому что датафреймы можно умножать только на целые числа\n",
    "repeat = round((len(features_zeros) / len(features_ones)))\n",
    "\n",
    "#в новые переменные поместим ( [все отрицательные] + [все положительные] * на нужное для уравнения количество раз)\n",
    "features_upsampled = pd.concat([features_zeros] + [features_ones] * repeat )\n",
    "target_upsampled = pd.concat([target_zeros] + [target_ones] * repeat ) \n",
    "\n",
    "#перемешаем объекты, чтобы модель лучше обучалась\n",
    "features_upsampled, target_upsampled = shuffle(features_upsampled, target_upsampled, random_state=5)"
   ]
  },
  {
   "cell_type": "markdown",
   "metadata": {},
   "source": [
    "Найдем лучшие модели для данных, преобразованных техникой *upsampling*."
   ]
  },
  {
   "cell_type": "code",
   "execution_count": 17,
   "metadata": {},
   "outputs": [
    {
     "name": "stdout",
     "output_type": "stream",
     "text": [
      "ДЕРЕВО РЕШЕНИЙ          | F1 = 0.594810379241517 | AUC-ROC = 0.8300426775003045 | глубина = 7\n",
      "СЛУЧАЙНЫЙ ЛЕС           | F1 = 0.6338672768878719 | AUC-ROC = 0.8614623868861156 | количество деревьев = 65 | глубина = 10\n",
      "ЛОГИСТИЧЕСКАЯ РЕГРЕССИЯ | F1 = 0.5085049239033124 | AUC-ROC = 0.7787448465414568\n"
     ]
    }
   ],
   "source": [
    "tree_results(features_upsampled, target_upsampled, features_valid, target_valid, None)\n",
    "forest_results(features_upsampled, target_upsampled, features_valid, target_valid, None)\n",
    "logreg_results(features_upsampled, target_upsampled, features_valid, target_valid, None)"
   ]
  },
  {
   "cell_type": "markdown",
   "metadata": {},
   "source": [
    "Результаты так же лучше чем без балансировки. Также подросли метрики качества по сравнению с методом взвешивания классов."
   ]
  },
  {
   "cell_type": "markdown",
   "metadata": {},
   "source": [
    "<a id=\"downsmpl\"></a>\n",
    "## Downsampling\n",
    "\n",
    "Попробуем еще одну похожую технику. Суть ее заключается в уменьшении количества объектов большего класса настолько, чтобы их количество приблизительно сравнялось с меньшим классом."
   ]
  },
  {
   "cell_type": "code",
   "execution_count": 18,
   "metadata": {},
   "outputs": [],
   "source": [
    "from sklearn.utils import shuffle\n",
    "\n",
    "#посчитаем какую часть данных нужно оставить\n",
    "fraction = len(features_ones) / len(features_zeros)\n",
    "\n",
    "#объединим положительные ответы с нужной частью отрицательных\n",
    "features_downsampled = pd.concat([features_zeros.sample(frac=fraction, random_state=5)] + [features_ones])\n",
    "target_downsampled = pd.concat([target_zeros.sample(frac=fraction, random_state=5)] + [target_ones])\n",
    "\n",
    "#также перемешаем\n",
    "features_downsampled, target_downsampled = shuffle(features_downsampled, target_downsampled, random_state=5)"
   ]
  },
  {
   "cell_type": "markdown",
   "metadata": {},
   "source": [
    "Найдем лучшие модели для данных, преобразованных техникой *downsampling*."
   ]
  },
  {
   "cell_type": "code",
   "execution_count": 19,
   "metadata": {},
   "outputs": [
    {
     "name": "stdout",
     "output_type": "stream",
     "text": [
      "ДЕРЕВО РЕШЕНИЙ          | F1 = 0.5796460176991151 | AUC-ROC = 0.813698135732034 | глубина = 5\n",
      "СЛУЧАЙНЫЙ ЛЕС           | F1 = 0.6235662148070906 | AUC-ROC = 0.8591704184924522 | количество деревьев = 110 | глубина = 7\n",
      "ЛОГИСТИЧЕСКАЯ РЕГРЕССИЯ | F1 = 0.5077343039126478 | AUC-ROC = 0.7770050481914887\n"
     ]
    }
   ],
   "source": [
    "tree_results(features_downsampled, target_downsampled, features_valid, target_valid, None)\n",
    "forest_results(features_downsampled, target_downsampled, features_valid, target_valid, None)\n",
    "logreg_results(features_downsampled, target_downsampled, features_valid, target_valid, None)"
   ]
  },
  {
   "cell_type": "markdown",
   "metadata": {},
   "source": [
    "Результаты все так же лучше, чем без балансировки. Но данная техника борьбы с дисбалансом показала себя немного хуже, нежели две предыдущие."
   ]
  },
  {
   "cell_type": "markdown",
   "metadata": {},
   "source": [
    "<a id=\"ouput3\"></a>\n",
    "## Вывод\n",
    "\n",
    "С целью решения проблемы дисбаланса классов целевого признака мы попробовали три техники: взвешивание классов, upsampling и downsampling. Применяя каждую технику, мы нашли результаты метрик качества для трех лучших моделей, обученных разными алгоритмами.\n",
    "\n",
    "Каждая модель работает лучше случайной.\n",
    "\n",
    "Но лучший результат был достигнут с помощью **техники upsampling у модели случайного леса с гиперпараметрами: количество деревьев = 65 | глубина = 10. Метрики качества: F1 = 0.6339 , AUC-ROC = 0.8615.**"
   ]
  },
  {
   "cell_type": "markdown",
   "metadata": {},
   "source": [
    "<a id=\"step4\"></a>\n",
    "# Тестирование модели\n",
    "\n",
    "Осталось лишь протестировать выявленную лучшую модель на тестовых данных."
   ]
  },
  {
   "cell_type": "code",
   "execution_count": 20,
   "metadata": {},
   "outputs": [
    {
     "name": "stdout",
     "output_type": "stream",
     "text": [
      "F1 = 0.6039823008849557 | AUC-ROC = 0.8646649300423688\n"
     ]
    }
   ],
   "source": [
    "model = RandomForestClassifier(n_estimators=65, max_depth=10, random_state=5)\n",
    "model.fit(features_upsampled, target_upsampled)\n",
    "predictions = model.predict(features_test)\n",
    "\n",
    "f1 = f1_score(y_true = target_test, y_pred = predictions)\n",
    "\n",
    "proba = model.predict_proba(features_test)\n",
    "proba_one = proba[:, 1]\n",
    "auc_roc = roc_auc_score(target_test, proba_one)\n",
    "\n",
    "print('F1 =', f1, '| AUC-ROC =', auc_roc)"
   ]
  },
  {
   "cell_type": "markdown",
   "metadata": {},
   "source": [
    "# Общий вывод:\n",
    "\n",
    "Входные данные представляли собой таблицу, в которой каждый объект представлял собой наблюдение за одинм клиентом банка по 14-ти признакам.\n",
    "\n",
    "Данные были преобработаны и подготовлены для обучения на трех алгоритмах машинного обучения: *решающее дерево*, *случаный лес* и *логиситческая регрессия*.\n",
    "\n",
    "Было выявленно, что классы целевого признака находятся в дисбалансе. Сначала мы попробовали решить задачу без учета дисбаланса, но, не получив нужных результатов по метрикам качества, было принято решение сбалансировать классы. \n",
    "\n",
    "Балансировка осуществлялась тремя техниками: *взвешиванием классов, upsampling* и *downsampling*. Для каждой из техник были выявлены лучшие модели по выбранным алгоритмам.\n",
    "\n",
    "Лучше всех себя показала **модель случайного леса с гиперпараметрами: количество деревьев = 65 | глубина = 10, которая была обучена на данных, сбаласированных техникой upsampling**.\n",
    "\n",
    "На тестовой выборке данная модель показала результаты: **F1 = 0.605 и AUC-ROC = 0.869**."
   ]
  }
 ],
 "metadata": {
  "ExecuteTimeLog": [
   {
    "duration": 835,
    "start_time": "2021-12-04T09:40:55.333Z"
   },
   {
    "duration": 17,
    "start_time": "2021-12-04T09:40:56.171Z"
   },
   {
    "duration": 11,
    "start_time": "2021-12-04T09:40:56.191Z"
   },
   {
    "duration": 81,
    "start_time": "2021-12-04T09:40:56.205Z"
   },
   {
    "duration": 3675,
    "start_time": "2021-12-04T09:40:56.288Z"
   },
   {
    "duration": 28,
    "start_time": "2021-12-04T09:40:59.965Z"
   },
   {
    "duration": 35,
    "start_time": "2021-12-04T09:40:59.995Z"
   },
   {
    "duration": 92,
    "start_time": "2021-12-04T09:41:00.034Z"
   },
   {
    "duration": 53,
    "start_time": "2021-12-04T09:41:00.129Z"
   },
   {
    "duration": 11,
    "start_time": "2021-12-04T09:41:00.185Z"
   },
   {
    "duration": 759,
    "start_time": "2021-12-04T09:41:00.198Z"
   },
   {
    "duration": 122113,
    "start_time": "2021-12-04T09:41:00.960Z"
   },
   {
    "duration": 100,
    "start_time": "2021-12-04T09:43:03.075Z"
   },
   {
    "duration": 100,
    "start_time": "2021-12-04T09:43:03.267Z"
   },
   {
    "duration": 113629,
    "start_time": "2021-12-04T09:43:03.370Z"
   },
   {
    "duration": 103,
    "start_time": "2021-12-04T09:44:57.069Z"
   },
   {
    "duration": 162298,
    "start_time": "2021-12-04T09:44:57.175Z"
   },
   {
    "duration": 104,
    "start_time": "2021-12-04T09:47:39.477Z"
   },
   {
    "duration": 65506,
    "start_time": "2021-12-04T09:47:39.668Z"
   },
   {
    "duration": 974,
    "start_time": "2021-12-04T09:48:45.178Z"
   },
   {
    "duration": 734,
    "start_time": "2021-12-04T09:48:46.154Z"
   }
  ],
  "kernelspec": {
   "display_name": "Python 3",
   "language": "python",
   "name": "python3"
  },
  "language_info": {
   "codemirror_mode": {
    "name": "ipython",
    "version": 3
   },
   "file_extension": ".py",
   "mimetype": "text/x-python",
   "name": "python",
   "nbconvert_exporter": "python",
   "pygments_lexer": "ipython3",
   "version": "3.8.5"
  },
  "toc": {
   "base_numbering": 1,
   "nav_menu": {},
   "number_sections": false,
   "sideBar": true,
   "skip_h1_title": true,
   "title_cell": "Содержание",
   "title_sidebar": "Contents",
   "toc_cell": false,
   "toc_position": {},
   "toc_section_display": true,
   "toc_window_display": false
  }
 },
 "nbformat": 4,
 "nbformat_minor": 2
}
