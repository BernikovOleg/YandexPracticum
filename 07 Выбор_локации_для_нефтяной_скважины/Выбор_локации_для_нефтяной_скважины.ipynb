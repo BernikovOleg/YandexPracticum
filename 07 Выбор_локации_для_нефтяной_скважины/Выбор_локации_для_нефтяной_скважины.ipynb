{
 "cells": [
  {
   "cell_type": "markdown",
   "metadata": {
    "toc": true
   },
   "source": [
    "<h1>Оглавление<span class=\"tocSkip\"></span></h1>\n",
    "<div class=\"toc\"><ul class=\"toc-item\"><li><span><a href=\"#Загрузка-и-подготовка-данных\" data-toc-modified-id=\"Загрузка-и-подготовка-данных-1\"><span class=\"toc-item-num\">1&nbsp;&nbsp;</span>Загрузка и подготовка данных</a></span><ul class=\"toc-item\"><li><span><a href=\"#Открытие-и-прочтение-данных\" data-toc-modified-id=\"Открытие-и-прочтение-данных-1.1\"><span class=\"toc-item-num\">1.1&nbsp;&nbsp;</span>Открытие и прочтение данных</a></span></li><li><span><a href=\"#Проверка-на-дубликаты\" data-toc-modified-id=\"Проверка-на-дубликаты-1.2\"><span class=\"toc-item-num\">1.2&nbsp;&nbsp;</span>Проверка на дубликаты</a></span></li><li><span><a href=\"#Удаление-признака\" data-toc-modified-id=\"Удаление-признака-1.3\"><span class=\"toc-item-num\">1.3&nbsp;&nbsp;</span>Удаление признака</a></span></li><li><span><a href=\"#Проверка-на-выбросы-и-сильную-корреляцию\" data-toc-modified-id=\"Проверка-на-выбросы-и-сильную-корреляцию-1.4\"><span class=\"toc-item-num\">1.4&nbsp;&nbsp;</span>Проверка на выбросы и сильную корреляцию</a></span></li><li><span><a href=\"#Разделение-данных\" data-toc-modified-id=\"Разделение-данных-1.5\"><span class=\"toc-item-num\">1.5&nbsp;&nbsp;</span>Разделение данных</a></span></li><li><span><a href=\"#Вывод:\" data-toc-modified-id=\"Вывод:-1.6\"><span class=\"toc-item-num\">1.6&nbsp;&nbsp;</span>Вывод:</a></span></li></ul></li><li><span><a href=\"#Обучение-и-проверка-модели\" data-toc-modified-id=\"Обучение-и-проверка-модели-2\"><span class=\"toc-item-num\">2&nbsp;&nbsp;</span>Обучение и проверка модели</a></span><ul class=\"toc-item\"><li><span><a href=\"#Вывод:\" data-toc-modified-id=\"Вывод:-2.1\"><span class=\"toc-item-num\">2.1&nbsp;&nbsp;</span>Вывод:</a></span></li></ul></li><li><span><a href=\"#Подготовка-к-расчёту-прибыли\" data-toc-modified-id=\"Подготовка-к-расчёту-прибыли-3\"><span class=\"toc-item-num\">3&nbsp;&nbsp;</span>Подготовка к расчёту прибыли</a></span><ul class=\"toc-item\"><li><span><a href=\"#Вывод:\" data-toc-modified-id=\"Вывод:-3.1\"><span class=\"toc-item-num\">3.1&nbsp;&nbsp;</span>Вывод:</a></span></li></ul></li><li><span><a href=\"#Расчёт-прибыли-и-рисков\" data-toc-modified-id=\"Расчёт-прибыли-и-рисков-4\"><span class=\"toc-item-num\">4&nbsp;&nbsp;</span>Расчёт прибыли и рисков</a></span></li><li><span><a href=\"#Общий-вывод:\" data-toc-modified-id=\"Общий-вывод:-5\"><span class=\"toc-item-num\">5&nbsp;&nbsp;</span>Общий вывод:</a></span></li><li><span><a href=\"#Чек-лист-готовности-проекта\" data-toc-modified-id=\"Чек-лист-готовности-проекта-6\"><span class=\"toc-item-num\">6&nbsp;&nbsp;</span>Чек-лист готовности проекта</a></span></li></ul></div>"
   ]
  },
  {
   "cell_type": "markdown",
   "metadata": {},
   "source": [
    "# Выбор локации для скважины"
   ]
  },
  {
   "cell_type": "markdown",
   "metadata": {},
   "source": [
    "Нефтедобывающая компания решает вопрос - где бурить новую скважину.\n",
    "\n",
    "Нам предоставлены пробы нефти в трёх регионах: в каждом 10 000 месторождений, где измерили качество нефти и объём её запасов. Построим модель машинного обучения, которая поможет определить регион, где добыча принесёт наибольшую прибыль. Проанализируем возможную прибыль и риски техникой *Bootstrap.*\n",
    "\n",
    "Шаги для выбора локации:\n",
    "\n",
    "- В избранном регионе ищут месторождения, для каждого определяют значения признаков;\n",
    "- Строят модель и оценивают объём запасов;\n",
    "- Выбирают месторождения с самым высокими оценками значений. Количество месторождений зависит от бюджета компании и стоимости разработки одной скважины;\n",
    "- Прибыль равна суммарной прибыли отобранных месторождений."
   ]
  },
  {
   "cell_type": "markdown",
   "metadata": {},
   "source": [
    "## Загрузка и подготовка данных\n",
    "\n",
    "### Открытие и прочтение данных"
   ]
  },
  {
   "cell_type": "code",
   "execution_count": 1,
   "metadata": {},
   "outputs": [
    {
     "name": "stdout",
     "output_type": "stream",
     "text": [
      "<class 'pandas.core.frame.DataFrame'>\n",
      "RangeIndex: 100000 entries, 0 to 99999\n",
      "Data columns (total 5 columns):\n",
      "id         100000 non-null object\n",
      "f0         100000 non-null float64\n",
      "f1         100000 non-null float64\n",
      "f2         100000 non-null float64\n",
      "product    100000 non-null float64\n",
      "dtypes: float64(4), object(1)\n",
      "memory usage: 3.8+ MB\n",
      "\n",
      "<class 'pandas.core.frame.DataFrame'>\n",
      "RangeIndex: 100000 entries, 0 to 99999\n",
      "Data columns (total 5 columns):\n",
      "id         100000 non-null object\n",
      "f0         100000 non-null float64\n",
      "f1         100000 non-null float64\n",
      "f2         100000 non-null float64\n",
      "product    100000 non-null float64\n",
      "dtypes: float64(4), object(1)\n",
      "memory usage: 3.8+ MB\n",
      "\n",
      "<class 'pandas.core.frame.DataFrame'>\n",
      "RangeIndex: 100000 entries, 0 to 99999\n",
      "Data columns (total 5 columns):\n",
      "id         100000 non-null object\n",
      "f0         100000 non-null float64\n",
      "f1         100000 non-null float64\n",
      "f2         100000 non-null float64\n",
      "product    100000 non-null float64\n",
      "dtypes: float64(4), object(1)\n",
      "memory usage: 3.8+ MB\n"
     ]
    },
    {
     "data": {
      "text/html": [
       "<div>\n",
       "<style scoped>\n",
       "    .dataframe tbody tr th:only-of-type {\n",
       "        vertical-align: middle;\n",
       "    }\n",
       "\n",
       "    .dataframe tbody tr th {\n",
       "        vertical-align: top;\n",
       "    }\n",
       "\n",
       "    .dataframe thead th {\n",
       "        text-align: right;\n",
       "    }\n",
       "</style>\n",
       "<table border=\"1\" class=\"dataframe\">\n",
       "  <thead>\n",
       "    <tr style=\"text-align: right;\">\n",
       "      <th></th>\n",
       "      <th>id</th>\n",
       "      <th>f0</th>\n",
       "      <th>f1</th>\n",
       "      <th>f2</th>\n",
       "      <th>product</th>\n",
       "    </tr>\n",
       "  </thead>\n",
       "  <tbody>\n",
       "    <tr>\n",
       "      <td>0</td>\n",
       "      <td>txEyH</td>\n",
       "      <td>0.705745</td>\n",
       "      <td>-0.497823</td>\n",
       "      <td>1.221170</td>\n",
       "      <td>105.280062</td>\n",
       "    </tr>\n",
       "    <tr>\n",
       "      <td>1</td>\n",
       "      <td>2acmU</td>\n",
       "      <td>1.334711</td>\n",
       "      <td>-0.340164</td>\n",
       "      <td>4.365080</td>\n",
       "      <td>73.037750</td>\n",
       "    </tr>\n",
       "    <tr>\n",
       "      <td>2</td>\n",
       "      <td>409Wp</td>\n",
       "      <td>1.022732</td>\n",
       "      <td>0.151990</td>\n",
       "      <td>1.419926</td>\n",
       "      <td>85.265647</td>\n",
       "    </tr>\n",
       "    <tr>\n",
       "      <td>3</td>\n",
       "      <td>iJLyR</td>\n",
       "      <td>-0.032172</td>\n",
       "      <td>0.139033</td>\n",
       "      <td>2.978566</td>\n",
       "      <td>168.620776</td>\n",
       "    </tr>\n",
       "    <tr>\n",
       "      <td>4</td>\n",
       "      <td>Xdl7t</td>\n",
       "      <td>1.988431</td>\n",
       "      <td>0.155413</td>\n",
       "      <td>4.751769</td>\n",
       "      <td>154.036647</td>\n",
       "    </tr>\n",
       "  </tbody>\n",
       "</table>\n",
       "</div>"
      ],
      "text/plain": [
       "      id        f0        f1        f2     product\n",
       "0  txEyH  0.705745 -0.497823  1.221170  105.280062\n",
       "1  2acmU  1.334711 -0.340164  4.365080   73.037750\n",
       "2  409Wp  1.022732  0.151990  1.419926   85.265647\n",
       "3  iJLyR -0.032172  0.139033  2.978566  168.620776\n",
       "4  Xdl7t  1.988431  0.155413  4.751769  154.036647"
      ]
     },
     "execution_count": 1,
     "metadata": {},
     "output_type": "execute_result"
    }
   ],
   "source": [
    "import pandas as pd\n",
    "import matplotlib.pyplot as plt\n",
    "from sklearn.preprocessing import StandardScaler\n",
    "from sklearn.model_selection import train_test_split\n",
    "from sklearn.linear_model import LinearRegression\n",
    "from sklearn.metrics import mean_squared_error\n",
    "import numpy as np\n",
    "\n",
    "df1 = pd.read_csv('/datasets/geo_data_0.csv')\n",
    "df2 = pd.read_csv('/datasets/geo_data_1.csv')\n",
    "df3 = pd.read_csv('/datasets/geo_data_2.csv')\n",
    "\n",
    "df1.info()\n",
    "print()\n",
    "df2.info()\n",
    "print()\n",
    "df3.info()\n",
    "\n",
    "df1.head()"
   ]
  },
  {
   "cell_type": "markdown",
   "metadata": {},
   "source": [
    "Входные данные представляют собой 3 таблицы, в которых каждая строка является наблюдением об одной нефтянной скважине по 5 признакам. Каждая таблица представляет свой отдельный территориальный регион. Признаки в талбицах идентичны:\n",
    "- id — уникальный идентификатор скважины;\n",
    "- f0, f1, f2 — три признака точек (неважно, что они означают, но сами признаки значимы);\n",
    "- product — объём запасов в скважине (тыс. баррелей).\n",
    "\n",
    "Во всех таблицах отсутствуют пропущенные значения."
   ]
  },
  {
   "cell_type": "markdown",
   "metadata": {},
   "source": [
    "### Проверка на дубликаты"
   ]
  },
  {
   "cell_type": "code",
   "execution_count": 2,
   "metadata": {},
   "outputs": [
    {
     "name": "stdout",
     "output_type": "stream",
     "text": [
      "В таблице номер 1 количество дублирующихся строк = 0\n",
      "В таблице номер 2 количество дублирующихся строк = 0\n",
      "В таблице номер 3 количество дублирующихся строк = 0\n"
     ]
    }
   ],
   "source": [
    "n = 1\n",
    "for df in (df1, df2, df3):\n",
    "    dublicates = df.duplicated().sum()\n",
    "    print(f'В таблице номер {n} количество дублирующихся строк = {dublicates}')\n",
    "    n += 1"
   ]
  },
  {
   "cell_type": "markdown",
   "metadata": {},
   "source": [
    "Отлично, дубликатов нигде нет."
   ]
  },
  {
   "cell_type": "markdown",
   "metadata": {},
   "source": [
    "### Удаление признака\n",
    "\n",
    "Признак *id* не несет никакой полезной информации для обучения и даже может сильно спортить результаты. Удалим его из каждой таблицы."
   ]
  },
  {
   "cell_type": "code",
   "execution_count": 3,
   "metadata": {},
   "outputs": [],
   "source": [
    "df1 = df1.drop('id', axis=1)\n",
    "df2 = df2.drop('id', axis=1)\n",
    "df3 = df3.drop('id', axis=1)"
   ]
  },
  {
   "cell_type": "markdown",
   "metadata": {},
   "source": [
    "### Проверка на выбросы и сильную корреляцию\n",
    "\n",
    "Посмотрим на распределения признаковв таблицах и выведем матрицы корреляций"
   ]
  },
  {
   "cell_type": "code",
   "execution_count": 4,
   "metadata": {},
   "outputs": [
    {
     "name": "stdout",
     "output_type": "stream",
     "text": [
      "_________Информация по таблице номер 1_________\n",
      "\n",
      "               f0        f1        f2   product\n",
      "f0       1.000000 -0.440723 -0.003153  0.143536\n",
      "f1      -0.440723  1.000000  0.001724 -0.192356\n",
      "f2      -0.003153  0.001724  1.000000  0.483663\n",
      "product  0.143536 -0.192356  0.483663  1.000000\n"
     ]
    },
    {
     "data": {
      "image/png": "[encoded data removed]",
      "text/plain": [
       "<Figure size 720x360 with 4 Axes>"
      ]
     },
     "metadata": {
      "needs_background": "light"
     },
     "output_type": "display_data"
    },
    {
     "name": "stdout",
     "output_type": "stream",
     "text": [
      "_________Информация по таблице номер 2_________\n",
      "\n",
      "               f0        f1        f2   product\n",
      "f0       1.000000  0.182287 -0.001777 -0.030491\n",
      "f1       0.182287  1.000000 -0.002595 -0.010155\n",
      "f2      -0.001777 -0.002595  1.000000  0.999397\n",
      "product -0.030491 -0.010155  0.999397  1.000000\n"
     ]
    },
    {
     "data": {
      "image/png": "[encoded data removed]",
      "text/plain": [
       "<Figure size 720x360 with 4 Axes>"
      ]
     },
     "metadata": {
      "needs_background": "light"
     },
     "output_type": "display_data"
    },
    {
     "name": "stdout",
     "output_type": "stream",
     "text": [
      "_________Информация по таблице номер 3_________\n",
      "\n",
      "               f0        f1        f2   product\n",
      "f0       1.000000  0.000528 -0.000448 -0.001987\n",
      "f1       0.000528  1.000000  0.000779 -0.001012\n",
      "f2      -0.000448  0.000779  1.000000  0.445871\n",
      "product -0.001987 -0.001012  0.445871  1.000000\n"
     ]
    },
    {
     "data": {
      "image/png": "[encoded data removed]",
      "text/plain": [
       "<Figure size 720x360 with 4 Axes>"
      ]
     },
     "metadata": {
      "needs_background": "light"
     },
     "output_type": "display_data"
    }
   ],
   "source": [
    "n = 1\n",
    "for df in (df1, df2, df3):\n",
    "    print(f'_________Информация по таблице номер {n}_________', end='\\n\\n')\n",
    "    print(df.corr())\n",
    "    df.hist(figsize=(10,5), bins=30)\n",
    "    plt.show()\n",
    "    n += 1"
   ]
  },
  {
   "cell_type": "markdown",
   "metadata": {},
   "source": [
    "Как видно из распределений - выбросов нет. Сильно выбивающихся значений, относительно других нет ни в одном признаке.\n",
    "\n",
    "Во второй таблице, в столбце *product* есть смущающий пик нуле, однако пустые скважины явно не стоит исключать из исследования.\n",
    "\n",
    "Также отстутствует сильная корреляция между признаками для обучения. Следовательно оставим все признаки во всех таблицах. "
   ]
  },
  {
   "cell_type": "markdown",
   "metadata": {},
   "source": [
    "### Разделение данных\n",
    "\n",
    "Разделим каждую таблицу на обучающие данные и валидационные в соотношении 3:1."
   ]
  },
  {
   "cell_type": "code",
   "execution_count": 5,
   "metadata": {},
   "outputs": [],
   "source": [
    "def split(df):\n",
    "    '''\n",
    "    функция принимает датафрейм и делит его в соотношении 3:1\n",
    "    для каждой доли возвращает разделенные выборки по признаку product \n",
    "    '''\n",
    "    train, valid =  train_test_split(df, test_size=0.25, random_state=5)\n",
    "    \n",
    "    features_train = train.drop('product', axis=1)\n",
    "    target_train = train['product']\n",
    "    \n",
    "    features_valid = valid.drop('product', axis=1)\n",
    "    target_valid = valid['product']\n",
    "    \n",
    "    return features_train, target_train, features_valid, target_valid\n",
    "\n",
    "features_train_1, target_train_1, features_valid_1, target_valid_1 = split(df1)\n",
    "features_train_2, target_train_2, features_valid_2, target_valid_2 = split(df2)\n",
    "features_train_3, target_train_3, features_valid_3, target_valid_3 = split(df3)"
   ]
  },
  {
   "cell_type": "markdown",
   "metadata": {},
   "source": [
    "### Вывод:\n",
    "\n",
    "Данные были загружены в проект и прочитаны. Импротированы все библиотеки, нужные для выполнения проекта.\n",
    "\n",
    "Затем данные были преобработаны:\n",
    "- Проверены дубликаты и пропуски\n",
    "- Удален ненжуный столбец\n",
    "- Проверены выбросы\n",
    "- Провена корреляция обучающих признаков\n",
    "- Данные разделены на обучающий и валидационные"
   ]
  },
  {
   "cell_type": "markdown",
   "metadata": {},
   "source": [
    "## Обучение и проверка модели\n",
    "\n",
    "Для обучения модели подходит только линейная регрессия (остальные — недостаточно предсказуемые). Построим и обучим модели. Оценить их качество поможет метрика RMSE."
   ]
  },
  {
   "cell_type": "code",
   "execution_count": 6,
   "metadata": {},
   "outputs": [
    {
     "name": "stdout",
     "output_type": "stream",
     "text": [
      "Результаты модели по 1 региону\n",
      "Mean: 92.62394691552272\n",
      "RMSE: 37.80284530541535\n"
     ]
    }
   ],
   "source": [
    "model = LinearRegression()\n",
    "model.fit(features_train_1, target_train_1)\n",
    "predictions_1 = pd.Series(model.predict(features_valid_1), index=target_valid_1.index)\n",
    "\n",
    "print('Результаты модели по 1 региону')\n",
    "print('Mean:', predictions_1.mean())\n",
    "print('RMSE:', mean_squared_error(target_valid_1, predictions_1) ** 0.5)"
   ]
  },
  {
   "cell_type": "code",
   "execution_count": 7,
   "metadata": {},
   "outputs": [
    {
     "name": "stdout",
     "output_type": "stream",
     "text": [
      "Результаты модели по 2 региону\n",
      "Mean: 68.6475648923721\n",
      "RMSE: 0.8911637870714576\n"
     ]
    }
   ],
   "source": [
    "model = LinearRegression()\n",
    "model.fit(features_train_2, target_train_2)\n",
    "predictions_2 = pd.Series(model.predict(features_valid_2), index=target_valid_2.index)\n",
    "\n",
    "print('Результаты модели по 2 региону')\n",
    "print(f'Mean:', predictions_2.mean())\n",
    "print('RMSE:',mean_squared_error(target_valid_2, predictions_2) ** 0.5)"
   ]
  },
  {
   "cell_type": "code",
   "execution_count": 8,
   "metadata": {},
   "outputs": [
    {
     "name": "stdout",
     "output_type": "stream",
     "text": [
      "Результаты модели по 3 региону\n",
      "Mean: 95.02417827030403\n",
      "RMSE: 40.27855914124022\n"
     ]
    }
   ],
   "source": [
    "model = LinearRegression()\n",
    "model.fit(features_train_3, target_train_3)\n",
    "predictions_3 =  pd.Series(model.predict(features_valid_3), index=target_valid_3.index)\n",
    "\n",
    "print('Результаты модели по 3 региону')\n",
    "print(f'Mean:', predictions_3.mean())\n",
    "print('RMSE:',mean_squared_error(target_valid_3, predictions_3) ** 0.5)"
   ]
  },
  {
   "cell_type": "markdown",
   "metadata": {},
   "source": [
    "### Вывод:\n",
    "\n",
    "Лучше всего обучилась модель для 2го региона. Отклонение очень маленькое и это говорит о высоком качестве предсказаний. Однако средний запас наименьший. Гораздо хуже обуились модели для 1го и 3го регионов. Здесь метрика качества почти в 40 раз хуже, но средние запасы существенно выше чем во 2ом."
   ]
  },
  {
   "cell_type": "markdown",
   "metadata": {},
   "source": [
    "## Подготовка к расчёту прибыли\n",
    "\n",
    "Рассчитаем достаточный объём сырья для безубыточной разработки новой скважины. Сравним полученный объём сырья со средним запасом в каждом регионе."
   ]
  },
  {
   "cell_type": "code",
   "execution_count": 9,
   "metadata": {},
   "outputs": [
    {
     "name": "stdout",
     "output_type": "stream",
     "text": [
      "Минимальный объем сырья в скажине: 111.11111111111111\n"
     ]
    }
   ],
   "source": [
    "budget = 10000000000\n",
    "product_price = 450000\n",
    "well_count = 200\n",
    "\n",
    "print('Минимальный объем сырья в скажине:', ((budget / well_count) / product_price))"
   ]
  },
  {
   "cell_type": "code",
   "execution_count": 10,
   "metadata": {},
   "outputs": [
    {
     "name": "stdout",
     "output_type": "stream",
     "text": [
      "Средний объем сырья в регионе 1:  92.36560282077443\n",
      "Средний объем сырья в регионе 2:  68.88624149497971\n",
      "Средний объем сырья в регионе 3:  94.97044352906028\n"
     ]
    }
   ],
   "source": [
    "n = 1\n",
    "for product in (target_train_1, target_train_2, target_train_3):\n",
    "    print(f'Средний объем сырья в регионе {n}: ', product.mean())\n",
    "    n += 1"
   ]
  },
  {
   "cell_type": "markdown",
   "metadata": {},
   "source": [
    "### Вывод:\n",
    "В среднем ни один регион не обладает достаточным количеством сырья для безубыточной разработки. Это говорит о том, что нельзя брать скважины наугад. Нужно выявить лучший регион с максимально возможным положительным доходом."
   ]
  },
  {
   "cell_type": "markdown",
   "metadata": {},
   "source": [
    "## Расчёт прибыли и рисков \n",
    "Сначала напишем функцию для вычисления прибыли по выбранным скважинам и предсказаниям модели."
   ]
  },
  {
   "cell_type": "code",
   "execution_count": 11,
   "metadata": {},
   "outputs": [],
   "source": [
    "def revenue(predictions, target):\n",
    "    #отсортируем предсказания модели\n",
    "    sorted_pred = predictions.sort_values(ascending=False)\n",
    "    #выберем 200 лучших скважин и посчитаем их реальную прибыль\n",
    "    selected = target[sorted_pred.index][:200]\n",
    "    return selected.sum() * product_price - budget"
   ]
  },
  {
   "cell_type": "markdown",
   "metadata": {},
   "source": [
    "Теперь для удобства напишем функцию, которая техникой bootstrap найдет нам  95%-й доверительный интервал для прибыли и риск убытков, а так же среднюю возможную выручку."
   ]
  },
  {
   "cell_type": "code",
   "execution_count": 12,
   "metadata": {},
   "outputs": [],
   "source": [
    "def bootstrap_and_risk(predictions, target, n):\n",
    "    state = np.random.RandomState(5)\n",
    "    revenues_array = []\n",
    "    \n",
    "    for _ in range(1000):\n",
    "        target_subsample = target.sample(n=500, random_state=state, replace=True)\n",
    "        pred_subsample = predictions[target_subsample.index]\n",
    "        revenues_array.append(revenue(pred_subsample, target_subsample))\n",
    "    revenues_array = pd.Series(revenues_array)\n",
    "    \n",
    "    lower = revenues_array.quantile(0.025)\n",
    "    upper = revenues_array.quantile(0.975)\n",
    "    revenues_mean = revenues_array.mean()\n",
    "    risk = len(revenues_array[revenues_array<0]) / len(revenues_array) * 100\n",
    "    \n",
    "    print(f'Информация по {n} региону')\n",
    "    print(f'Нижняя граница доверительного интервала: {lower:.0f}, верхняя: {upper:.0f}')\n",
    "    print('Риск убытков: {:.2f}%'.format(risk))\n",
    "    print(f'Средняя возможная прибыль: {revenues_mean:.0f}')\n",
    "    "
   ]
  },
  {
   "cell_type": "markdown",
   "metadata": {},
   "source": [
    "Наконец произведем рассчеты для каждого региона."
   ]
  },
  {
   "cell_type": "code",
   "execution_count": 13,
   "metadata": {},
   "outputs": [
    {
     "name": "stdout",
     "output_type": "stream",
     "text": [
      "Информация по 1 региону\n",
      "Нижняя граница доверительного интервала: -64841868, верхняя: 1019943347\n",
      "Риск убытков: 4.40%\n",
      "Средняя возможная прибыль: 488751802\n"
     ]
    }
   ],
   "source": [
    "bootstrap_and_risk(predictions_1, target_valid_1, 1)"
   ]
  },
  {
   "cell_type": "code",
   "execution_count": 14,
   "metadata": {},
   "outputs": [
    {
     "name": "stdout",
     "output_type": "stream",
     "text": [
      "Информация по 2 региону\n",
      "Нижняя граница доверительного интервала: 84564688, верхняя: 908011174\n",
      "Риск убытков: 0.70%\n",
      "Средняя возможная прибыль: 484489711\n"
     ]
    }
   ],
   "source": [
    "bootstrap_and_risk(predictions_2, target_valid_2, 2)"
   ]
  },
  {
   "cell_type": "code",
   "execution_count": 15,
   "metadata": {
    "scrolled": true
   },
   "outputs": [
    {
     "name": "stdout",
     "output_type": "stream",
     "text": [
      "Информация по 3 региону\n",
      "Нижняя граница доверительного интервала: -184882007, верхняя: 897859603\n",
      "Риск убытков: 10.00%\n",
      "Средняя возможная прибыль: 356747171\n"
     ]
    }
   ],
   "source": [
    "bootstrap_and_risk(predictions_3, target_valid_3, 3)"
   ]
  },
  {
   "cell_type": "markdown",
   "metadata": {},
   "source": [
    "## Общий вывод:\n",
    "\n",
    "Для компании опасно проводить разработку в регионах, в которых вероятность убытков больше 2.5%. Это означает, что по результатам исследования подходит лишь **второй регион**.\n",
    "\n",
    "Риск убытков второго региона не превышает 1%. Нижняя граница доверительного интервала, говорит о том, что с 95% вероятностью прибыль будет не меньше 85млн. рублей. А средняя возможная, говорит, что она будет 485млн."
   ]
  }
 ],
 "metadata": {
  "ExecuteTimeLog": [
   {
    "duration": 1944,
    "start_time": "2021-12-04T10:13:26.603Z"
   },
   {
    "duration": 229,
    "start_time": "2021-12-04T10:13:28.550Z"
   },
   {
    "duration": 15,
    "start_time": "2021-12-04T10:13:28.783Z"
   },
   {
    "duration": 3641,
    "start_time": "2021-12-04T10:13:28.801Z"
   },
   {
    "duration": 63,
    "start_time": "2021-12-04T10:13:32.445Z"
   },
   {
    "duration": 158,
    "start_time": "2021-12-04T10:13:32.510Z"
   },
   {
    "duration": 101,
    "start_time": "2021-12-04T10:13:32.671Z"
   },
   {
    "duration": 191,
    "start_time": "2021-12-04T10:13:32.778Z"
   },
   {
    "duration": 6,
    "start_time": "2021-12-04T10:13:32.972Z"
   },
   {
    "duration": 10,
    "start_time": "2021-12-04T10:13:33.066Z"
   },
   {
    "duration": 7,
    "start_time": "2021-12-04T10:13:33.079Z"
   },
   {
    "duration": 10,
    "start_time": "2021-12-04T10:13:33.089Z"
   },
   {
    "duration": 8512,
    "start_time": "2021-12-04T10:13:33.102Z"
   },
   {
    "duration": 8386,
    "start_time": "2021-12-04T10:13:41.617Z"
   },
   {
    "duration": 8376,
    "start_time": "2021-12-04T10:13:50.006Z"
   }
  ],
  "kernelspec": {
   "display_name": "Python 3",
   "language": "python",
   "name": "python3"
  },
  "language_info": {
   "codemirror_mode": {
    "name": "ipython",
    "version": 3
   },
   "file_extension": ".py",
   "mimetype": "text/x-python",
   "name": "python",
   "nbconvert_exporter": "python",
   "pygments_lexer": "ipython3",
   "version": "3.8.5"
  },
  "toc": {
   "base_numbering": 1,
   "nav_menu": {},
   "number_sections": true,
   "sideBar": true,
   "skip_h1_title": true,
   "title_cell": "Оглавление",
   "title_sidebar": "Contents",
   "toc_cell": true,
   "toc_position": {},
   "toc_section_display": true,
   "toc_window_display": false
  }
 },
 "nbformat": 4,
 "nbformat_minor": 2
}
