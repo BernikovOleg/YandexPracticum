{
 "cells": [
  {
   "cell_type": "markdown",
   "metadata": {
    "toc": true
   },
   "source": [
    "<h1>Содержание<span class=\"tocSkip\"></span></h1>\n",
    "<div class=\"toc\"><ul class=\"toc-item\"><li><span><a href=\"#Загрузка-данных\" data-toc-modified-id=\"Загрузка-данных-1\"><span class=\"toc-item-num\">1&nbsp;&nbsp;</span>Загрузка данных</a></span></li><li><span><a href=\"#Умножение-матриц\" data-toc-modified-id=\"Умножение-матриц-2\"><span class=\"toc-item-num\">2&nbsp;&nbsp;</span>Умножение матриц</a></span><ul class=\"toc-item\"><li><span><a href=\"#Вывод:\" data-toc-modified-id=\"Вывод:-2.1\"><span class=\"toc-item-num\">2.1&nbsp;&nbsp;</span>Вывод:</a></span></li></ul></li><li><span><a href=\"#Алгоритм-преобразования\" data-toc-modified-id=\"Алгоритм-преобразования-3\"><span class=\"toc-item-num\">3&nbsp;&nbsp;</span>Алгоритм преобразования</a></span></li><li><span><a href=\"#Проверка-алгоритма\" data-toc-modified-id=\"Проверка-алгоритма-4\"><span class=\"toc-item-num\">4&nbsp;&nbsp;</span>Проверка алгоритма</a></span></li><li><span><a href=\"#Общий-вывод:\" data-toc-modified-id=\"Общий-вывод:-5\"><span class=\"toc-item-num\">5&nbsp;&nbsp;</span>Общий вывод:</a></span></li><li><span><a href=\"#Чек-лист-проверки\" data-toc-modified-id=\"Чек-лист-проверки-6\"><span class=\"toc-item-num\">6&nbsp;&nbsp;</span>Чек-лист проверки</a></span></li></ul></div>"
   ]
  },
  {
   "cell_type": "markdown",
   "metadata": {},
   "source": [
    "# Защита персональных данных клиентов"
   ]
  },
  {
   "cell_type": "markdown",
   "metadata": {},
   "source": [
    "Нужно защитить данные клиентов страховой компании «Хоть потоп». Разработаем такой метод преобразования данных, чтобы по ним было сложно восстановить персональную информацию, а также обоснуем корректность его работы.\n",
    "\n",
    "*Цель*: защитить данные, чтобы при преобразовании качество моделей машинного обучения не ухудшилось.\n",
    "\n",
    "*План действий*:\n",
    "- загрузим и изучим данные\n",
    "- выдвенем гипотезу о способе преобразований\n",
    "- докажем ее математически\n",
    "- сформулируем общий алгортим действий для преобразований \n",
    "- протестируем алгоритм на входных данных"
   ]
  },
  {
   "cell_type": "markdown",
   "metadata": {},
   "source": [
    "## Загрузка данных"
   ]
  },
  {
   "cell_type": "code",
   "execution_count": 1,
   "metadata": {},
   "outputs": [],
   "source": [
    "#импортируем все нужные библиотеки и функции\n",
    "import pandas as pd \n",
    "import numpy as np\n",
    "\n",
    "from sklearn.model_selection import train_test_split\n",
    "from sklearn.linear_model import LinearRegression\n",
    "from sklearn.metrics import r2_score"
   ]
  },
  {
   "cell_type": "code",
   "execution_count": 2,
   "metadata": {},
   "outputs": [
    {
     "name": "stdout",
     "output_type": "stream",
     "text": [
      "<class 'pandas.core.frame.DataFrame'>\n",
      "RangeIndex: 5000 entries, 0 to 4999\n",
      "Data columns (total 5 columns):\n",
      "Пол                  5000 non-null int64\n",
      "Возраст              5000 non-null float64\n",
      "Зарплата             5000 non-null float64\n",
      "Члены семьи          5000 non-null int64\n",
      "Страховые выплаты    5000 non-null int64\n",
      "dtypes: float64(2), int64(3)\n",
      "memory usage: 195.4 KB\n"
     ]
    },
    {
     "data": {
      "text/html": [
       "<div>\n",
       "<style scoped>\n",
       "    .dataframe tbody tr th:only-of-type {\n",
       "        vertical-align: middle;\n",
       "    }\n",
       "\n",
       "    .dataframe tbody tr th {\n",
       "        vertical-align: top;\n",
       "    }\n",
       "\n",
       "    .dataframe thead th {\n",
       "        text-align: right;\n",
       "    }\n",
       "</style>\n",
       "<table border=\"1\" class=\"dataframe\">\n",
       "  <thead>\n",
       "    <tr style=\"text-align: right;\">\n",
       "      <th></th>\n",
       "      <th>Пол</th>\n",
       "      <th>Возраст</th>\n",
       "      <th>Зарплата</th>\n",
       "      <th>Члены семьи</th>\n",
       "      <th>Страховые выплаты</th>\n",
       "    </tr>\n",
       "  </thead>\n",
       "  <tbody>\n",
       "    <tr>\n",
       "      <td>0</td>\n",
       "      <td>1</td>\n",
       "      <td>41.0</td>\n",
       "      <td>49600.0</td>\n",
       "      <td>1</td>\n",
       "      <td>0</td>\n",
       "    </tr>\n",
       "    <tr>\n",
       "      <td>1</td>\n",
       "      <td>0</td>\n",
       "      <td>46.0</td>\n",
       "      <td>38000.0</td>\n",
       "      <td>1</td>\n",
       "      <td>1</td>\n",
       "    </tr>\n",
       "    <tr>\n",
       "      <td>2</td>\n",
       "      <td>0</td>\n",
       "      <td>29.0</td>\n",
       "      <td>21000.0</td>\n",
       "      <td>0</td>\n",
       "      <td>0</td>\n",
       "    </tr>\n",
       "    <tr>\n",
       "      <td>3</td>\n",
       "      <td>0</td>\n",
       "      <td>21.0</td>\n",
       "      <td>41700.0</td>\n",
       "      <td>2</td>\n",
       "      <td>0</td>\n",
       "    </tr>\n",
       "    <tr>\n",
       "      <td>4</td>\n",
       "      <td>1</td>\n",
       "      <td>28.0</td>\n",
       "      <td>26100.0</td>\n",
       "      <td>0</td>\n",
       "      <td>0</td>\n",
       "    </tr>\n",
       "  </tbody>\n",
       "</table>\n",
       "</div>"
      ],
      "text/plain": [
       "   Пол  Возраст  Зарплата  Члены семьи  Страховые выплаты\n",
       "0    1     41.0   49600.0            1                  0\n",
       "1    0     46.0   38000.0            1                  1\n",
       "2    0     29.0   21000.0            0                  0\n",
       "3    0     21.0   41700.0            2                  0\n",
       "4    1     28.0   26100.0            0                  0"
      ]
     },
     "execution_count": 2,
     "metadata": {},
     "output_type": "execute_result"
    }
   ],
   "source": [
    "df = pd.read_csv('/datasets/insurance.csv')\n",
    "\n",
    "df.info()\n",
    "df.head()"
   ]
  },
  {
   "cell_type": "markdown",
   "metadata": {},
   "source": [
    "Входные данные представленны таблицей в которой каждая строчка представляет собой личные данные одного клиента банка.\n",
    "\n",
    "- *Признаки*: пол, возраст и зарплата застрахованного, количество членов его семьи.\n",
    "- *Целевой признак*: количество страховых выплат клиенту за последние 5 лет.\n"
   ]
  },
  {
   "cell_type": "markdown",
   "metadata": {},
   "source": [
    "## Умножение матриц"
   ]
  },
  {
   "cell_type": "markdown",
   "metadata": {},
   "source": [
    "Сначала запишем известные формулы для линенйно регрессии с пояснениями."
   ]
  },
  {
   "cell_type": "markdown",
   "metadata": {},
   "source": [
    "Обозначения:\n",
    "\n",
    "- $X$ — матрица признаков (нулевой столбец состоит из единиц)\n",
    "\n",
    "- $y$ — вектор целевого признака\n",
    "\n",
    "- $P$ — матрица, на которую умножаются признаки\n",
    "\n",
    "- $w$ — вектор весов линейной регрессии (нулевой элемент равен сдвигу)"
   ]
  },
  {
   "cell_type": "markdown",
   "metadata": {},
   "source": [
    "*Предсказания*:\n",
    "\n",
    "$$\n",
    "a = Xw   \n",
    "$$\n",
    "\n",
    "*Задача обучения*:\n",
    "\n",
    "$$\n",
    "w = \\arg\\min_w MSE(Xw, y)\n",
    "$$\n",
    "\n",
    "*Формула обучения*:\n",
    "\n",
    "$$\n",
    "w = (X^T X)^{-1} X^T y\n",
    "$$\n",
    "\n",
    "-------------------------------------------------------------------------------------------------------------------------------"
   ]
  },
  {
   "cell_type": "markdown",
   "metadata": {},
   "source": [
    "**Сформулируем гипотезу**: умножение матрицы признаков на произвольную обратимую матрицу не изменит качества линейной регрессии.\n",
    "\n",
    "Попробуем подтвердить ее.\n"
   ]
  },
  {
   "cell_type": "markdown",
   "metadata": {},
   "source": [
    "**Цель** -  доказать что  \n",
    "\n",
    "$$\n",
    "a_{new} = a\n",
    "$$\n",
    "\n",
    "Для начала посмотрим как изменит умнжение на обратную матрицу формулу обучения. Домножим каждую матрицу **X** на обратную **P**.\n",
    "\n",
    "$$\n",
    "( (XP)^T \\cdot (XP) )^{-1} \\cdot (X P)^T \\cdot y\n",
    "$$\n",
    "\n",
    "С помощью свойств транспонирования и обратной матрицы упростим формулу.\n",
    "\n",
    "$$\n",
    "(P^T\\cdot  X^T\\cdot  X\\cdot  P)^{-1} \\cdot P^T \\cdot X^T \\cdot y\n",
    "$$\n",
    "\n",
    "$$\n",
    "(P^T\\cdot (X^T  X)\\cdot  P)^{-1} \\cdot P^T \\cdot X^T \\cdot y\n",
    "$$\n",
    "\n",
    "$$\n",
    "P^{-1} \\cdot (X^T  X)^{-1} \\cdot (P^T)^{-1} \\cdot P^T \\cdot X^T \\cdot y\n",
    "$$\n",
    "\n",
    "\n",
    "Здесь наблюдаем произведение обратной и обратимой матриц, которые можно просто сократить, так как умножение на единичную матрицу ничего не меняет.\n",
    "\n",
    "$$\n",
    "P^{-1} \\cdot (X^T X)^{-1} \\cdot X^T \\cdot y\n",
    "$$\n",
    "\n",
    "Правая часть совпадает с формулой обучения, а значит\n",
    "\n",
    "$$\n",
    "w_{new} = P^{-1} w\n",
    "$$"
   ]
  },
  {
   "cell_type": "markdown",
   "metadata": {},
   "source": [
    "Теперь зная, как изменится формула предсказания для модели с преобразованными признаками\n",
    "\n",
    "$$\n",
    "a_{new} = XP w_{new}\n",
    "$$\n",
    "\n",
    "$$\n",
    "a_{new} = XPP^{-1} w\n",
    "$$\n",
    "\n",
    "Посередине явно получается единичная матрица от которой избавляемся и получаем, что\n",
    "\n",
    "$$\n",
    "a_{new} = X w = a\n",
    "$$"
   ]
  },
  {
   "cell_type": "markdown",
   "metadata": {},
   "source": [
    "### Вывод:\n",
    "\n",
    "При использовании модели линейной регрессии, можно умножить матрицу признаков на произвольную обратимую матрицу. Если генерирорвать такую обратимую случайно, то персональные данные клиентов будут под защитой."
   ]
  },
  {
   "cell_type": "markdown",
   "metadata": {},
   "source": [
    "## Алгоритм преобразования\n",
    "\n",
    "Теперь опишем полный алгоритм преобразования.\n",
    "\n",
    "Так как основная идея заключается в умножении обучающих признаков на случайную обратимую матрицу, то напишем отдельную функцию для такого преобразования признаков."
   ]
  },
  {
   "cell_type": "code",
   "execution_count": 3,
   "metadata": {},
   "outputs": [],
   "source": [
    "def transform_features_invmatrix(features):\n",
    "    '''\n",
    "    Функция принимает в себя признаки в формате DataFrame\n",
    "    Возвращает преобразованные признаки:\n",
    "    Случайная квадратная обратимая матрица такого же размера сколько и колонок в признаках умнажается на матрицу признаков\n",
    "    '''\n",
    "    size = features.shape[1]\n",
    "    \n",
    "    while True:\n",
    "        inv_matrix = np.random.normal(size=(size,size))\n",
    "        try:\n",
    "            np.linalg.inv(inv_matrix)\n",
    "            break\n",
    "        except:\n",
    "            continue\n",
    "    features_up = (features.values).dot(inv_matrix)\n",
    "    \n",
    "    return pd.DataFrame(features_up, columns=features.columns, index=features.index) "
   ]
  },
  {
   "cell_type": "markdown",
   "metadata": {},
   "source": [
    "Получив искомую матрицу алгоритм будет формулирувоаться следующим образом:\n",
    "\n",
    "- отделить обучающие признаки от целевого\n",
    "- преобразовать их путем умножения на произвольную случайную матрицу (т.е. воспользоваться созданной функцией)\n",
    "- обучить модель линейной регрессии на преобразованных признаках"
   ]
  },
  {
   "cell_type": "markdown",
   "metadata": {},
   "source": [
    "## Проверка алгоритма\n",
    "\n",
    "Теперь проверим как работает алгоритм на предоставленных данных.\n",
    "\n",
    "Сначала узнаем результаты работы на признаках без преобразований."
   ]
  },
  {
   "cell_type": "code",
   "execution_count": 4,
   "metadata": {},
   "outputs": [],
   "source": [
    "#разделяем на целевой и обучающие признаки, а также на обучающую и тренироваочную выборки\n",
    "features = df.drop('Страховые выплаты', axis=1)\n",
    "target = df['Страховые выплаты']\n",
    "\n",
    "features_train, features_test, target_train, target_test = train_test_split(features, target, test_size=0.25, random_state=5)"
   ]
  },
  {
   "cell_type": "code",
   "execution_count": 5,
   "metadata": {},
   "outputs": [
    {
     "name": "stdout",
     "output_type": "stream",
     "text": [
      "Резульат без преобразований: 0.4293735984075683\n"
     ]
    }
   ],
   "source": [
    "#обучаем модель и выводим результат метрки R2\n",
    "model = LinearRegression()\n",
    "model.fit(features_train, target_train)\n",
    "predictions = model.predict(features_test)\n",
    "\n",
    "score1 = r2_score(target_test, predictions)\n",
    "print('Резульат без преобразований:', score1)"
   ]
  },
  {
   "cell_type": "markdown",
   "metadata": {},
   "source": [
    "Теперь преобразуем признаки и обучим новую модель на них."
   ]
  },
  {
   "cell_type": "code",
   "execution_count": 6,
   "metadata": {},
   "outputs": [],
   "source": [
    "features_up = transform_features_invmatrix(features)\n",
    "\n",
    "features_up_train, features_up_test = train_test_split(features_up, test_size=0.25, random_state=5)"
   ]
  },
  {
   "cell_type": "code",
   "execution_count": 7,
   "metadata": {},
   "outputs": [
    {
     "name": "stdout",
     "output_type": "stream",
     "text": [
      "Резульат c преобразованиями: 0.42937359840732137\n"
     ]
    }
   ],
   "source": [
    "model_up = LinearRegression()\n",
    "model_up.fit(features_up_train, target_train)\n",
    "predictions_up = model_up.predict(features_up_test)\n",
    "\n",
    "score2 = r2_score(target_test, predictions_up)\n",
    "print('Резульат c преобразованиями:', score2)"
   ]
  },
  {
   "cell_type": "markdown",
   "metadata": {},
   "source": [
    "Результаты почти идентичны, проверим насколько они отличатся."
   ]
  },
  {
   "cell_type": "code",
   "execution_count": 8,
   "metadata": {},
   "outputs": [
    {
     "data": {
      "text/plain": [
       "2.469136006766348e-13"
      ]
     },
     "execution_count": 8,
     "metadata": {},
     "output_type": "execute_result"
    }
   ],
   "source": [
    "#проверка на идентичность\n",
    "score1 - score2"
   ]
  },
  {
   "cell_type": "markdown",
   "metadata": {},
   "source": [
    "Отличие идет только после 14 знака в дробной части. Подобное можно списать на округление при вычислениях. Соответственно результат подтвердил правильность алгоритма."
   ]
  },
  {
   "cell_type": "markdown",
   "metadata": {},
   "source": [
    "## Общий вывод:\n",
    "\n",
    "Входные данные представляли собой таблицу, в которой каждая строка являлась набором личных данных клиентов банка.\n",
    "\n",
    "Нужно было защитить данные, чтобы при преобразовании качество моделей машинного обучения не ухудшилось. \n",
    "\n",
    "Была выдвинута *гипотеза*, что цель достигнется при умножении матрицы обучающих признаков на произвольную обратимую матрицу.\n",
    "- Гипотеза была доказана математически - путем преобразования формул обучения и предсказания линенйной регрессии.\n",
    "- Затем был сформирован алгоритм и на его основе мы осуществили преобразование входных данных.\n",
    "- Сравнение результатов по метрике качества R2 показали идентичные результаты для предсказания по преобразованным признакам и признакам без преобразований, что эмпирически еше раз подтвердило гипотезу."
   ]
  }
 ],
 "metadata": {
  "ExecuteTimeLog": [
   {
    "duration": 2303,
    "start_time": "2021-12-04T10:34:38.471Z"
   },
   {
    "duration": 92,
    "start_time": "2021-12-04T10:34:40.777Z"
   },
   {
    "duration": 6,
    "start_time": "2021-12-04T10:34:40.872Z"
   },
   {
    "duration": 23,
    "start_time": "2021-12-04T10:34:40.881Z"
   },
   {
    "duration": 72,
    "start_time": "2021-12-04T10:34:40.906Z"
   },
   {
    "duration": 9,
    "start_time": "2021-12-04T10:34:40.981Z"
   },
   {
    "duration": 87,
    "start_time": "2021-12-04T10:34:40.993Z"
   },
   {
    "duration": 6,
    "start_time": "2021-12-04T10:34:41.168Z"
   }
  ],
  "kernelspec": {
   "display_name": "Python 3",
   "language": "python",
   "name": "python3"
  },
  "language_info": {
   "codemirror_mode": {
    "name": "ipython",
    "version": 3
   },
   "file_extension": ".py",
   "mimetype": "text/x-python",
   "name": "python",
   "nbconvert_exporter": "python",
   "pygments_lexer": "ipython3",
   "version": "3.8.5"
  },
  "toc": {
   "base_numbering": 1,
   "nav_menu": {},
   "number_sections": true,
   "sideBar": true,
   "skip_h1_title": true,
   "title_cell": "Содержание",
   "title_sidebar": "Contents",
   "toc_cell": true,
   "toc_position": {},
   "toc_section_display": true,
   "toc_window_display": false
  }
 },
 "nbformat": 4,
 "nbformat_minor": 2
}
