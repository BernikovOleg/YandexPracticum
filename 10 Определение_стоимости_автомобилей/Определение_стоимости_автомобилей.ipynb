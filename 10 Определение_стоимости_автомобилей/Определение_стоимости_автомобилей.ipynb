{
 "cells": [
  {
   "cell_type": "markdown",
   "metadata": {
    "toc": true
   },
   "source": [
    "<h1>Содержание<span class=\"tocSkip\"></span></h1>\n",
    "<div class=\"toc\"><ul class=\"toc-item\"><li><span><a href=\"#Подготовка-данных\" data-toc-modified-id=\"Подготовка-данных-1\"><span class=\"toc-item-num\">1&nbsp;&nbsp;</span>Подготовка данных</a></span><ul class=\"toc-item\"><li><span><a href=\"#Прочтение-данных\" data-toc-modified-id=\"Прочтение-данных-1.1\"><span class=\"toc-item-num\">1.1&nbsp;&nbsp;</span>Прочтение данных</a></span></li><li><span><a href=\"#Удаление-ненужных-признаков\" data-toc-modified-id=\"Удаление-ненужных-признаков-1.2\"><span class=\"toc-item-num\">1.2&nbsp;&nbsp;</span>Удаление ненужных признаков</a></span></li><li><span><a href=\"#Проверка-данных-на-выбросы\" data-toc-modified-id=\"Проверка-данных-на-выбросы-1.3\"><span class=\"toc-item-num\">1.3&nbsp;&nbsp;</span>Проверка данных на выбросы</a></span></li><li><span><a href=\"#Проверка-на-дубликаты\" data-toc-modified-id=\"Проверка-на-дубликаты-1.4\"><span class=\"toc-item-num\">1.4&nbsp;&nbsp;</span>Проверка на дубликаты</a></span></li><li><span><a href=\"#Обработка-пропусков\" data-toc-modified-id=\"Обработка-пропусков-1.5\"><span class=\"toc-item-num\">1.5&nbsp;&nbsp;</span>Обработка пропусков</a></span></li><li><span><a href=\"#Проверка-корреляции-признаков\" data-toc-modified-id=\"Проверка-корреляции-признаков-1.6\"><span class=\"toc-item-num\">1.6&nbsp;&nbsp;</span>Проверка корреляции признаков</a></span></li><li><span><a href=\"#Вывод:\" data-toc-modified-id=\"Вывод:-1.7\"><span class=\"toc-item-num\">1.7&nbsp;&nbsp;</span>Вывод:</a></span></li></ul></li><li><span><a href=\"#Обучение-моделей\" data-toc-modified-id=\"Обучение-моделей-2\"><span class=\"toc-item-num\">2&nbsp;&nbsp;</span>Обучение моделей</a></span><ul class=\"toc-item\"><li><span><a href=\"#Кодирование-категоральных-признаков\" data-toc-modified-id=\"Кодирование-категоральных-признаков-2.1\"><span class=\"toc-item-num\">2.1&nbsp;&nbsp;</span>Кодирование категоральных признаков</a></span></li><li><span><a href=\"#Разделение-выборок\" data-toc-modified-id=\"Разделение-выборок-2.2\"><span class=\"toc-item-num\">2.2&nbsp;&nbsp;</span>Разделение выборок</a></span></li><li><span><a href=\"#Линейная-регрессия\" data-toc-modified-id=\"Линейная-регрессия-2.3\"><span class=\"toc-item-num\">2.3&nbsp;&nbsp;</span>Линейная регрессия</a></span></li><li><span><a href=\"#Ridge\" data-toc-modified-id=\"Ridge-2.4\"><span class=\"toc-item-num\">2.4&nbsp;&nbsp;</span>Ridge</a></span></li><li><span><a href=\"#RandomForest\" data-toc-modified-id=\"RandomForest-2.5\"><span class=\"toc-item-num\">2.5&nbsp;&nbsp;</span>RandomForest</a></span></li><li><span><a href=\"#CatBoost\" data-toc-modified-id=\"CatBoost-2.6\"><span class=\"toc-item-num\">2.6&nbsp;&nbsp;</span>CatBoost</a></span><ul class=\"toc-item\"><li><span><a href=\"#Обучение-на-данных-закодированных-техникой-OHE\" data-toc-modified-id=\"Обучение-на-данных-закодированных-техникой-OHE-2.6.1\"><span class=\"toc-item-num\">2.6.1&nbsp;&nbsp;</span>Обучение на данных закодированных техникой OHE</a></span></li><li><span><a href=\"#Обучение-на-оригинальных-данных,-с-указанием-категориальных-признаков-для-регрессора\" data-toc-modified-id=\"Обучение-на-оригинальных-данных,-с-указанием-категориальных-признаков-для-регрессора-2.6.2\"><span class=\"toc-item-num\">2.6.2&nbsp;&nbsp;</span>Обучение на оригинальных данных, с указанием категориальных признаков для регрессора</a></span></li></ul></li><li><span><a href=\"#LightGBM\" data-toc-modified-id=\"LightGBM-2.7\"><span class=\"toc-item-num\">2.7&nbsp;&nbsp;</span>LightGBM</a></span><ul class=\"toc-item\"><li><span><a href=\"#Обучение-на-данных-закодированных-техникой-OHE\" data-toc-modified-id=\"Обучение-на-данных-закодированных-техникой-OHE-2.7.1\"><span class=\"toc-item-num\">2.7.1&nbsp;&nbsp;</span>Обучение на данных закодированных техникой OHE</a></span></li><li><span><a href=\"#Обучение-на-оригинальных-данных,-с-указанием-категориальных-признаков-для-регрессора\" data-toc-modified-id=\"Обучение-на-оригинальных-данных,-с-указанием-категориальных-признаков-для-регрессора-2.7.2\"><span class=\"toc-item-num\">2.7.2&nbsp;&nbsp;</span>Обучение на оригинальных данных, с указанием категориальных признаков для регрессора</a></span></li></ul></li><li><span><a href=\"#Вывод:\" data-toc-modified-id=\"Вывод:-2.8\"><span class=\"toc-item-num\">2.8&nbsp;&nbsp;</span>Вывод:</a></span></li></ul></li><li><span><a href=\"#Анализ-моделей\" data-toc-modified-id=\"Анализ-моделей-3\"><span class=\"toc-item-num\">3&nbsp;&nbsp;</span>Анализ моделей</a></span><ul class=\"toc-item\"><li><span><a href=\"#Линейная-регрессия\" data-toc-modified-id=\"Линейная-регрессия-3.1\"><span class=\"toc-item-num\">3.1&nbsp;&nbsp;</span>Линейная регрессия</a></span></li><li><span><a href=\"#Ridge\" data-toc-modified-id=\"Ridge-3.2\"><span class=\"toc-item-num\">3.2&nbsp;&nbsp;</span>Ridge</a></span></li><li><span><a href=\"#RandomForest\" data-toc-modified-id=\"RandomForest-3.3\"><span class=\"toc-item-num\">3.3&nbsp;&nbsp;</span>RandomForest</a></span></li><li><span><a href=\"#CatBoost\" data-toc-modified-id=\"CatBoost-3.4\"><span class=\"toc-item-num\">3.4&nbsp;&nbsp;</span>CatBoost</a></span><ul class=\"toc-item\"><li><span><a href=\"#Тестировка-на-данных-закодированных-техникой-OHE\" data-toc-modified-id=\"Тестировка-на-данных-закодированных-техникой-OHE-3.4.1\"><span class=\"toc-item-num\">3.4.1&nbsp;&nbsp;</span>Тестировка на данных закодированных техникой OHE</a></span></li><li><span><a href=\"#Тестировка-на-оригинальных-данных,-с-указанием-категориальных-признаков-для-регрессора\" data-toc-modified-id=\"Тестировка-на-оригинальных-данных,-с-указанием-категориальных-признаков-для-регрессора-3.4.2\"><span class=\"toc-item-num\">3.4.2&nbsp;&nbsp;</span>Тестировка на оригинальных данных, с указанием категориальных признаков для регрессора</a></span></li></ul></li><li><span><a href=\"#LightGBM\" data-toc-modified-id=\"LightGBM-3.5\"><span class=\"toc-item-num\">3.5&nbsp;&nbsp;</span>LightGBM</a></span><ul class=\"toc-item\"><li><span><a href=\"#Тестировка-на-данных-закодированных-техникой-OHE\" data-toc-modified-id=\"Тестировка-на-данных-закодированных-техникой-OHE-3.5.1\"><span class=\"toc-item-num\">3.5.1&nbsp;&nbsp;</span>Тестировка на данных закодированных техникой OHE</a></span></li><li><span><a href=\"#Тестировка-на-оригинальных-данных,-с-указанием-категориальных-признаков-для-регрессора\" data-toc-modified-id=\"Тестировка-на-оригинальных-данных,-с-указанием-категориальных-признаков-для-регрессора-3.5.2\"><span class=\"toc-item-num\">3.5.2&nbsp;&nbsp;</span>Тестировка на оригинальных данных, с указанием категориальных признаков для регрессора</a></span></li></ul></li><li><span><a href=\"#Объединение-результатов\" data-toc-modified-id=\"Объединение-результатов-3.6\"><span class=\"toc-item-num\">3.6&nbsp;&nbsp;</span>Объединение результатов</a></span></li></ul></li><li><span><a href=\"#Общий-вывод:\" data-toc-modified-id=\"Общий-вывод:-4\"><span class=\"toc-item-num\">4&nbsp;&nbsp;</span>Общий вывод:</a></span></li></ul></div>"
   ]
  },
  {
   "cell_type": "markdown",
   "metadata": {},
   "source": [
    "# Определение стоимости автомобилей"
   ]
  },
  {
   "cell_type": "markdown",
   "metadata": {},
   "source": [
    "Сервис по продаже автомобилей с пробегом «Не бит, не крашен» разрабатывает приложение, которое должно привлечь новых клиентов. В нём можно быстро узнать рыночную стоимость автомобиля. В нашем распоряжении исторические данные: технические характеристики, комплектации и цены автомобилей. Нужно построить модель для определения стоимости. \n",
    "\n",
    "Заказчику важны:\n",
    "\n",
    "- качество предсказания;\n",
    "- скорость предсказания;\n",
    "- время обучения.\n",
    "\n",
    "*План действий:*\n",
    "\n",
    "1. Подготовить данные;\n",
    "2. Попробовать различные алгоритмы для нахождения лучшего;\n",
    "3. Проанализировать результаты."
   ]
  },
  {
   "cell_type": "markdown",
   "metadata": {},
   "source": [
    "## Подготовка данных\n",
    "\n",
    "Вначале импортируем все библиотеки и функции, которые будут нужны для работы."
   ]
  },
  {
   "cell_type": "code",
   "execution_count": 1,
   "metadata": {},
   "outputs": [],
   "source": [
    "import pandas as pd\n",
    "import numpy as np\n",
    "import matplotlib.pyplot as plt\n",
    "import seaborn as sns\n",
    "\n",
    "from sklearn.model_selection import train_test_split, GridSearchCV, cross_val_score\n",
    "from sklearn.metrics import make_scorer, mean_squared_error\n",
    "\n",
    "from sklearn.linear_model import LinearRegression, Ridge\n",
    "from sklearn.ensemble import RandomForestRegressor\n",
    "from catboost import CatBoostRegressor\n",
    "from lightgbm import LGBMRegressor\n",
    "\n",
    "sns.set_style('darkgrid')"
   ]
  },
  {
   "cell_type": "markdown",
   "metadata": {},
   "source": [
    "### Прочтение данных"
   ]
  },
  {
   "cell_type": "code",
   "execution_count": 2,
   "metadata": {},
   "outputs": [
    {
     "name": "stdout",
     "output_type": "stream",
     "text": [
      "<class 'pandas.core.frame.DataFrame'>\n",
      "RangeIndex: 354369 entries, 0 to 354368\n",
      "Data columns (total 16 columns):\n",
      "DateCrawled          354369 non-null object\n",
      "Price                354369 non-null int64\n",
      "VehicleType          316879 non-null object\n",
      "RegistrationYear     354369 non-null int64\n",
      "Gearbox              334536 non-null object\n",
      "Power                354369 non-null int64\n",
      "Model                334664 non-null object\n",
      "Kilometer            354369 non-null int64\n",
      "RegistrationMonth    354369 non-null int64\n",
      "FuelType             321474 non-null object\n",
      "Brand                354369 non-null object\n",
      "NotRepaired          283215 non-null object\n",
      "DateCreated          354369 non-null object\n",
      "NumberOfPictures     354369 non-null int64\n",
      "PostalCode           354369 non-null int64\n",
      "LastSeen             354369 non-null object\n",
      "dtypes: int64(7), object(9)\n",
      "memory usage: 43.3+ MB\n"
     ]
    },
    {
     "data": {
      "text/html": [
       "<div>\n",
       "<style scoped>\n",
       "    .dataframe tbody tr th:only-of-type {\n",
       "        vertical-align: middle;\n",
       "    }\n",
       "\n",
       "    .dataframe tbody tr th {\n",
       "        vertical-align: top;\n",
       "    }\n",
       "\n",
       "    .dataframe thead th {\n",
       "        text-align: right;\n",
       "    }\n",
       "</style>\n",
       "<table border=\"1\" class=\"dataframe\">\n",
       "  <thead>\n",
       "    <tr style=\"text-align: right;\">\n",
       "      <th></th>\n",
       "      <th>DateCrawled</th>\n",
       "      <th>Price</th>\n",
       "      <th>VehicleType</th>\n",
       "      <th>RegistrationYear</th>\n",
       "      <th>Gearbox</th>\n",
       "      <th>Power</th>\n",
       "      <th>Model</th>\n",
       "      <th>Kilometer</th>\n",
       "      <th>RegistrationMonth</th>\n",
       "      <th>FuelType</th>\n",
       "      <th>Brand</th>\n",
       "      <th>NotRepaired</th>\n",
       "      <th>DateCreated</th>\n",
       "      <th>NumberOfPictures</th>\n",
       "      <th>PostalCode</th>\n",
       "      <th>LastSeen</th>\n",
       "    </tr>\n",
       "  </thead>\n",
       "  <tbody>\n",
       "    <tr>\n",
       "      <td>0</td>\n",
       "      <td>2016-03-24 11:52:17</td>\n",
       "      <td>480</td>\n",
       "      <td>NaN</td>\n",
       "      <td>1993</td>\n",
       "      <td>manual</td>\n",
       "      <td>0</td>\n",
       "      <td>golf</td>\n",
       "      <td>150000</td>\n",
       "      <td>0</td>\n",
       "      <td>petrol</td>\n",
       "      <td>volkswagen</td>\n",
       "      <td>NaN</td>\n",
       "      <td>2016-03-24 00:00:00</td>\n",
       "      <td>0</td>\n",
       "      <td>70435</td>\n",
       "      <td>2016-04-07 03:16:57</td>\n",
       "    </tr>\n",
       "    <tr>\n",
       "      <td>1</td>\n",
       "      <td>2016-03-24 10:58:45</td>\n",
       "      <td>18300</td>\n",
       "      <td>coupe</td>\n",
       "      <td>2011</td>\n",
       "      <td>manual</td>\n",
       "      <td>190</td>\n",
       "      <td>NaN</td>\n",
       "      <td>125000</td>\n",
       "      <td>5</td>\n",
       "      <td>gasoline</td>\n",
       "      <td>audi</td>\n",
       "      <td>yes</td>\n",
       "      <td>2016-03-24 00:00:00</td>\n",
       "      <td>0</td>\n",
       "      <td>66954</td>\n",
       "      <td>2016-04-07 01:46:50</td>\n",
       "    </tr>\n",
       "    <tr>\n",
       "      <td>2</td>\n",
       "      <td>2016-03-14 12:52:21</td>\n",
       "      <td>9800</td>\n",
       "      <td>suv</td>\n",
       "      <td>2004</td>\n",
       "      <td>auto</td>\n",
       "      <td>163</td>\n",
       "      <td>grand</td>\n",
       "      <td>125000</td>\n",
       "      <td>8</td>\n",
       "      <td>gasoline</td>\n",
       "      <td>jeep</td>\n",
       "      <td>NaN</td>\n",
       "      <td>2016-03-14 00:00:00</td>\n",
       "      <td>0</td>\n",
       "      <td>90480</td>\n",
       "      <td>2016-04-05 12:47:46</td>\n",
       "    </tr>\n",
       "    <tr>\n",
       "      <td>3</td>\n",
       "      <td>2016-03-17 16:54:04</td>\n",
       "      <td>1500</td>\n",
       "      <td>small</td>\n",
       "      <td>2001</td>\n",
       "      <td>manual</td>\n",
       "      <td>75</td>\n",
       "      <td>golf</td>\n",
       "      <td>150000</td>\n",
       "      <td>6</td>\n",
       "      <td>petrol</td>\n",
       "      <td>volkswagen</td>\n",
       "      <td>no</td>\n",
       "      <td>2016-03-17 00:00:00</td>\n",
       "      <td>0</td>\n",
       "      <td>91074</td>\n",
       "      <td>2016-03-17 17:40:17</td>\n",
       "    </tr>\n",
       "    <tr>\n",
       "      <td>4</td>\n",
       "      <td>2016-03-31 17:25:20</td>\n",
       "      <td>3600</td>\n",
       "      <td>small</td>\n",
       "      <td>2008</td>\n",
       "      <td>manual</td>\n",
       "      <td>69</td>\n",
       "      <td>fabia</td>\n",
       "      <td>90000</td>\n",
       "      <td>7</td>\n",
       "      <td>gasoline</td>\n",
       "      <td>skoda</td>\n",
       "      <td>no</td>\n",
       "      <td>2016-03-31 00:00:00</td>\n",
       "      <td>0</td>\n",
       "      <td>60437</td>\n",
       "      <td>2016-04-06 10:17:21</td>\n",
       "    </tr>\n",
       "  </tbody>\n",
       "</table>\n",
       "</div>"
      ],
      "text/plain": [
       "           DateCrawled  Price VehicleType  RegistrationYear Gearbox  Power  \\\n",
       "0  2016-03-24 11:52:17    480         NaN              1993  manual      0   \n",
       "1  2016-03-24 10:58:45  18300       coupe              2011  manual    190   \n",
       "2  2016-03-14 12:52:21   9800         suv              2004    auto    163   \n",
       "3  2016-03-17 16:54:04   1500       small              2001  manual     75   \n",
       "4  2016-03-31 17:25:20   3600       small              2008  manual     69   \n",
       "\n",
       "   Model  Kilometer  RegistrationMonth  FuelType       Brand NotRepaired  \\\n",
       "0   golf     150000                  0    petrol  volkswagen         NaN   \n",
       "1    NaN     125000                  5  gasoline        audi         yes   \n",
       "2  grand     125000                  8  gasoline        jeep         NaN   \n",
       "3   golf     150000                  6    petrol  volkswagen          no   \n",
       "4  fabia      90000                  7  gasoline       skoda          no   \n",
       "\n",
       "           DateCreated  NumberOfPictures  PostalCode             LastSeen  \n",
       "0  2016-03-24 00:00:00                 0       70435  2016-04-07 03:16:57  \n",
       "1  2016-03-24 00:00:00                 0       66954  2016-04-07 01:46:50  \n",
       "2  2016-03-14 00:00:00                 0       90480  2016-04-05 12:47:46  \n",
       "3  2016-03-17 00:00:00                 0       91074  2016-03-17 17:40:17  \n",
       "4  2016-03-31 00:00:00                 0       60437  2016-04-06 10:17:21  "
      ]
     },
     "execution_count": 2,
     "metadata": {},
     "output_type": "execute_result"
    }
   ],
   "source": [
    "df = pd.read_csv('/datasets/autos.csv')\n",
    "\n",
    "df.info()\n",
    "df.head()"
   ]
  },
  {
   "cell_type": "markdown",
   "metadata": {},
   "source": [
    "Входные данные представялют собой таблицу, каждая строка в которой содержит инофрмацию об одном автомобиле.\n",
    "\n",
    "Описание признаков:\n",
    "- DateCrawled — дата скачивания анкеты из базы\n",
    "- VehicleType — тип автомобильного кузова\n",
    "- RegistrationYear — год регистрации автомобиля\n",
    "- Gearbox — тип коробки передач\n",
    "- Power — мощность (л. с.)\n",
    "- Model — модель автомобиля\n",
    "- Kilometer — пробег (км)\n",
    "- RegistrationMonth — месяц регистрации автомобиля\n",
    "- FuelType — тип топлива\n",
    "- Brand — марка автомобиля\n",
    "- NotRepaired — была машина в ремонте или нет\n",
    "- DateCreated — дата создания анкеты\n",
    "- NumberOfPictures — количество фотографий автомобиля\n",
    "- PostalCode — почтовый индекс владельца анкеты (пользователя)\n",
    "- LastSeen — дата последней активности пользователя\n",
    "\n",
    "Целевой признак:\n",
    "- Price - цена автомобиля."
   ]
  },
  {
   "cell_type": "code",
   "execution_count": 3,
   "metadata": {},
   "outputs": [],
   "source": [
    "# для удобства переведем все названия столбцов к нижнему регистру\n",
    "df.columns = df.columns.str.lower()"
   ]
  },
  {
   "cell_type": "markdown",
   "metadata": {},
   "source": [
    "### Удаление ненужных признаков\n",
    "\n",
    "В данных присутствуюn признаки, которые точно не могут повлиять на стоимость автомобиля. Удалим их, с целью экономии ресурсов."
   ]
  },
  {
   "cell_type": "code",
   "execution_count": 4,
   "metadata": {},
   "outputs": [],
   "source": [
    "df = df.drop(['datecrawled', 'registrationmonth', 'datecreated', 'postalcode', 'lastseen', 'numberofpictures'], axis=1)"
   ]
  },
  {
   "cell_type": "markdown",
   "metadata": {},
   "source": [
    "### Проверка данных на выбросы\n",
    "\n",
    "**Цена**\n",
    "\n",
    "Стоит убедиться, что в значениях целевого признака нет аномальных значений. Построим гистограмму для визуальной оценки."
   ]
  },
  {
   "cell_type": "code",
   "execution_count": 5,
   "metadata": {},
   "outputs": [
    {
     "data": {
      "image/png": "[encoded data removed]",
      "text/plain": [
       "<Figure size 720x432 with 1 Axes>"
      ]
     },
     "metadata": {},
     "output_type": "display_data"
    }
   ],
   "source": [
    "plt.figure(figsize=(10, 6))\n",
    "df['price'].hist(bins=100)\n",
    "plt.title('Распеределение цен')\n",
    "plt.xlabel('цена')\n",
    "plt.ylabel('количество наблюдений')\n",
    "plt.show()"
   ]
  },
  {
   "cell_type": "markdown",
   "metadata": {},
   "source": [
    "Посмотрим ближе на промежуток цен от 0 до 1000 евро."
   ]
  },
  {
   "cell_type": "code",
   "execution_count": 6,
   "metadata": {},
   "outputs": [
    {
     "data": {
      "image/png": "[encoded data removed]",
      "text/plain": [
       "<Figure size 720x432 with 1 Axes>"
      ]
     },
     "metadata": {},
     "output_type": "display_data"
    }
   ],
   "source": [
    "plt.figure(figsize=(10, 6))\n",
    "df[df['price'] < 1000]['price'].hist(bins=100)\n",
    "plt.title('Распеределение цен')\n",
    "plt.xlabel('цена')\n",
    "plt.ylabel('количество наблюдений')\n",
    "plt.show()"
   ]
  },
  {
   "cell_type": "markdown",
   "metadata": {},
   "source": [
    "Наблюдаем довольно большой пик в нуле. Может кто-то и продает автомобили бесплатно, но подобное точно ухудшит предсказания нашей модели, поэтому откажемся от этой части данных. Разумным так же будет отказаться от автомобилей стоимостью меньше 100 евро, их очень мало и они тоже могут подпортить модель."
   ]
  },
  {
   "cell_type": "code",
   "execution_count": 7,
   "metadata": {},
   "outputs": [],
   "source": [
    "df = df.query('price > 99')"
   ]
  },
  {
   "cell_type": "markdown",
   "metadata": {},
   "source": [
    "**Год регистрации**"
   ]
  },
  {
   "cell_type": "code",
   "execution_count": 8,
   "metadata": {
    "scrolled": true
   },
   "outputs": [
    {
     "data": {
      "text/plain": [
       "[1000,\n",
       " 1001,\n",
       " 1039,\n",
       " 1111,\n",
       " 1234,\n",
       " 1255,\n",
       " 1300,\n",
       " 1400,\n",
       " 1500,\n",
       " 1600,\n",
       " 1602,\n",
       " 1800,\n",
       " 1910,\n",
       " 1923,\n",
       " 1925,\n",
       " 1927,\n",
       " 1928,\n",
       " 1929,\n",
       " 1930,\n",
       " 1931,\n",
       " 1932,\n",
       " 1933,\n",
       " 1934,\n",
       " 1935,\n",
       " 1936,\n",
       " 1937,\n",
       " 1938,\n",
       " 1940,\n",
       " 1941,\n",
       " 1942,\n",
       " 1943,\n",
       " 1944,\n",
       " 1945,\n",
       " 1946,\n",
       " 1947,\n",
       " 1948,\n",
       " 1949,\n",
       " 1950,\n",
       " 1951,\n",
       " 1952,\n",
       " 1953,\n",
       " 1954,\n",
       " 1955,\n",
       " 1956,\n",
       " 1957,\n",
       " 1958,\n",
       " 1959,\n",
       " 1960,\n",
       " 1961,\n",
       " 1962,\n",
       " 1963,\n",
       " 1964,\n",
       " 1965,\n",
       " 1966,\n",
       " 1967,\n",
       " 1968,\n",
       " 1969,\n",
       " 1970,\n",
       " 1971,\n",
       " 1972,\n",
       " 1973,\n",
       " 1974,\n",
       " 1975,\n",
       " 1976,\n",
       " 1977,\n",
       " 1978,\n",
       " 1979,\n",
       " 1980,\n",
       " 1981,\n",
       " 1982,\n",
       " 1983,\n",
       " 1984,\n",
       " 1985,\n",
       " 1986,\n",
       " 1987,\n",
       " 1988,\n",
       " 1989,\n",
       " 1990,\n",
       " 1991,\n",
       " 1992,\n",
       " 1993,\n",
       " 1994,\n",
       " 1995,\n",
       " 1996,\n",
       " 1997,\n",
       " 1998,\n",
       " 1999,\n",
       " 2000,\n",
       " 2001,\n",
       " 2002,\n",
       " 2003,\n",
       " 2004,\n",
       " 2005,\n",
       " 2006,\n",
       " 2007,\n",
       " 2008,\n",
       " 2009,\n",
       " 2010,\n",
       " 2011,\n",
       " 2012,\n",
       " 2013,\n",
       " 2014,\n",
       " 2015,\n",
       " 2016,\n",
       " 2017,\n",
       " 2018,\n",
       " 2019,\n",
       " 2066,\n",
       " 2200,\n",
       " 2222,\n",
       " 2290,\n",
       " 2500,\n",
       " 2800,\n",
       " 2900,\n",
       " 3000,\n",
       " 3200,\n",
       " 3700,\n",
       " 3800,\n",
       " 4000,\n",
       " 4100,\n",
       " 4500,\n",
       " 4800,\n",
       " 5000,\n",
       " 5300,\n",
       " 5555,\n",
       " 5600,\n",
       " 5900,\n",
       " 5911,\n",
       " 6000,\n",
       " 7000,\n",
       " 7100,\n",
       " 7800,\n",
       " 8200,\n",
       " 8500,\n",
       " 8888,\n",
       " 9000,\n",
       " 9450,\n",
       " 9999]"
      ]
     },
     "execution_count": 8,
     "metadata": {},
     "output_type": "execute_result"
    }
   ],
   "source": [
    "sorted(df['registrationyear'].unique())"
   ]
  },
  {
   "cell_type": "markdown",
   "metadata": {},
   "source": [
    "Видим, что довольно много странных значений. Определим актуальный период времени с 1970 и посмотрим сколько выбросов."
   ]
  },
  {
   "cell_type": "code",
   "execution_count": 9,
   "metadata": {},
   "outputs": [
    {
     "data": {
      "text/plain": [
       "1188"
      ]
     },
     "execution_count": 9,
     "metadata": {},
     "output_type": "execute_result"
    }
   ],
   "source": [
    "df.query('registrationyear < 1970 or registrationyear > 2021').shape[0]"
   ]
  },
  {
   "cell_type": "markdown",
   "metadata": {},
   "source": [
    "Хорошо, что их так мало и мы можем от них отказаться."
   ]
  },
  {
   "cell_type": "code",
   "execution_count": 10,
   "metadata": {},
   "outputs": [],
   "source": [
    "df = df.query('1970 < registrationyear < 2022')"
   ]
  },
  {
   "cell_type": "markdown",
   "metadata": {},
   "source": [
    "**Мощность двигателя**\n",
    "\n",
    "Один из самых мощных существующих типов двигателя имеет 700 л.с. , в соответствии с этим определим границы."
   ]
  },
  {
   "cell_type": "code",
   "execution_count": 11,
   "metadata": {},
   "outputs": [
    {
     "data": {
      "image/png": "[encoded data removed]",
      "text/plain": [
       "<Figure size 720x432 with 1 Axes>"
      ]
     },
     "metadata": {},
     "output_type": "display_data"
    }
   ],
   "source": [
    "plt.figure(figsize=(10, 6))\n",
    "df.query('power < 700')['power'].hist(bins=100)\n",
    "plt.title('Распеределение мощностей двигателей')\n",
    "plt.xlabel('мощность')\n",
    "plt.ylabel('количество наблюдений')\n",
    "plt.show()"
   ]
  },
  {
   "cell_type": "markdown",
   "metadata": {},
   "source": [
    "Из графика видим, что выше 300 л.с. значений практически нет, но около нуля есть пик. Это точно выбросы. Стоит лучше рассмотреть промежуток от 0 до 100 л.с., чтобы установить нижнюю границу."
   ]
  },
  {
   "cell_type": "code",
   "execution_count": 12,
   "metadata": {},
   "outputs": [
    {
     "data": {
      "image/png": "[encoded data removed]",
      "text/plain": [
       "<Figure size 432x288 with 1 Axes>"
      ]
     },
     "metadata": {},
     "output_type": "display_data"
    }
   ],
   "source": [
    "df.query('power < 700')['power'].hist(bins=100)\n",
    "plt.xlim(0, 100)\n",
    "plt.title('Распеределение мощностей двигателей')\n",
    "plt.xlabel('мощность')\n",
    "plt.ylabel('количество наблюдений')\n",
    "plt.show()"
   ]
  },
  {
   "cell_type": "markdown",
   "metadata": {},
   "source": [
    "Визуально определяем нижнюю гранцу в 40 л.с."
   ]
  },
  {
   "cell_type": "code",
   "execution_count": 13,
   "metadata": {},
   "outputs": [],
   "source": [
    "df = df.query('40 < power < 300')"
   ]
  },
  {
   "cell_type": "markdown",
   "metadata": {},
   "source": [
    "**Пробег**"
   ]
  },
  {
   "cell_type": "code",
   "execution_count": 14,
   "metadata": {},
   "outputs": [
    {
     "data": {
      "image/png": "[encoded data removed]",
      "text/plain": [
       "<Figure size 432x288 with 1 Axes>"
      ]
     },
     "metadata": {},
     "output_type": "display_data"
    }
   ],
   "source": [
    "df['kilometer'].hist(bins=13)\n",
    "plt.title('Распеределение пробега автомобилей')\n",
    "plt.xlabel('пройденные км')\n",
    "plt.ylabel('количество наблюдений')\n",
    "plt.show()"
   ]
  },
  {
   "cell_type": "markdown",
   "metadata": {},
   "source": [
    "Здесь все в порядке.\n",
    "\n",
    "Теперь посмотрим на категоральные признаки."
   ]
  },
  {
   "cell_type": "markdown",
   "metadata": {},
   "source": [
    "**Тип кузова**"
   ]
  },
  {
   "cell_type": "code",
   "execution_count": 15,
   "metadata": {},
   "outputs": [
    {
     "data": {
      "text/plain": [
       "sedan          81086\n",
       "small          68846\n",
       "wagon          58620\n",
       "bus            26133\n",
       "convertible    18310\n",
       "coupe          13780\n",
       "suv            10414\n",
       "other           2320\n",
       "Name: vehicletype, dtype: int64"
      ]
     },
     "execution_count": 15,
     "metadata": {},
     "output_type": "execute_result"
    }
   ],
   "source": [
    "df['vehicletype'].value_counts()"
   ]
  },
  {
   "cell_type": "markdown",
   "metadata": {},
   "source": [
    "Все категории разные по смыслу. Ничего менять не будем.\n",
    "\n",
    "**Тип коробки передач**"
   ]
  },
  {
   "cell_type": "code",
   "execution_count": 16,
   "metadata": {},
   "outputs": [
    {
     "data": {
      "text/plain": [
       "manual    237139\n",
       "auto       57290\n",
       "Name: gearbox, dtype: int64"
      ]
     },
     "execution_count": 16,
     "metadata": {},
     "output_type": "execute_result"
    }
   ],
   "source": [
    "df['gearbox'].value_counts()"
   ]
  },
  {
   "cell_type": "markdown",
   "metadata": {},
   "source": [
    "Да, всего существует два типа.\n",
    "\n",
    "**Тип топлива**"
   ]
  },
  {
   "cell_type": "code",
   "execution_count": 17,
   "metadata": {},
   "outputs": [
    {
     "data": {
      "text/plain": [
       "petrol      186944\n",
       "gasoline     88893\n",
       "lpg           4490\n",
       "cng            495\n",
       "hybrid         203\n",
       "other           54\n",
       "electric        36\n",
       "Name: fueltype, dtype: int64"
      ]
     },
     "execution_count": 17,
     "metadata": {},
     "output_type": "execute_result"
    }
   ],
   "source": [
    "df['fueltype'].value_counts()"
   ]
  },
  {
   "cell_type": "markdown",
   "metadata": {},
   "source": [
    "Сразу в глаза бросаются два лидирующих типа. Оказывается слова *petrol* и *gasoline* означают одно и то же - бензин. Поэтому оставим только одно название *petrol*."
   ]
  },
  {
   "cell_type": "code",
   "execution_count": 18,
   "metadata": {},
   "outputs": [],
   "source": [
    "df.loc[df['fueltype'] == 'gasoline', 'fueltype'] = 'petrol'"
   ]
  },
  {
   "cell_type": "markdown",
   "metadata": {},
   "source": [
    "**Была ли машина в ремонте**"
   ]
  },
  {
   "cell_type": "code",
   "execution_count": 19,
   "metadata": {},
   "outputs": [
    {
     "data": {
      "text/plain": [
       "no     225734\n",
       "yes     28862\n",
       "Name: notrepaired, dtype: int64"
      ]
     },
     "execution_count": 19,
     "metadata": {},
     "output_type": "execute_result"
    }
   ],
   "source": [
    "df['notrepaired'].value_counts()"
   ]
  },
  {
   "cell_type": "markdown",
   "metadata": {},
   "source": [
    "Столбец по смыслу бинарный, чему и соответствует всего два варианта ответов."
   ]
  },
  {
   "cell_type": "markdown",
   "metadata": {},
   "source": [
    "Оставшиеся столбцы с маркой и моделью машин явно не стоит трогать."
   ]
  },
  {
   "cell_type": "markdown",
   "metadata": {},
   "source": [
    "### Проверка на дубликаты"
   ]
  },
  {
   "cell_type": "code",
   "execution_count": 20,
   "metadata": {},
   "outputs": [
    {
     "data": {
      "text/plain": [
       "40082"
      ]
     },
     "execution_count": 20,
     "metadata": {},
     "output_type": "execute_result"
    }
   ],
   "source": [
    "df.duplicated().sum()"
   ]
  },
  {
   "cell_type": "markdown",
   "metadata": {},
   "source": [
    "Довольно много повторяющихся строк. Избавимся от них."
   ]
  },
  {
   "cell_type": "code",
   "execution_count": 21,
   "metadata": {},
   "outputs": [],
   "source": [
    "df = df.drop_duplicates().reset_index(drop=True)"
   ]
  },
  {
   "cell_type": "markdown",
   "metadata": {},
   "source": [
    "### Обработка пропусков"
   ]
  },
  {
   "cell_type": "code",
   "execution_count": 22,
   "metadata": {},
   "outputs": [
    {
     "data": {
      "text/plain": [
       "price                   0\n",
       "vehicletype         19499\n",
       "registrationyear        0\n",
       "gearbox              5521\n",
       "power                   0\n",
       "model               11066\n",
       "kilometer               0\n",
       "fueltype            18381\n",
       "brand                   0\n",
       "notrepaired         42069\n",
       "dtype: int64"
      ]
     },
     "execution_count": 22,
     "metadata": {},
     "output_type": "execute_result"
    }
   ],
   "source": [
    "df.isna().sum()"
   ]
  },
  {
   "cell_type": "markdown",
   "metadata": {},
   "source": [
    "Пропусков довольно много, поэтому удалять их мы точно не будем. Пропуски есть только в категоральных признаках. Поэтому создадим новую категорию - **unknown**, которая будет означать отсутствие информации. \n",
    "\n",
    "Однако стоит заметить, что в признаке *тип топлива*, 98% процентов значений занимает бензин. Логичнее заменить здесь все пропуски на такую сильную моду."
   ]
  },
  {
   "cell_type": "code",
   "execution_count": 23,
   "metadata": {},
   "outputs": [],
   "source": [
    "#сначала заменим пропуски в столбце с типом топлива\n",
    "df['fueltype'] = df['fueltype'].fillna('petrol')\n",
    "\n",
    "#затем во всех оставшихся \n",
    "for column in df.columns:\n",
    "    df[column] = df[column].fillna('unknown')"
   ]
  },
  {
   "cell_type": "markdown",
   "metadata": {},
   "source": [
    "Убедимся, что пропусков не осталось."
   ]
  },
  {
   "cell_type": "code",
   "execution_count": 24,
   "metadata": {},
   "outputs": [
    {
     "data": {
      "text/plain": [
       "price               0\n",
       "vehicletype         0\n",
       "registrationyear    0\n",
       "gearbox             0\n",
       "power               0\n",
       "model               0\n",
       "kilometer           0\n",
       "fueltype            0\n",
       "brand               0\n",
       "notrepaired         0\n",
       "dtype: int64"
      ]
     },
     "execution_count": 24,
     "metadata": {},
     "output_type": "execute_result"
    }
   ],
   "source": [
    "df.isna().sum()"
   ]
  },
  {
   "cell_type": "markdown",
   "metadata": {},
   "source": [
    "### Проверка корреляции признаков"
   ]
  },
  {
   "cell_type": "code",
   "execution_count": 25,
   "metadata": {},
   "outputs": [
    {
     "data": {
      "text/html": [
       "<div>\n",
       "<style scoped>\n",
       "    .dataframe tbody tr th:only-of-type {\n",
       "        vertical-align: middle;\n",
       "    }\n",
       "\n",
       "    .dataframe tbody tr th {\n",
       "        vertical-align: top;\n",
       "    }\n",
       "\n",
       "    .dataframe thead th {\n",
       "        text-align: right;\n",
       "    }\n",
       "</style>\n",
       "<table border=\"1\" class=\"dataframe\">\n",
       "  <thead>\n",
       "    <tr style=\"text-align: right;\">\n",
       "      <th></th>\n",
       "      <th>price</th>\n",
       "      <th>registrationyear</th>\n",
       "      <th>power</th>\n",
       "      <th>kilometer</th>\n",
       "    </tr>\n",
       "  </thead>\n",
       "  <tbody>\n",
       "    <tr>\n",
       "      <td>price</td>\n",
       "      <td>1.000000</td>\n",
       "      <td>0.456254</td>\n",
       "      <td>0.489770</td>\n",
       "      <td>-0.391874</td>\n",
       "    </tr>\n",
       "    <tr>\n",
       "      <td>registrationyear</td>\n",
       "      <td>0.456254</td>\n",
       "      <td>1.000000</td>\n",
       "      <td>0.088341</td>\n",
       "      <td>-0.291873</td>\n",
       "    </tr>\n",
       "    <tr>\n",
       "      <td>power</td>\n",
       "      <td>0.489770</td>\n",
       "      <td>0.088341</td>\n",
       "      <td>1.000000</td>\n",
       "      <td>0.117604</td>\n",
       "    </tr>\n",
       "    <tr>\n",
       "      <td>kilometer</td>\n",
       "      <td>-0.391874</td>\n",
       "      <td>-0.291873</td>\n",
       "      <td>0.117604</td>\n",
       "      <td>1.000000</td>\n",
       "    </tr>\n",
       "  </tbody>\n",
       "</table>\n",
       "</div>"
      ],
      "text/plain": [
       "                     price  registrationyear     power  kilometer\n",
       "price             1.000000          0.456254  0.489770  -0.391874\n",
       "registrationyear  0.456254          1.000000  0.088341  -0.291873\n",
       "power             0.489770          0.088341  1.000000   0.117604\n",
       "kilometer        -0.391874         -0.291873  0.117604   1.000000"
      ]
     },
     "execution_count": 25,
     "metadata": {},
     "output_type": "execute_result"
    }
   ],
   "source": [
    "df.corr()"
   ]
  },
  {
   "cell_type": "markdown",
   "metadata": {},
   "source": [
    "Между всеми признаки нет сильной корреляции. А значит стоит работать со всеми без исключения."
   ]
  },
  {
   "cell_type": "markdown",
   "metadata": {},
   "source": [
    "### Вывод:\n",
    "Данные успешно загружены и выполнена их предобработка.\n",
    "\n",
    "- были удалены ненужные признаки;\n",
    "- обработаны выбросы;\n",
    "- удалены дубликаты;\n",
    "- обработаны пропуски;\n",
    "- признаки проверелись на корреляцию.\n",
    "\n",
    "Хочется обратить внимание на то, что во нескольких количественных признаках было много нулевых значений, котороые не могут соответствовать действительности. Так же замечено большое количество полных дубликатов. Стоит проверить процесс сбора данных на исправность."
   ]
  },
  {
   "cell_type": "markdown",
   "metadata": {},
   "source": [
    "## Обучение моделей"
   ]
  },
  {
   "cell_type": "markdown",
   "metadata": {},
   "source": [
    "Будем тестировать 5 алгоритмов:\n",
    "\n",
    "1. Линейную регрессию\n",
    "2. Ridge регрессию\n",
    "3. RandomForestRegressor\n",
    "4. CatBoostRegressor\n",
    "5. LightGBMRegressor\n",
    "\n",
    "Для всех алгоритмов найдем лучшие гиперпараметры с помощью кросс-валидации."
   ]
  },
  {
   "cell_type": "markdown",
   "metadata": {},
   "source": [
    "### Кодирование категоральных признаков\n",
    "\n",
    "Так как у нас есть категоральные признаки, то воспользуемся техникой прямого кодирования, чтобы лучше работали модели, зависящие от расстояния."
   ]
  },
  {
   "cell_type": "code",
   "execution_count": 26,
   "metadata": {},
   "outputs": [],
   "source": [
    "df_ohe = pd.get_dummies(df)"
   ]
  },
  {
   "cell_type": "markdown",
   "metadata": {},
   "source": [
    "### Разделение выборок\n"
   ]
  },
  {
   "cell_type": "code",
   "execution_count": 27,
   "metadata": {},
   "outputs": [],
   "source": [
    "train_X, test_X, train_Y, test_Y = train_test_split(df_ohe.drop('price', axis=1), df_ohe['price'],\n",
    "                                                    test_size=0.25, random_state=5)"
   ]
  },
  {
   "cell_type": "markdown",
   "metadata": {},
   "source": [
    "### Линейная регрессия"
   ]
  },
  {
   "cell_type": "code",
   "execution_count": 28,
   "metadata": {
    "scrolled": true
   },
   "outputs": [
    {
     "name": "stdout",
     "output_type": "stream",
     "text": [
      "RMSE на кросс-валидации для модели линеной регрессии: 2538.4278992590525\n",
      "\n"
     ]
    }
   ],
   "source": [
    "model_lg = LinearRegression()\n",
    "\n",
    "cv_lg_score = (cross_val_score(model_lg, train_X, train_Y, cv=5, scoring='neg_mean_squared_error').mean() * -1) ** 0.5\n",
    "\n",
    "print('RMSE на кросс-валидации для модели линеной регрессии:', cv_lg_score, end='\\n\\n')"
   ]
  },
  {
   "cell_type": "markdown",
   "metadata": {},
   "source": [
    "### Ridge"
   ]
  },
  {
   "cell_type": "code",
   "execution_count": 29,
   "metadata": {},
   "outputs": [],
   "source": [
    "# почему-то не рабоет neg_root_mean_squared_error, поэтому для скореров внутри гридсерча сделал свой рмсе\n",
    "\n",
    "def make_rmse(target, predict):\n",
    "    return mean_squared_error(target, predict) ** 0.5\n",
    "    \n",
    "rmse = make_scorer(make_rmse, greater_is_better=False)"
   ]
  },
  {
   "cell_type": "code",
   "execution_count": 30,
   "metadata": {},
   "outputs": [
    {
     "name": "stderr",
     "output_type": "stream",
     "text": [
      "/opt/conda/lib/python3.7/site-packages/sklearn/model_selection/_split.py:1978: FutureWarning: The default value of cv will change from 3 to 5 in version 0.22. Specify it explicitly to silence this warning.\n",
      "  warnings.warn(CV_WARNING, FutureWarning)\n"
     ]
    },
    {
     "name": "stdout",
     "output_type": "stream",
     "text": [
      "Лушие параметры для ridge регрессии: {'solver': 'svd'}\n",
      "\n",
      "CPU times: user 1min 59s, sys: 41 s, total: 2min 40s\n",
      "Wall time: 2min 41s\n"
     ]
    }
   ],
   "source": [
    "%%time\n",
    "\n",
    "model_ridge = Ridge()\n",
    "\n",
    "params_ridge = [{'solver':['auto', 'svd', 'cholesky', 'lsqr','sparse_cg']}]\n",
    "grid_ridge = GridSearchCV(model_ridge, params_ridge, scoring=rmse)\n",
    "grid_ridge.fit(train_X, train_Y)\n",
    "\n",
    "print('Лушие параметры для ridge регрессии:', grid_ridge.best_params_, end='\\n\\n')"
   ]
  },
  {
   "cell_type": "code",
   "execution_count": 31,
   "metadata": {},
   "outputs": [
    {
     "name": "stdout",
     "output_type": "stream",
     "text": [
      "RMSE на кросс-валидации для модели ridge регрессии: 2538.2431982851317\n",
      "\n"
     ]
    }
   ],
   "source": [
    "model_ridge_best = Ridge(solver='svd')\n",
    "\n",
    "cv_ridge_score = (cross_val_score(model_ridge_best, train_X, train_Y, cv=5,\n",
    "                                  scoring='neg_mean_squared_error').mean() * -1) ** 0.5\n",
    "\n",
    "print('RMSE на кросс-валидации для модели ridge регрессии:', cv_ridge_score,  end='\\n\\n')"
   ]
  },
  {
   "cell_type": "markdown",
   "metadata": {},
   "source": [
    "### RandomForest"
   ]
  },
  {
   "cell_type": "code",
   "execution_count": 32,
   "metadata": {},
   "outputs": [
    {
     "name": "stdout",
     "output_type": "stream",
     "text": [
      "Лушие параметры для RandomForest: {'max_depth': None, 'n_estimators': 20}\n",
      "\n",
      "CPU times: user 17min 27s, sys: 4.05 s, total: 17min 31s\n",
      "Wall time: 17min 52s\n"
     ]
    }
   ],
   "source": [
    "%%time\n",
    "\n",
    "model_forest = RandomForestRegressor(random_state=5)\n",
    "\n",
    "params_forest = {'n_estimators':np.arange(5, 25, 5), 'max_depth': [None, 3, 4, 6]}\n",
    "grid_forest = GridSearchCV(model_forest, params_forest, cv=3, n_jobs=-1, scoring=rmse)\n",
    "grid_forest.fit(train_X, train_Y)\n",
    "\n",
    "print('Лушие параметры для RandomForest:', grid_forest.best_params_, end='\\n\\n')"
   ]
  },
  {
   "cell_type": "code",
   "execution_count": 33,
   "metadata": {},
   "outputs": [
    {
     "name": "stdout",
     "output_type": "stream",
     "text": [
      "RMSE на кросс-валидации для модели RandomForest: 1665.9932746793772\n",
      "\n"
     ]
    }
   ],
   "source": [
    "model_forest_best = RandomForestRegressor(random_state=5, n_estimators=20, max_depth=None)\n",
    "\n",
    "cv_forest_score = (cross_val_score(model_forest_best, train_X, train_Y, cv=5,\n",
    "                                  scoring='neg_mean_squared_error').mean() * -1) ** 0.5\n",
    "\n",
    "print('RMSE на кросс-валидации для модели RandomForest:', cv_forest_score, end='\\n\\n')"
   ]
  },
  {
   "cell_type": "markdown",
   "metadata": {},
   "source": [
    "### CatBoost\n",
    "\n",
    "У модели CatBoostRegressor есть особый параметр, работающий с категориальными признаками, который может улучшить показатели модели. Поэтому попробуем два варианта обучения:\n",
    " - на данных закодированных техникой OHE;\n",
    " - и на оригинальных данных, с указанием категориальных признаков для регрессора."
   ]
  },
  {
   "cell_type": "markdown",
   "metadata": {},
   "source": [
    "#### Обучение на данных закодированных техникой OHE"
   ]
  },
  {
   "cell_type": "code",
   "execution_count": 34,
   "metadata": {},
   "outputs": [
    {
     "name": "stdout",
     "output_type": "stream",
     "text": [
      "Лучшие параметры для CatBoost с техникой OHE: {'depth': 10, 'learning_rate': 0.5000000000000001}\n",
      "\n",
      "CPU times: user 12min 7s, sys: 1min 19s, total: 13min 26s\n",
      "Wall time: 14min 18s\n"
     ]
    }
   ],
   "source": [
    "%%time\n",
    "\n",
    "model_cat = CatBoostRegressor(loss_function='RMSE', iterations=150, random_seed=5, verbose=False)\n",
    "parameters_cat = {'depth':[5,10], 'learning_rate':np.arange(0.1,1,0.2)}\n",
    "cat_grid = GridSearchCV(model_cat, parameters_cat, cv=3, n_jobs=-1)\n",
    "\n",
    "cat_grid.fit(train_X, train_Y)\n",
    "\n",
    "print('Лучшие параметры для CatBoost с техникой OHE:', cat_grid.best_params_, end='\\n\\n')"
   ]
  },
  {
   "cell_type": "code",
   "execution_count": 35,
   "metadata": {},
   "outputs": [
    {
     "name": "stdout",
     "output_type": "stream",
     "text": [
      "RMSE на кросс-валидации для модели CatBoost с техникой OHE: 1586.028301283657\n",
      "\n"
     ]
    }
   ],
   "source": [
    "model_cat_best = CatBoostRegressor(loss_function='RMSE', iterations=150, random_seed=5, verbose=False,\n",
    "                                  learning_rate=0.5, depth=10)\n",
    "\n",
    "cv_cat_score = (cross_val_score(model_cat_best, train_X, train_Y, cv=5,\n",
    "                                  scoring='neg_mean_squared_error').mean() * -1) ** 0.5\n",
    "\n",
    "print('RMSE на кросс-валидации для модели CatBoost с техникой OHE:', cv_cat_score, end='\\n\\n')"
   ]
  },
  {
   "cell_type": "markdown",
   "metadata": {},
   "source": [
    "#### Обучение на оригинальных данных, с указанием категориальных признаков для регрессора\n",
    "\n",
    "Для начала создадим подготовим обучающую и тестовую выборки и выделим категориальные признаки."
   ]
  },
  {
   "cell_type": "code",
   "execution_count": 36,
   "metadata": {},
   "outputs": [],
   "source": [
    "cat_train_X, cat_test_X, cat_train_Y, cat_test_Y = train_test_split(df.drop('price', axis=1), df_ohe['price'],\n",
    "                                                    test_size=0.25, random_state=5)\n",
    "\n",
    "categorical_features = ['vehicletype', 'gearbox', 'model', 'fueltype', 'brand', 'notrepaired']"
   ]
  },
  {
   "cell_type": "code",
   "execution_count": 37,
   "metadata": {},
   "outputs": [
    {
     "name": "stdout",
     "output_type": "stream",
     "text": [
      "Лучшие параметры для CatBoost с указание категоральных признаков: {'depth': 10, 'learning_rate': 0.30000000000000004}\n",
      "\n",
      "CPU times: user 18min 47s, sys: 2min 4s, total: 20min 51s\n",
      "Wall time: 21min 43s\n"
     ]
    }
   ],
   "source": [
    "%%time\n",
    "\n",
    "model_cat_2 = CatBoostRegressor(loss_function='RMSE', iterations=150, random_seed=5, verbose=False,\n",
    "                             cat_features=categorical_features)\n",
    "parameters_cat_2 = {'depth':[5,10], 'learning_rate':np.arange(0.1,1,0.2)}\n",
    "cat_grid_2 = GridSearchCV(model_cat_2, parameters_cat_2, cv=3, n_jobs=-1)\n",
    "\n",
    "cat_grid_2.fit(cat_train_X, cat_train_Y)\n",
    "\n",
    "print('Лучшие параметры для CatBoost с указание категоральных признаков:', cat_grid_2.best_params_, end='\\n\\n')"
   ]
  },
  {
   "cell_type": "code",
   "execution_count": 38,
   "metadata": {},
   "outputs": [
    {
     "name": "stdout",
     "output_type": "stream",
     "text": [
      "RMSE на кросс-валидации для модели CatBoost с указание категоральных признаков: 1596.3807689138853\n",
      "\n"
     ]
    }
   ],
   "source": [
    "model_cat_best_2 = CatBoostRegressor(loss_function='RMSE', iterations=150, random_seed=5, verbose=False,\n",
    "                                  learning_rate=0.3, depth=10, cat_features=categorical_features)\n",
    "\n",
    "cv_cat_score_2 = (cross_val_score(model_cat_best_2, cat_train_X, cat_train_Y, cv=5,\n",
    "                                  scoring='neg_mean_squared_error').mean() * -1) ** 0.5\n",
    "\n",
    "print('RMSE на кросс-валидации для модели CatBoost с указание категоральных признаков:', cv_cat_score_2, end='\\n\\n')"
   ]
  },
  {
   "cell_type": "markdown",
   "metadata": {},
   "source": [
    "### LightGBM\n",
    "\n",
    "Как и у предыдущего регрессора LGBMRegressor тоже имеет способ улучшенной обработки категориальных признаков. Поэтому также будем обучать отдельно на данных с OHE и с указанием категориальных признаков."
   ]
  },
  {
   "cell_type": "markdown",
   "metadata": {},
   "source": [
    "#### Обучение на данных закодированных техникой OHE"
   ]
  },
  {
   "cell_type": "code",
   "execution_count": 39,
   "metadata": {
    "scrolled": true
   },
   "outputs": [
    {
     "name": "stdout",
     "output_type": "stream",
     "text": [
      "Лучшие параметры для модели LightGBM с техникой OHE: {'learning_rate': 0.1, 'num_leaves': 200}\n",
      "\n",
      "CPU times: user 24min 37s, sys: 18.5 s, total: 24min 56s\n",
      "Wall time: 25min 9s\n"
     ]
    }
   ],
   "source": [
    "%%time\n",
    "\n",
    "model_lgbm = LGBMRegressor(metric='rmse') \n",
    "\n",
    "params_lgbm = {'num_leaves':[31, 100, 200], 'learning_rate':np.arange(0.1,1,0.2)}\n",
    "grid_lgbm = GridSearchCV(model_lgbm, params_lgbm, cv=3, n_jobs=-1)\n",
    "\n",
    "grid_lgbm.fit(train_X, train_Y)\n",
    "\n",
    "print('Лучшие параметры для модели LightGBM с техникой OHE:', grid_lgbm.best_params_, end='\\n\\n')"
   ]
  },
  {
   "cell_type": "code",
   "execution_count": 40,
   "metadata": {},
   "outputs": [
    {
     "name": "stdout",
     "output_type": "stream",
     "text": [
      "RMSE на кросс-валидации для модели LightGBM с техникой OHE: 1571.9405835298091\n",
      "\n"
     ]
    }
   ],
   "source": [
    "model_lgbm_best = LGBMRegressor(metric='rmse', learning_rate=0.1 , num_leaves=200)\n",
    "\n",
    "cv_lgbm_score = (cross_val_score(model_lgbm_best, train_X, train_Y, cv=5,\n",
    "                                  scoring='neg_mean_squared_error').mean() * -1) ** 0.5\n",
    "\n",
    "print('RMSE на кросс-валидации для модели LightGBM с техникой OHE:', cv_lgbm_score, end='\\n\\n')"
   ]
  },
  {
   "cell_type": "markdown",
   "metadata": {},
   "source": [
    "#### Обучение на оригинальных данных, с указанием категориальных признаков для регрессора\n",
    "\n",
    "Для того, чтобы модель LGBMRegressor восприняла категориальные признаки достаточно изменить их тип на *category*."
   ]
  },
  {
   "cell_type": "code",
   "execution_count": 41,
   "metadata": {},
   "outputs": [],
   "source": [
    "lgbm_df = df\n",
    "\n",
    "for col in categorical_features:\n",
    "    lgbm_df[col] = lgbm_df[col].astype('category')\n",
    "    \n",
    "lgbm_train_X, lgbm_test_X, lgbm_train_Y, lgbm_test_Y = train_test_split(lgbm_df.drop('price', axis=1), df_ohe['price'],\n",
    "                                                    test_size=0.25, random_state=5)"
   ]
  },
  {
   "cell_type": "code",
   "execution_count": 42,
   "metadata": {},
   "outputs": [
    {
     "name": "stdout",
     "output_type": "stream",
     "text": [
      "Лучшие параметры для модели LightGBM с указанием категоральных признаков: {'learning_rate': 0.1, 'num_leaves': 200}\n",
      "\n",
      "CPU times: user 19min 34s, sys: 5.09 s, total: 19min 39s\n",
      "Wall time: 19min 49s\n"
     ]
    }
   ],
   "source": [
    "%%time\n",
    "\n",
    "model_lgbm_2 = LGBMRegressor(metric='rmse') \n",
    "\n",
    "params_lgbm_2 = {'num_leaves':[31, 100, 200], 'learning_rate':np.arange(0.1,1,0.2)}\n",
    "grid_lgbm_2 = GridSearchCV(model_lgbm_2, params_lgbm_2, cv=3, n_jobs=-1)\n",
    "\n",
    "grid_lgbm_2.fit(lgbm_train_X, lgbm_train_Y)\n",
    "\n",
    "print('Лучшие параметры для модели LightGBM с указанием категоральных признаков:', grid_lgbm_2.best_params_, end='\\n\\n')"
   ]
  },
  {
   "cell_type": "code",
   "execution_count": 43,
   "metadata": {},
   "outputs": [
    {
     "name": "stdout",
     "output_type": "stream",
     "text": [
      "RMSE на кросс-валидации для модели LightGBM с указанием категоральных признаков: 1551.0143966616035\n",
      "\n"
     ]
    }
   ],
   "source": [
    "model_lgbm_best_2 = LGBMRegressor(metric='rmse', learning_rate=0.1 , num_leaves=200)\n",
    "\n",
    "cv_lgbm_score_2 = (cross_val_score(model_lgbm_best_2, lgbm_train_X, lgbm_train_Y, cv=5,\n",
    "                                  scoring='neg_mean_squared_error').mean() * -1) ** 0.5\n",
    "\n",
    "print('RMSE на кросс-валидации для модели LightGBM с указанием категоральных признаков:', cv_lgbm_score_2, end='\\n\\n')"
   ]
  },
  {
   "cell_type": "markdown",
   "metadata": {},
   "source": [
    "### Вывод:\n",
    "\n",
    "Для каждой модели были найдены лучшие гиперпараметры, и вместе с ними найдены результаты метрик RMSE на кросс-валидации."
   ]
  },
  {
   "cell_type": "markdown",
   "metadata": {},
   "source": [
    "## Анализ моделей"
   ]
  },
  {
   "cell_type": "markdown",
   "metadata": {},
   "source": [
    "Проверим модели с лучшими гиперпараметрами на тестовых данных. Так как для заказчика важно не только качетсво предсказаний, но и их скорость, а также время обучения, то будем замерять время на каждом шаге."
   ]
  },
  {
   "cell_type": "markdown",
   "metadata": {},
   "source": [
    "### Линейная регрессия"
   ]
  },
  {
   "cell_type": "code",
   "execution_count": 44,
   "metadata": {},
   "outputs": [
    {
     "name": "stdout",
     "output_type": "stream",
     "text": [
      "CPU times: user 17.7 s, sys: 7.08 s, total: 24.8 s\n",
      "Wall time: 25 s\n"
     ]
    },
    {
     "data": {
      "text/plain": [
       "LinearRegression(copy_X=True, fit_intercept=True, n_jobs=None, normalize=False)"
      ]
     },
     "execution_count": 44,
     "metadata": {},
     "output_type": "execute_result"
    }
   ],
   "source": [
    "%%time\n",
    "\n",
    "model_lg_test = LinearRegression()\n",
    "model_lg_test.fit(train_X, train_Y)"
   ]
  },
  {
   "cell_type": "code",
   "execution_count": 45,
   "metadata": {},
   "outputs": [
    {
     "name": "stdout",
     "output_type": "stream",
     "text": [
      "CPU times: user 107 ms, sys: 140 ms, total: 247 ms\n",
      "Wall time: 275 ms\n"
     ]
    }
   ],
   "source": [
    "%%time\n",
    "lg_preds = model_lg_test.predict(test_X)"
   ]
  },
  {
   "cell_type": "code",
   "execution_count": 46,
   "metadata": {},
   "outputs": [],
   "source": [
    "lg_rmse_test = mean_squared_error(test_Y, lg_preds) ** 0.5"
   ]
  },
  {
   "cell_type": "markdown",
   "metadata": {},
   "source": [
    "### Ridge"
   ]
  },
  {
   "cell_type": "code",
   "execution_count": 47,
   "metadata": {},
   "outputs": [
    {
     "name": "stdout",
     "output_type": "stream",
     "text": [
      "CPU times: user 31.7 s, sys: 11.3 s, total: 43 s\n",
      "Wall time: 43.4 s\n"
     ]
    },
    {
     "data": {
      "text/plain": [
       "Ridge(alpha=1.0, copy_X=True, fit_intercept=True, max_iter=None,\n",
       "      normalize=False, random_state=None, solver='svd', tol=0.001)"
      ]
     },
     "execution_count": 47,
     "metadata": {},
     "output_type": "execute_result"
    }
   ],
   "source": [
    "%%time\n",
    "\n",
    "model_ridge_test = Ridge(solver='svd')\n",
    "model_ridge_test.fit(train_X, train_Y)"
   ]
  },
  {
   "cell_type": "code",
   "execution_count": 48,
   "metadata": {},
   "outputs": [
    {
     "name": "stdout",
     "output_type": "stream",
     "text": [
      "CPU times: user 98.6 ms, sys: 97.9 ms, total: 197 ms\n",
      "Wall time: 189 ms\n"
     ]
    }
   ],
   "source": [
    "%%time\n",
    "ridge_preds = model_ridge_test.predict(test_X)"
   ]
  },
  {
   "cell_type": "code",
   "execution_count": 49,
   "metadata": {},
   "outputs": [],
   "source": [
    "ridge_rmse_test = mean_squared_error(test_Y, ridge_preds) ** 0.5"
   ]
  },
  {
   "cell_type": "markdown",
   "metadata": {},
   "source": [
    "### RandomForest"
   ]
  },
  {
   "cell_type": "code",
   "execution_count": 50,
   "metadata": {},
   "outputs": [
    {
     "name": "stdout",
     "output_type": "stream",
     "text": [
      "CPU times: user 1min 51s, sys: 20.6 ms, total: 1min 51s\n",
      "Wall time: 1min 54s\n"
     ]
    },
    {
     "data": {
      "text/plain": [
       "RandomForestRegressor(bootstrap=True, criterion='mse', max_depth=None,\n",
       "                      max_features='auto', max_leaf_nodes=None,\n",
       "                      min_impurity_decrease=0.0, min_impurity_split=None,\n",
       "                      min_samples_leaf=1, min_samples_split=2,\n",
       "                      min_weight_fraction_leaf=0.0, n_estimators=20,\n",
       "                      n_jobs=None, oob_score=False, random_state=5, verbose=0,\n",
       "                      warm_start=False)"
      ]
     },
     "execution_count": 50,
     "metadata": {},
     "output_type": "execute_result"
    }
   ],
   "source": [
    "%%time\n",
    "\n",
    "model_forest_test = RandomForestRegressor(random_state=5, n_estimators=20, max_depth=None)\n",
    "model_forest_test.fit(train_X, train_Y)"
   ]
  },
  {
   "cell_type": "code",
   "execution_count": 51,
   "metadata": {},
   "outputs": [
    {
     "name": "stdout",
     "output_type": "stream",
     "text": [
      "CPU times: user 925 ms, sys: 52 ms, total: 977 ms\n",
      "Wall time: 984 ms\n"
     ]
    }
   ],
   "source": [
    "%%time\n",
    "forest_preds = model_forest_test.predict(test_X)"
   ]
  },
  {
   "cell_type": "code",
   "execution_count": 52,
   "metadata": {},
   "outputs": [],
   "source": [
    "forest_rmse_test = mean_squared_error(test_Y, forest_preds) ** 0.5"
   ]
  },
  {
   "cell_type": "markdown",
   "metadata": {},
   "source": [
    "### CatBoost"
   ]
  },
  {
   "cell_type": "markdown",
   "metadata": {},
   "source": [
    "#### Тестировка на данных закодированных техникой OHE"
   ]
  },
  {
   "cell_type": "code",
   "execution_count": 53,
   "metadata": {},
   "outputs": [
    {
     "name": "stdout",
     "output_type": "stream",
     "text": [
      "CPU times: user 37.8 s, sys: 4.91 s, total: 42.7 s\n",
      "Wall time: 44.3 s\n"
     ]
    },
    {
     "data": {
      "text/plain": [
       "<catboost.core.CatBoostRegressor at 0x7fe91a3d7350>"
      ]
     },
     "execution_count": 53,
     "metadata": {},
     "output_type": "execute_result"
    }
   ],
   "source": [
    "%%time\n",
    "\n",
    "model_cat_test = CatBoostRegressor(loss_function='RMSE', iterations=150, random_seed=5, verbose=False,\n",
    "                                  learning_rate=0.5, depth=10)\n",
    "model_cat_test.fit(train_X, train_Y)"
   ]
  },
  {
   "cell_type": "code",
   "execution_count": 54,
   "metadata": {},
   "outputs": [
    {
     "name": "stdout",
     "output_type": "stream",
     "text": [
      "CPU times: user 259 ms, sys: 58.2 ms, total: 317 ms\n",
      "Wall time: 307 ms\n"
     ]
    }
   ],
   "source": [
    "%%time\n",
    "cat_preds = model_cat_test.predict(test_X)"
   ]
  },
  {
   "cell_type": "code",
   "execution_count": 55,
   "metadata": {},
   "outputs": [],
   "source": [
    "cat_rmse_test = mean_squared_error(test_Y, cat_preds) ** 0.5"
   ]
  },
  {
   "cell_type": "markdown",
   "metadata": {},
   "source": [
    "#### Тестировка на оригинальных данных, с указанием категориальных признаков для регрессора"
   ]
  },
  {
   "cell_type": "code",
   "execution_count": 56,
   "metadata": {},
   "outputs": [
    {
     "name": "stdout",
     "output_type": "stream",
     "text": [
      "CPU times: user 1min 2s, sys: 6.83 s, total: 1min 9s\n",
      "Wall time: 1min 11s\n"
     ]
    },
    {
     "data": {
      "text/plain": [
       "<catboost.core.CatBoostRegressor at 0x7fe918c0fb90>"
      ]
     },
     "execution_count": 56,
     "metadata": {},
     "output_type": "execute_result"
    }
   ],
   "source": [
    "%%time\n",
    "\n",
    "model_cat_2_test = CatBoostRegressor(loss_function='RMSE', iterations=150, random_seed=5, verbose=False,\n",
    "                                  learning_rate=0.3, depth=10, cat_features=categorical_features)\n",
    "model_cat_2_test.fit(cat_train_X, cat_train_Y)"
   ]
  },
  {
   "cell_type": "code",
   "execution_count": 57,
   "metadata": {},
   "outputs": [
    {
     "name": "stdout",
     "output_type": "stream",
     "text": [
      "CPU times: user 307 ms, sys: 4.82 ms, total: 312 ms\n",
      "Wall time: 293 ms\n"
     ]
    }
   ],
   "source": [
    "%%time\n",
    "cat_preds_2 = model_cat_2_test.predict(cat_test_X)"
   ]
  },
  {
   "cell_type": "code",
   "execution_count": 58,
   "metadata": {},
   "outputs": [],
   "source": [
    "cat_rmse_2_test = mean_squared_error(cat_test_Y, cat_preds_2) ** 0.5"
   ]
  },
  {
   "cell_type": "markdown",
   "metadata": {},
   "source": [
    "### LightGBM"
   ]
  },
  {
   "cell_type": "markdown",
   "metadata": {},
   "source": [
    "#### Тестировка на данных закодированных техникой OHE"
   ]
  },
  {
   "cell_type": "code",
   "execution_count": 59,
   "metadata": {},
   "outputs": [
    {
     "name": "stdout",
     "output_type": "stream",
     "text": [
      "CPU times: user 54.9 s, sys: 571 ms, total: 55.5 s\n",
      "Wall time: 56.1 s\n"
     ]
    },
    {
     "data": {
      "text/plain": [
       "LGBMRegressor(boosting_type='gbdt', class_weight=None, colsample_bytree=1.0,\n",
       "              importance_type='split', learning_rate=0.1, max_depth=-1,\n",
       "              metric='rmse', min_child_samples=20, min_child_weight=0.001,\n",
       "              min_split_gain=0.0, n_estimators=100, n_jobs=-1, num_leaves=200,\n",
       "              objective=None, random_state=None, reg_alpha=0.0, reg_lambda=0.0,\n",
       "              silent=True, subsample=1.0, subsample_for_bin=200000,\n",
       "              subsample_freq=0)"
      ]
     },
     "execution_count": 59,
     "metadata": {},
     "output_type": "execute_result"
    }
   ],
   "source": [
    "%%time\n",
    "\n",
    "model_lgbm_test = LGBMRegressor(metric='rmse', learning_rate=0.1 , num_leaves=200)\n",
    "model_lgbm_test.fit(train_X, train_Y)"
   ]
  },
  {
   "cell_type": "code",
   "execution_count": 60,
   "metadata": {},
   "outputs": [
    {
     "name": "stdout",
     "output_type": "stream",
     "text": [
      "CPU times: user 2.06 s, sys: 87.7 ms, total: 2.15 s\n",
      "Wall time: 2.12 s\n"
     ]
    }
   ],
   "source": [
    "%%time\n",
    "lgbm_preds = model_lgbm_test.predict(test_X)"
   ]
  },
  {
   "cell_type": "code",
   "execution_count": 61,
   "metadata": {},
   "outputs": [],
   "source": [
    "lgbm_rmse_test = mean_squared_error(test_Y, lgbm_preds) ** 0.5"
   ]
  },
  {
   "cell_type": "markdown",
   "metadata": {},
   "source": [
    "#### Тестировка на оригинальных данных, с указанием категориальных признаков для регрессора"
   ]
  },
  {
   "cell_type": "code",
   "execution_count": 62,
   "metadata": {},
   "outputs": [
    {
     "name": "stdout",
     "output_type": "stream",
     "text": [
      "CPU times: user 51.3 s, sys: 280 ms, total: 51.6 s\n",
      "Wall time: 52.3 s\n"
     ]
    },
    {
     "data": {
      "text/plain": [
       "LGBMRegressor(boosting_type='gbdt', class_weight=None, colsample_bytree=1.0,\n",
       "              importance_type='split', learning_rate=0.1, max_depth=-1,\n",
       "              metric='rmse', min_child_samples=20, min_child_weight=0.001,\n",
       "              min_split_gain=0.0, n_estimators=100, n_jobs=-1, num_leaves=200,\n",
       "              objective=None, random_state=None, reg_alpha=0.0, reg_lambda=0.0,\n",
       "              silent=True, subsample=1.0, subsample_for_bin=200000,\n",
       "              subsample_freq=0)"
      ]
     },
     "execution_count": 62,
     "metadata": {},
     "output_type": "execute_result"
    }
   ],
   "source": [
    "%%time\n",
    "\n",
    "model_lgbm_2_test = LGBMRegressor(metric='rmse', learning_rate=0.1, num_leaves=200)\n",
    "model_lgbm_2_test.fit(lgbm_train_X, lgbm_train_Y)"
   ]
  },
  {
   "cell_type": "code",
   "execution_count": 63,
   "metadata": {},
   "outputs": [
    {
     "name": "stdout",
     "output_type": "stream",
     "text": [
      "CPU times: user 2.05 s, sys: 0 ns, total: 2.05 s\n",
      "Wall time: 2.08 s\n"
     ]
    }
   ],
   "source": [
    "%%time\n",
    "lgbm_preds_2 = model_lgbm_2_test.predict(lgbm_test_X)"
   ]
  },
  {
   "cell_type": "code",
   "execution_count": 64,
   "metadata": {},
   "outputs": [],
   "source": [
    "lgbm_rmse_2_test = mean_squared_error(lgbm_test_Y, lgbm_preds_2) ** 0.5"
   ]
  },
  {
   "cell_type": "markdown",
   "metadata": {},
   "source": [
    "### Объединение результатов"
   ]
  },
  {
   "cell_type": "code",
   "execution_count": 68,
   "metadata": {},
   "outputs": [
    {
     "data": {
      "text/html": [
       "<div>\n",
       "<style scoped>\n",
       "    .dataframe tbody tr th:only-of-type {\n",
       "        vertical-align: middle;\n",
       "    }\n",
       "\n",
       "    .dataframe tbody tr th {\n",
       "        vertical-align: top;\n",
       "    }\n",
       "\n",
       "    .dataframe thead th {\n",
       "        text-align: right;\n",
       "    }\n",
       "</style>\n",
       "<table border=\"1\" class=\"dataframe\">\n",
       "  <thead>\n",
       "    <tr style=\"text-align: right;\">\n",
       "      <th></th>\n",
       "      <th>RMSE на CV</th>\n",
       "      <th>RMSE на тестовой выборке</th>\n",
       "      <th>Время предсказания</th>\n",
       "      <th>Время обучения</th>\n",
       "    </tr>\n",
       "  </thead>\n",
       "  <tbody>\n",
       "    <tr>\n",
       "      <td>LinearRegression</td>\n",
       "      <td>2538.427899</td>\n",
       "      <td>2553.176226</td>\n",
       "      <td>0.275</td>\n",
       "      <td>25.0</td>\n",
       "    </tr>\n",
       "    <tr>\n",
       "      <td>Ridge</td>\n",
       "      <td>2538.243198</td>\n",
       "      <td>2553.159555</td>\n",
       "      <td>0.189</td>\n",
       "      <td>43.4</td>\n",
       "    </tr>\n",
       "    <tr>\n",
       "      <td>RandomForest</td>\n",
       "      <td>1665.993275</td>\n",
       "      <td>1675.047723</td>\n",
       "      <td>0.984</td>\n",
       "      <td>114.0</td>\n",
       "    </tr>\n",
       "    <tr>\n",
       "      <td>CatBoost с OHE</td>\n",
       "      <td>1586.028301</td>\n",
       "      <td>1599.842752</td>\n",
       "      <td>0.307</td>\n",
       "      <td>44.3</td>\n",
       "    </tr>\n",
       "    <tr>\n",
       "      <td>CatBoost c обработкой категориальных признаков</td>\n",
       "      <td>1596.380769</td>\n",
       "      <td>1612.992340</td>\n",
       "      <td>0.293</td>\n",
       "      <td>71.0</td>\n",
       "    </tr>\n",
       "    <tr>\n",
       "      <td>LightGBM с OHE</td>\n",
       "      <td>1571.940584</td>\n",
       "      <td>1588.672111</td>\n",
       "      <td>2.120</td>\n",
       "      <td>56.1</td>\n",
       "    </tr>\n",
       "    <tr>\n",
       "      <td>LightGBM c обработкой категориальных признаков</td>\n",
       "      <td>1551.014397</td>\n",
       "      <td>1564.499078</td>\n",
       "      <td>2.080</td>\n",
       "      <td>52.3</td>\n",
       "    </tr>\n",
       "  </tbody>\n",
       "</table>\n",
       "</div>"
      ],
      "text/plain": [
       "                                                 RMSE на CV  \\\n",
       "LinearRegression                                2538.427899   \n",
       "Ridge                                           2538.243198   \n",
       "RandomForest                                    1665.993275   \n",
       "CatBoost с OHE                                  1586.028301   \n",
       "CatBoost c обработкой категориальных признаков  1596.380769   \n",
       "LightGBM с OHE                                  1571.940584   \n",
       "LightGBM c обработкой категориальных признаков  1551.014397   \n",
       "\n",
       "                                                RMSE на тестовой выборке  \\\n",
       "LinearRegression                                             2553.176226   \n",
       "Ridge                                                        2553.159555   \n",
       "RandomForest                                                 1675.047723   \n",
       "CatBoost с OHE                                               1599.842752   \n",
       "CatBoost c обработкой категориальных признаков               1612.992340   \n",
       "LightGBM с OHE                                               1588.672111   \n",
       "LightGBM c обработкой категориальных признаков               1564.499078   \n",
       "\n",
       "                                                Время предсказания  \\\n",
       "LinearRegression                                             0.275   \n",
       "Ridge                                                        0.189   \n",
       "RandomForest                                                 0.984   \n",
       "CatBoost с OHE                                               0.307   \n",
       "CatBoost c обработкой категориальных признаков               0.293   \n",
       "LightGBM с OHE                                               2.120   \n",
       "LightGBM c обработкой категориальных признаков               2.080   \n",
       "\n",
       "                                                Время обучения  \n",
       "LinearRegression                                          25.0  \n",
       "Ridge                                                     43.4  \n",
       "RandomForest                                             114.0  \n",
       "CatBoost с OHE                                            44.3  \n",
       "CatBoost c обработкой категориальных признаков            71.0  \n",
       "LightGBM с OHE                                            56.1  \n",
       "LightGBM c обработкой категориальных признаков            52.3  "
      ]
     },
     "execution_count": 68,
     "metadata": {},
     "output_type": "execute_result"
    }
   ],
   "source": [
    "results_index = ['LinearRegression',\n",
    "         'Ridge',\n",
    "         'RandomForest',\n",
    "         'CatBoost с OHE',\n",
    "         'CatBoost c обработкой категориальных признаков',\n",
    "         'LightGBM с OHE',\n",
    "         'LightGBM c обработкой категориальных признаков'\n",
    "                ]\n",
    "\n",
    "results_data = {'RMSE на CV': [cv_lg_score, cv_ridge_score, cv_forest_score,\n",
    "                               cv_cat_score, cv_cat_score_2, cv_lgbm_score, cv_lgbm_score_2],\n",
    "                'RMSE на тестовой выборке': [lg_rmse_test, ridge_rmse_test, forest_rmse_test,\n",
    "                                             cat_rmse_test, cat_rmse_2_test, lgbm_rmse_test, lgbm_rmse_2_test],\n",
    "                'Время предсказания': [0.275, 0.189, 0.984, 0.307, 0.293, 2.12, 2.08],\n",
    "                'Время обучения': [25.0, 43.4, 114.0, 44.3, 71.0, 56.1, 52.3]  \n",
    "                }\n",
    "\n",
    "results_df = pd.DataFrame(index=results_index, data=results_data)\n",
    "\n",
    "results_df"
   ]
  },
  {
   "cell_type": "markdown",
   "metadata": {},
   "source": [
    "Отлично, модели не переобучились, так как различие между RMSE на кросс-валидации и тесте минимально. Можно формулировать выводы."
   ]
  },
  {
   "cell_type": "markdown",
   "metadata": {},
   "source": [
    "## Общий вывод:\n",
    "\n",
    "Входные данные представляли собой таблицу, в которой каждая строка являлась наблюдением за одним автомобилем, а столбцы - харакеристиками при продаже.\n",
    "\n",
    "В данных встретились отсутствующие значения и выбросы. Их большое количество свидетельствует о проблема с процессом сбора данных. Все данные были предобработаны и подготовлены для обучения на пяти алгоритмах машинного обучения: *LinearRegression, Ridge, RandomForestRegressor, CatBoostRegressor (c OHE и с обработкой категориальных признаков), LGBMRegressor (c OHE и с обработкой категориальных признаков).*\n",
    "\n",
    "С помощью кросс-валидации для каждой модели нашлись лучшие гиперпараметры, с которыми затем модели были протестированы на тестовой выборке.\n",
    "\n",
    "Лучшие модели:\n",
    "- по качеству - *LGBMRegressor с обработкой категориальных признаков*\n",
    "- по скорости предсказания - *Ridge*\n",
    "- по времени обучения - *LinearRegression*\n",
    "\n",
    "Несмотря на высокую скорость предсказания и обучения модели LinearRegression и Ridge показали худшие результаты по качеству, почти в два раза хуже остальных. Ими в этой задаче явно не стоит пользоваться.\n",
    "\n",
    "Так же стоит отказться от RandomForestRegressor, он показал результат немного хуже моделей градиентного бустинга, да и к тому же имеет максимальное время обучения. \n",
    "\n",
    "Довольно схожие результаты по качетсву показали модели CatBoostRegressor и LGBMRegressor. Несмотря на то, что модель CatBoostRegressor с OHE не выиграла ни в одном из параметров, все же в совокупности ее можно признать фаворитом. По качеству она хуже всего на 5%, чем топовая модель, но в то же время обладает гораздо лучшими показателями по вермени.\n",
    "\n",
    "Опираясь на 3 показателя: качество предсказания, скорость предсказания и время обучения, **лучшей моделью признается CatBoostRegressor с закодированными категориальными данными техникой OHE, с гиперпараметрами: loss_function='RMSE', iterations=150, learning_rate=0.5, depth=10**."
   ]
  }
 ],
 "metadata": {
  "ExecuteTimeLog": [
   {
    "duration": 814,
    "start_time": "2021-07-14T13:25:59.027Z"
   },
   {
    "duration": 1398,
    "start_time": "2021-07-14T13:26:41.793Z"
   },
   {
    "duration": 159,
    "start_time": "2021-07-14T13:27:01.687Z"
   },
   {
    "duration": 8175,
    "start_time": "2021-07-14T13:29:08.775Z"
   },
   {
    "duration": 29,
    "start_time": "2021-07-14T13:29:32.611Z"
   },
   {
    "duration": 361,
    "start_time": "2021-07-14T13:29:40.895Z"
   },
   {
    "duration": 48,
    "start_time": "2021-07-14T13:29:55.389Z"
   },
   {
    "duration": 44,
    "start_time": "2021-07-14T13:32:30.931Z"
   },
   {
    "duration": 215,
    "start_time": "2021-07-15T10:38:16.186Z"
   },
   {
    "duration": 572,
    "start_time": "2021-07-15T10:38:23.482Z"
   },
   {
    "duration": 902,
    "start_time": "2021-07-15T10:38:24.056Z"
   },
   {
    "duration": 3,
    "start_time": "2021-07-15T10:38:24.960Z"
   },
   {
    "duration": 136,
    "start_time": "2021-07-15T10:38:24.965Z"
   },
   {
    "duration": 32,
    "start_time": "2021-07-15T10:38:25.103Z"
   },
   {
    "duration": 60,
    "start_time": "2021-07-15T10:38:48.407Z"
   },
   {
    "duration": 4,
    "start_time": "2021-07-15T10:38:52.536Z"
   },
   {
    "duration": 3,
    "start_time": "2021-07-15T10:39:02.237Z"
   },
   {
    "duration": 13,
    "start_time": "2021-07-15T10:39:11.801Z"
   },
   {
    "duration": 3,
    "start_time": "2021-07-15T10:40:15.570Z"
   },
   {
    "duration": 3,
    "start_time": "2021-07-15T10:40:55.350Z"
   },
   {
    "duration": 262,
    "start_time": "2021-07-15T10:44:51.663Z"
   },
   {
    "duration": 603,
    "start_time": "2021-07-15T10:45:21.617Z"
   },
   {
    "duration": 369,
    "start_time": "2021-07-15T10:45:34.350Z"
   },
   {
    "duration": 443,
    "start_time": "2021-07-15T10:46:35.639Z"
   },
   {
    "duration": 492,
    "start_time": "2021-07-15T10:46:39.860Z"
   },
   {
    "duration": 347,
    "start_time": "2021-07-15T10:46:47.139Z"
   },
   {
    "duration": 321,
    "start_time": "2021-07-15T10:47:18.827Z"
   },
   {
    "duration": 418,
    "start_time": "2021-07-15T10:47:56.476Z"
   },
   {
    "duration": 35,
    "start_time": "2021-07-15T10:49:11.552Z"
   },
   {
    "duration": 35,
    "start_time": "2021-07-15T10:50:38.212Z"
   },
   {
    "duration": 41278,
    "start_time": "2021-07-15T10:51:25.856Z"
   },
   {
    "duration": 182,
    "start_time": "2021-07-15T10:52:29.354Z"
   },
   {
    "duration": 428,
    "start_time": "2021-07-15T10:53:57.844Z"
   },
   {
    "duration": 455,
    "start_time": "2021-07-15T10:54:25.551Z"
   },
   {
    "duration": 3753,
    "start_time": "2021-07-15T10:54:33.418Z"
   },
   {
    "duration": 2110,
    "start_time": "2021-07-15T10:54:53.156Z"
   },
   {
    "duration": 461,
    "start_time": "2021-07-15T10:55:24.208Z"
   },
   {
    "duration": 630,
    "start_time": "2021-07-15T10:55:45.845Z"
   },
   {
    "duration": 475,
    "start_time": "2021-07-15T10:56:58.039Z"
   },
   {
    "duration": 36,
    "start_time": "2021-07-15T11:01:09.397Z"
   },
   {
    "duration": 12,
    "start_time": "2021-07-15T11:04:52.933Z"
   },
   {
    "duration": 32,
    "start_time": "2021-07-15T11:06:58.628Z"
   },
   {
    "duration": 175,
    "start_time": "2021-07-15T11:07:26.583Z"
   },
   {
    "duration": 1064,
    "start_time": "2021-07-15T11:07:34.072Z"
   },
   {
    "duration": 864,
    "start_time": "2021-07-15T11:07:35.138Z"
   },
   {
    "duration": 3,
    "start_time": "2021-07-15T11:07:36.004Z"
   },
   {
    "duration": 26,
    "start_time": "2021-07-15T11:07:36.009Z"
   },
   {
    "duration": 501,
    "start_time": "2021-07-15T11:07:36.037Z"
   },
   {
    "duration": 464,
    "start_time": "2021-07-15T11:07:36.539Z"
   },
   {
    "duration": 39,
    "start_time": "2021-07-15T11:07:37.005Z"
   },
   {
    "duration": 83,
    "start_time": "2021-07-15T11:07:37.046Z"
   },
   {
    "duration": 4462,
    "start_time": "2021-07-15T11:07:37.130Z"
   },
   {
    "duration": 31,
    "start_time": "2021-07-15T11:10:38.648Z"
   },
   {
    "duration": 73,
    "start_time": "2021-07-15T11:24:48.224Z"
   },
   {
    "duration": 30,
    "start_time": "2021-07-15T11:24:49.340Z"
   },
   {
    "duration": 11,
    "start_time": "2021-07-15T14:12:30.297Z"
   },
   {
    "duration": 32,
    "start_time": "2021-07-15T14:12:51.700Z"
   },
   {
    "duration": 8,
    "start_time": "2021-07-15T14:13:02.973Z"
   },
   {
    "duration": 31,
    "start_time": "2021-07-15T14:13:43.695Z"
   },
   {
    "duration": 8,
    "start_time": "2021-07-15T14:13:50.886Z"
   },
   {
    "duration": 31,
    "start_time": "2021-07-15T14:15:00.277Z"
   },
   {
    "duration": 32,
    "start_time": "2021-07-15T14:16:16.128Z"
   },
   {
    "duration": 274,
    "start_time": "2021-07-15T14:17:04.015Z"
   },
   {
    "duration": 188,
    "start_time": "2021-07-15T14:17:25.294Z"
   },
   {
    "duration": 203,
    "start_time": "2021-07-15T14:17:59.623Z"
   },
   {
    "duration": 6,
    "start_time": "2021-07-15T14:18:23.632Z"
   },
   {
    "duration": 5,
    "start_time": "2021-07-15T14:18:30.142Z"
   },
   {
    "duration": 4,
    "start_time": "2021-07-15T14:18:36.362Z"
   },
   {
    "duration": 6,
    "start_time": "2021-07-15T14:18:41.353Z"
   },
   {
    "duration": 5,
    "start_time": "2021-07-15T14:19:07.274Z"
   },
   {
    "duration": 189,
    "start_time": "2021-07-15T14:19:16.267Z"
   },
   {
    "duration": 6,
    "start_time": "2021-07-15T14:19:25.001Z"
   },
   {
    "duration": 6,
    "start_time": "2021-07-15T14:19:30.389Z"
   },
   {
    "duration": 5,
    "start_time": "2021-07-15T14:19:59.922Z"
   },
   {
    "duration": 5,
    "start_time": "2021-07-15T14:20:24.848Z"
   },
   {
    "duration": 5,
    "start_time": "2021-07-15T14:20:29.399Z"
   },
   {
    "duration": 11,
    "start_time": "2021-07-15T14:20:43.085Z"
   },
   {
    "duration": 114,
    "start_time": "2021-07-15T14:22:09.719Z"
   },
   {
    "duration": -1928,
    "start_time": "2021-07-15T14:22:54.181Z"
   },
   {
    "duration": 46,
    "start_time": "2021-07-15T14:23:06.572Z"
   },
   {
    "duration": 12,
    "start_time": "2021-07-15T14:23:39.791Z"
   },
   {
    "duration": 10,
    "start_time": "2021-07-15T14:23:48.938Z"
   },
   {
    "duration": 17,
    "start_time": "2021-07-15T14:23:54.387Z"
   },
   {
    "duration": 14,
    "start_time": "2021-07-15T14:23:58.538Z"
   },
   {
    "duration": 10,
    "start_time": "2021-07-15T14:24:03.141Z"
   },
   {
    "duration": 69,
    "start_time": "2021-07-15T14:26:22.005Z"
   },
   {
    "duration": 26,
    "start_time": "2021-07-15T14:27:31.315Z"
   },
   {
    "duration": 10800,
    "start_time": "2021-07-15T14:28:37.568Z"
   },
   {
    "duration": 305,
    "start_time": "2021-07-15T14:28:50.405Z"
   },
   {
    "duration": 9,
    "start_time": "2021-07-15T14:29:00.514Z"
   },
   {
    "duration": 380,
    "start_time": "2021-07-15T14:29:28.881Z"
   },
   {
    "duration": 467,
    "start_time": "2021-07-15T14:31:34.899Z"
   },
   {
    "duration": 430,
    "start_time": "2021-07-15T14:31:58.332Z"
   },
   {
    "duration": 482,
    "start_time": "2021-07-15T14:32:24.585Z"
   },
   {
    "duration": 444,
    "start_time": "2021-07-15T14:33:32.652Z"
   },
   {
    "duration": 427,
    "start_time": "2021-07-15T14:33:40.271Z"
   },
   {
    "duration": 24,
    "start_time": "2021-07-15T14:36:25.005Z"
   },
   {
    "duration": 560,
    "start_time": "2021-07-15T14:36:58.792Z"
   },
   {
    "duration": 493,
    "start_time": "2021-07-15T14:38:23.318Z"
   },
   {
    "duration": 5,
    "start_time": "2021-07-15T14:39:11.177Z"
   },
   {
    "duration": 8,
    "start_time": "2021-07-15T14:39:29.836Z"
   },
   {
    "duration": 301,
    "start_time": "2021-07-15T14:40:22.163Z"
   },
   {
    "duration": 30,
    "start_time": "2021-07-15T14:41:24.298Z"
   },
   {
    "duration": 29,
    "start_time": "2021-07-15T14:42:00.391Z"
   },
   {
    "duration": 8,
    "start_time": "2021-07-15T14:42:11.636Z"
   },
   {
    "duration": 9,
    "start_time": "2021-07-15T14:42:44.161Z"
   },
   {
    "duration": 1095,
    "start_time": "2021-07-15T14:44:39.132Z"
   },
   {
    "duration": 872,
    "start_time": "2021-07-15T14:44:40.229Z"
   },
   {
    "duration": 3,
    "start_time": "2021-07-15T14:44:41.103Z"
   },
   {
    "duration": 26,
    "start_time": "2021-07-15T14:44:41.108Z"
   },
   {
    "duration": 494,
    "start_time": "2021-07-15T14:44:41.136Z"
   },
   {
    "duration": 467,
    "start_time": "2021-07-15T14:44:41.632Z"
   },
   {
    "duration": 41,
    "start_time": "2021-07-15T14:44:42.101Z"
   },
   {
    "duration": 5,
    "start_time": "2021-07-15T14:44:42.145Z"
   },
   {
    "duration": 34,
    "start_time": "2021-07-15T14:44:42.152Z"
   },
   {
    "duration": 36,
    "start_time": "2021-07-15T14:44:42.187Z"
   },
   {
    "duration": 509,
    "start_time": "2021-07-15T14:44:42.224Z"
   },
   {
    "duration": 515,
    "start_time": "2021-07-15T14:44:42.735Z"
   },
   {
    "duration": 39,
    "start_time": "2021-07-15T14:44:43.252Z"
   },
   {
    "duration": 297,
    "start_time": "2021-07-15T14:44:43.293Z"
   },
   {
    "duration": 127,
    "start_time": "2021-07-15T15:22:51.386Z"
   },
   {
    "duration": 122,
    "start_time": "2021-07-15T15:23:08.115Z"
   },
   {
    "duration": 127,
    "start_time": "2021-07-15T15:23:13.552Z"
   },
   {
    "duration": 140,
    "start_time": "2021-07-15T15:24:41.057Z"
   },
   {
    "duration": 152,
    "start_time": "2021-07-15T15:24:55.385Z"
   },
   {
    "duration": 412,
    "start_time": "2021-07-15T15:25:22.455Z"
   },
   {
    "duration": 1033,
    "start_time": "2021-07-15T15:25:45.200Z"
   },
   {
    "duration": 882,
    "start_time": "2021-07-15T15:25:46.235Z"
   },
   {
    "duration": 2,
    "start_time": "2021-07-15T15:25:47.119Z"
   },
   {
    "duration": 32,
    "start_time": "2021-07-15T15:25:47.123Z"
   },
   {
    "duration": 504,
    "start_time": "2021-07-15T15:25:47.156Z"
   },
   {
    "duration": 469,
    "start_time": "2021-07-15T15:25:47.662Z"
   },
   {
    "duration": 52,
    "start_time": "2021-07-15T15:25:48.133Z"
   },
   {
    "duration": 8,
    "start_time": "2021-07-15T15:25:48.187Z"
   },
   {
    "duration": 18,
    "start_time": "2021-07-15T15:25:48.197Z"
   },
   {
    "duration": 37,
    "start_time": "2021-07-15T15:25:48.216Z"
   },
   {
    "duration": 511,
    "start_time": "2021-07-15T15:25:48.255Z"
   },
   {
    "duration": 487,
    "start_time": "2021-07-15T15:25:48.768Z"
   },
   {
    "duration": 41,
    "start_time": "2021-07-15T15:25:49.257Z"
   },
   {
    "duration": 302,
    "start_time": "2021-07-15T15:25:49.299Z"
   },
   {
    "duration": 132,
    "start_time": "2021-07-15T15:25:49.603Z"
   },
   {
    "duration": 424,
    "start_time": "2021-07-15T15:25:49.736Z"
   },
   {
    "duration": 164,
    "start_time": "2021-07-15T15:26:18.575Z"
   },
   {
    "duration": 154,
    "start_time": "2021-07-15T15:26:21.320Z"
   },
   {
    "duration": 135,
    "start_time": "2021-07-15T15:26:29.726Z"
   },
   {
    "duration": 57,
    "start_time": "2021-07-15T15:29:01.145Z"
   },
   {
    "duration": 27,
    "start_time": "2021-07-15T15:30:42.832Z"
   },
   {
    "duration": 10,
    "start_time": "2021-07-15T15:33:19.478Z"
   },
   {
    "duration": 195,
    "start_time": "2021-07-15T15:35:23.023Z"
   },
   {
    "duration": 26,
    "start_time": "2021-07-15T15:35:32.537Z"
   },
   {
    "duration": 27,
    "start_time": "2021-07-15T15:36:52.025Z"
   },
   {
    "duration": 32,
    "start_time": "2021-07-15T15:38:00.758Z"
   },
   {
    "duration": 852,
    "start_time": "2021-07-15T15:46:16.572Z"
   },
   {
    "duration": 39,
    "start_time": "2021-07-15T15:46:26.252Z"
   },
   {
    "duration": 17,
    "start_time": "2021-07-15T15:46:32.790Z"
   },
   {
    "duration": 16,
    "start_time": "2021-07-15T15:48:15.507Z"
   },
   {
    "duration": 50,
    "start_time": "2021-07-15T15:48:16.715Z"
   },
   {
    "duration": 10,
    "start_time": "2021-07-15T15:48:17.135Z"
   },
   {
    "duration": 1030,
    "start_time": "2021-07-15T15:52:20.910Z"
   },
   {
    "duration": 928,
    "start_time": "2021-07-15T15:52:21.941Z"
   },
   {
    "duration": 3,
    "start_time": "2021-07-15T15:52:22.888Z"
   },
   {
    "duration": 26,
    "start_time": "2021-07-15T15:52:22.892Z"
   },
   {
    "duration": 528,
    "start_time": "2021-07-15T15:52:22.920Z"
   },
   {
    "duration": 481,
    "start_time": "2021-07-15T15:52:23.450Z"
   },
   {
    "duration": 38,
    "start_time": "2021-07-15T15:52:23.934Z"
   },
   {
    "duration": 13,
    "start_time": "2021-07-15T15:52:23.975Z"
   },
   {
    "duration": 13,
    "start_time": "2021-07-15T15:52:23.990Z"
   },
   {
    "duration": 35,
    "start_time": "2021-07-15T15:52:24.004Z"
   },
   {
    "duration": 540,
    "start_time": "2021-07-15T15:52:24.040Z"
   },
   {
    "duration": 514,
    "start_time": "2021-07-15T15:52:24.582Z"
   },
   {
    "duration": 26,
    "start_time": "2021-07-15T15:52:25.098Z"
   },
   {
    "duration": 319,
    "start_time": "2021-07-15T15:52:25.125Z"
   },
   {
    "duration": 11,
    "start_time": "2021-07-15T15:52:25.446Z"
   },
   {
    "duration": 45,
    "start_time": "2021-07-15T15:52:25.459Z"
   },
   {
    "duration": 30,
    "start_time": "2021-07-15T15:52:25.506Z"
   },
   {
    "duration": 29,
    "start_time": "2021-07-15T15:52:25.538Z"
   },
   {
    "duration": 40,
    "start_time": "2021-07-15T15:52:25.569Z"
   },
   {
    "duration": 30,
    "start_time": "2021-07-15T15:52:25.611Z"
   },
   {
    "duration": 150,
    "start_time": "2021-07-15T15:52:25.643Z"
   },
   {
    "duration": 154,
    "start_time": "2021-07-15T15:52:25.796Z"
   },
   {
    "duration": 64,
    "start_time": "2021-07-15T15:52:25.952Z"
   },
   {
    "duration": 31,
    "start_time": "2021-07-15T15:52:26.017Z"
   },
   {
    "duration": 26,
    "start_time": "2021-07-15T15:53:22.526Z"
   },
   {
    "duration": 42,
    "start_time": "2021-07-15T15:56:44.531Z"
   },
   {
    "duration": 24,
    "start_time": "2021-07-15T15:58:45.689Z"
   },
   {
    "duration": 1075,
    "start_time": "2021-07-15T15:59:01.153Z"
   },
   {
    "duration": 891,
    "start_time": "2021-07-15T15:59:02.230Z"
   },
   {
    "duration": 3,
    "start_time": "2021-07-15T15:59:03.123Z"
   },
   {
    "duration": 27,
    "start_time": "2021-07-15T15:59:03.128Z"
   },
   {
    "duration": 501,
    "start_time": "2021-07-15T15:59:03.157Z"
   },
   {
    "duration": 458,
    "start_time": "2021-07-15T15:59:03.659Z"
   },
   {
    "duration": 41,
    "start_time": "2021-07-15T15:59:04.119Z"
   },
   {
    "duration": 6,
    "start_time": "2021-07-15T15:59:04.162Z"
   },
   {
    "duration": 10,
    "start_time": "2021-07-15T15:59:04.184Z"
   },
   {
    "duration": 34,
    "start_time": "2021-07-15T15:59:04.196Z"
   },
   {
    "duration": 521,
    "start_time": "2021-07-15T15:59:04.232Z"
   },
   {
    "duration": 504,
    "start_time": "2021-07-15T15:59:04.754Z"
   },
   {
    "duration": 38,
    "start_time": "2021-07-15T15:59:05.260Z"
   },
   {
    "duration": 291,
    "start_time": "2021-07-15T15:59:05.300Z"
   },
   {
    "duration": 9,
    "start_time": "2021-07-15T15:59:05.593Z"
   },
   {
    "duration": 33,
    "start_time": "2021-07-15T15:59:05.604Z"
   },
   {
    "duration": 47,
    "start_time": "2021-07-15T15:59:05.639Z"
   },
   {
    "duration": 29,
    "start_time": "2021-07-15T15:59:05.687Z"
   },
   {
    "duration": 44,
    "start_time": "2021-07-15T15:59:05.717Z"
   },
   {
    "duration": 27,
    "start_time": "2021-07-15T15:59:05.763Z"
   },
   {
    "duration": 54,
    "start_time": "2021-07-15T15:59:05.791Z"
   },
   {
    "duration": 134,
    "start_time": "2021-07-15T15:59:05.847Z"
   },
   {
    "duration": 159,
    "start_time": "2021-07-15T15:59:05.986Z"
   },
   {
    "duration": 60,
    "start_time": "2021-07-15T15:59:06.147Z"
   },
   {
    "duration": 31,
    "start_time": "2021-07-15T15:59:06.209Z"
   },
   {
    "duration": 1388,
    "start_time": "2021-07-18T10:48:05.059Z"
   },
   {
    "duration": 1207,
    "start_time": "2021-07-18T10:48:06.450Z"
   },
   {
    "duration": 4,
    "start_time": "2021-07-18T10:48:07.660Z"
   },
   {
    "duration": 41,
    "start_time": "2021-07-18T10:48:07.666Z"
   },
   {
    "duration": 755,
    "start_time": "2021-07-18T10:48:07.709Z"
   },
   {
    "duration": 733,
    "start_time": "2021-07-18T10:48:08.467Z"
   },
   {
    "duration": 74,
    "start_time": "2021-07-18T10:48:09.203Z"
   },
   {
    "duration": 8,
    "start_time": "2021-07-18T10:48:09.280Z"
   },
   {
    "duration": 13,
    "start_time": "2021-07-18T10:48:09.291Z"
   },
   {
    "duration": 80,
    "start_time": "2021-07-18T10:48:09.307Z"
   },
   {
    "duration": 769,
    "start_time": "2021-07-18T10:48:09.390Z"
   },
   {
    "duration": 791,
    "start_time": "2021-07-18T10:48:10.161Z"
   },
   {
    "duration": 44,
    "start_time": "2021-07-18T10:48:10.955Z"
   },
   {
    "duration": 457,
    "start_time": "2021-07-18T10:48:11.001Z"
   },
   {
    "duration": 14,
    "start_time": "2021-07-18T10:48:11.460Z"
   },
   {
    "duration": 43,
    "start_time": "2021-07-18T10:48:11.476Z"
   },
   {
    "duration": 59,
    "start_time": "2021-07-18T10:48:11.522Z"
   },
   {
    "duration": 38,
    "start_time": "2021-07-18T10:48:11.584Z"
   },
   {
    "duration": 58,
    "start_time": "2021-07-18T10:48:11.625Z"
   },
   {
    "duration": 36,
    "start_time": "2021-07-18T10:48:11.685Z"
   },
   {
    "duration": 87,
    "start_time": "2021-07-18T10:48:11.723Z"
   },
   {
    "duration": 218,
    "start_time": "2021-07-18T10:48:11.812Z"
   },
   {
    "duration": 335,
    "start_time": "2021-07-18T10:48:12.034Z"
   },
   {
    "duration": 374,
    "start_time": "2021-07-18T10:48:12.372Z"
   },
   {
    "duration": -31,
    "start_time": "2021-07-18T10:48:12.779Z"
   },
   {
    "duration": 75,
    "start_time": "2021-07-18T10:48:34.487Z"
   },
   {
    "duration": 77,
    "start_time": "2021-07-18T10:48:36.178Z"
   },
   {
    "duration": 1315,
    "start_time": "2021-07-18T13:41:35.793Z"
   },
   {
    "duration": 1326,
    "start_time": "2021-07-18T13:41:37.111Z"
   },
   {
    "duration": 4,
    "start_time": "2021-07-18T13:41:38.455Z"
   },
   {
    "duration": 41,
    "start_time": "2021-07-18T13:41:38.462Z"
   },
   {
    "duration": 752,
    "start_time": "2021-07-18T13:41:38.506Z"
   },
   {
    "duration": 699,
    "start_time": "2021-07-18T13:41:39.261Z"
   },
   {
    "duration": 63,
    "start_time": "2021-07-18T13:41:39.964Z"
   },
   {
    "duration": 27,
    "start_time": "2021-07-18T13:41:40.030Z"
   },
   {
    "duration": 14,
    "start_time": "2021-07-18T13:41:40.059Z"
   },
   {
    "duration": 56,
    "start_time": "2021-07-18T13:41:40.075Z"
   },
   {
    "duration": 811,
    "start_time": "2021-07-18T13:41:40.133Z"
   },
   {
    "duration": 942,
    "start_time": "2021-07-18T13:41:40.946Z"
   },
   {
    "duration": 46,
    "start_time": "2021-07-18T13:41:41.891Z"
   },
   {
    "duration": 469,
    "start_time": "2021-07-18T13:41:41.939Z"
   },
   {
    "duration": 14,
    "start_time": "2021-07-18T13:41:42.410Z"
   },
   {
    "duration": 55,
    "start_time": "2021-07-18T13:41:42.427Z"
   },
   {
    "duration": 36,
    "start_time": "2021-07-18T13:41:42.485Z"
   },
   {
    "duration": 62,
    "start_time": "2021-07-18T13:41:42.523Z"
   },
   {
    "duration": 41,
    "start_time": "2021-07-18T13:41:42.588Z"
   },
   {
    "duration": 43,
    "start_time": "2021-07-18T13:41:42.632Z"
   },
   {
    "duration": 80,
    "start_time": "2021-07-18T13:41:42.678Z"
   },
   {
    "duration": 177,
    "start_time": "2021-07-18T13:41:42.762Z"
   },
   {
    "duration": 221,
    "start_time": "2021-07-18T13:41:42.942Z"
   },
   {
    "duration": 75,
    "start_time": "2021-07-18T13:41:43.165Z"
   },
   {
    "duration": 72,
    "start_time": "2021-07-18T13:41:43.256Z"
   },
   {
    "duration": 32,
    "start_time": "2021-07-18T13:51:32.719Z"
   },
   {
    "duration": 32,
    "start_time": "2021-07-18T13:51:42.881Z"
   },
   {
    "duration": 5,
    "start_time": "2021-07-18T13:51:49.763Z"
   },
   {
    "duration": 88,
    "start_time": "2021-07-18T13:57:58.569Z"
   },
   {
    "duration": 19,
    "start_time": "2021-07-18T13:58:03.573Z"
   },
   {
    "duration": 118,
    "start_time": "2021-07-18T14:00:01.404Z"
   },
   {
    "duration": 68,
    "start_time": "2021-07-18T14:00:07.602Z"
   },
   {
    "duration": 1497,
    "start_time": "2021-08-31T10:08:09.433Z"
   },
   {
    "duration": 1262,
    "start_time": "2021-08-31T10:08:10.933Z"
   },
   {
    "duration": 5,
    "start_time": "2021-08-31T10:08:12.198Z"
   },
   {
    "duration": 55,
    "start_time": "2021-08-31T10:08:12.206Z"
   },
   {
    "duration": 763,
    "start_time": "2021-08-31T10:08:12.263Z"
   },
   {
    "duration": 741,
    "start_time": "2021-08-31T10:08:13.029Z"
   },
   {
    "duration": 66,
    "start_time": "2021-08-31T10:08:13.773Z"
   },
   {
    "duration": 16,
    "start_time": "2021-08-31T10:08:13.843Z"
   },
   {
    "duration": 13,
    "start_time": "2021-08-31T10:08:13.862Z"
   },
   {
    "duration": 84,
    "start_time": "2021-08-31T10:08:13.877Z"
   },
   {
    "duration": 797,
    "start_time": "2021-08-31T10:08:13.963Z"
   },
   {
    "duration": 774,
    "start_time": "2021-08-31T10:08:14.763Z"
   },
   {
    "duration": 54,
    "start_time": "2021-08-31T10:08:15.540Z"
   },
   {
    "duration": 478,
    "start_time": "2021-08-31T10:08:15.596Z"
   },
   {
    "duration": 41,
    "start_time": "2021-08-31T10:08:16.077Z"
   },
   {
    "duration": 61,
    "start_time": "2021-08-31T10:08:16.121Z"
   },
   {
    "duration": 41,
    "start_time": "2021-08-31T10:08:16.185Z"
   },
   {
    "duration": 57,
    "start_time": "2021-08-31T10:08:16.229Z"
   },
   {
    "duration": 39,
    "start_time": "2021-08-31T10:08:16.288Z"
   },
   {
    "duration": 87,
    "start_time": "2021-08-31T10:08:16.329Z"
   },
   {
    "duration": 296,
    "start_time": "2021-08-31T10:08:16.418Z"
   },
   {
    "duration": 235,
    "start_time": "2021-08-31T10:08:16.717Z"
   },
   {
    "duration": 79,
    "start_time": "2021-08-31T10:08:16.957Z"
   },
   {
    "duration": 173,
    "start_time": "2021-08-31T10:08:17.038Z"
   },
   {
    "duration": 106,
    "start_time": "2021-08-31T10:08:17.214Z"
   },
   {
    "duration": 487,
    "start_time": "2021-08-31T10:08:33.101Z"
   },
   {
    "duration": 8,
    "start_time": "2021-08-31T10:08:40.025Z"
   },
   {
    "duration": 1407,
    "start_time": "2021-08-31T10:09:03.508Z"
   },
   {
    "duration": 1267,
    "start_time": "2021-08-31T10:09:04.918Z"
   },
   {
    "duration": 4,
    "start_time": "2021-08-31T10:09:06.188Z"
   },
   {
    "duration": 39,
    "start_time": "2021-08-31T10:09:06.195Z"
   },
   {
    "duration": 775,
    "start_time": "2021-08-31T10:09:06.257Z"
   },
   {
    "duration": 783,
    "start_time": "2021-08-31T10:09:07.035Z"
   },
   {
    "duration": 75,
    "start_time": "2021-08-31T10:09:07.820Z"
   },
   {
    "duration": 10,
    "start_time": "2021-08-31T10:09:07.898Z"
   },
   {
    "duration": 13,
    "start_time": "2021-08-31T10:09:07.911Z"
   },
   {
    "duration": 77,
    "start_time": "2021-08-31T10:09:07.926Z"
   },
   {
    "duration": 815,
    "start_time": "2021-08-31T10:09:08.005Z"
   },
   {
    "duration": 771,
    "start_time": "2021-08-31T10:09:08.822Z"
   },
   {
    "duration": 44,
    "start_time": "2021-08-31T10:09:09.596Z"
   },
   {
    "duration": 482,
    "start_time": "2021-08-31T10:09:09.657Z"
   },
   {
    "duration": 42,
    "start_time": "2021-08-31T10:09:10.141Z"
   },
   {
    "duration": 42,
    "start_time": "2021-08-31T10:09:10.185Z"
   },
   {
    "duration": 60,
    "start_time": "2021-08-31T10:09:10.229Z"
   },
   {
    "duration": 46,
    "start_time": "2021-08-31T10:09:10.291Z"
   },
   {
    "duration": 48,
    "start_time": "2021-08-31T10:09:10.339Z"
   },
   {
    "duration": 84,
    "start_time": "2021-08-31T10:09:10.389Z"
   },
   {
    "duration": 187,
    "start_time": "2021-08-31T10:09:10.476Z"
   },
   {
    "duration": 412,
    "start_time": "2021-08-31T10:09:10.665Z"
   },
   {
    "duration": 81,
    "start_time": "2021-08-31T10:09:11.081Z"
   },
   {
    "duration": 132,
    "start_time": "2021-08-31T10:09:11.165Z"
   },
   {
    "duration": 77,
    "start_time": "2021-08-31T10:09:11.300Z"
   },
   {
    "duration": 33,
    "start_time": "2021-08-31T13:19:13.285Z"
   },
   {
    "duration": 16,
    "start_time": "2021-08-31T13:21:37.852Z"
   },
   {
    "duration": 661,
    "start_time": "2021-08-31T18:17:56.943Z"
   },
   {
    "duration": 551,
    "start_time": "2021-08-31T18:18:07.506Z"
   },
   {
    "duration": 1621,
    "start_time": "2021-08-31T18:19:07.109Z"
   },
   {
    "duration": 1327,
    "start_time": "2021-08-31T18:19:08.733Z"
   },
   {
    "duration": 6,
    "start_time": "2021-08-31T18:19:10.064Z"
   },
   {
    "duration": 51,
    "start_time": "2021-08-31T18:19:10.074Z"
   },
   {
    "duration": 868,
    "start_time": "2021-08-31T18:19:10.127Z"
   },
   {
    "duration": 794,
    "start_time": "2021-08-31T18:19:10.998Z"
   },
   {
    "duration": 81,
    "start_time": "2021-08-31T18:19:11.794Z"
   },
   {
    "duration": 11,
    "start_time": "2021-08-31T18:19:11.878Z"
   },
   {
    "duration": 14,
    "start_time": "2021-08-31T18:19:11.892Z"
   },
   {
    "duration": 89,
    "start_time": "2021-08-31T18:19:11.908Z"
   },
   {
    "duration": 900,
    "start_time": "2021-08-31T18:19:12.000Z"
   },
   {
    "duration": 932,
    "start_time": "2021-08-31T18:19:12.903Z"
   },
   {
    "duration": 59,
    "start_time": "2021-08-31T18:19:13.837Z"
   },
   {
    "duration": 512,
    "start_time": "2021-08-31T18:19:13.898Z"
   },
   {
    "duration": 46,
    "start_time": "2021-08-31T18:19:14.412Z"
   },
   {
    "duration": 48,
    "start_time": "2021-08-31T18:19:14.461Z"
   },
   {
    "duration": 70,
    "start_time": "2021-08-31T18:19:14.512Z"
   },
   {
    "duration": 42,
    "start_time": "2021-08-31T18:19:14.584Z"
   },
   {
    "duration": 63,
    "start_time": "2021-08-31T18:19:14.628Z"
   },
   {
    "duration": 86,
    "start_time": "2021-08-31T18:19:14.694Z"
   },
   {
    "duration": 202,
    "start_time": "2021-08-31T18:19:14.782Z"
   },
   {
    "duration": 246,
    "start_time": "2021-08-31T18:19:14.987Z"
   },
   {
    "duration": 85,
    "start_time": "2021-08-31T18:19:15.237Z"
   },
   {
    "duration": 148,
    "start_time": "2021-08-31T18:19:15.324Z"
   },
   {
    "duration": 85,
    "start_time": "2021-08-31T18:19:15.474Z"
   },
   {
    "duration": 39,
    "start_time": "2021-08-31T18:19:15.562Z"
   },
   {
    "duration": 96,
    "start_time": "2021-08-31T18:19:15.603Z"
   },
   {
    "duration": 580,
    "start_time": "2021-08-31T18:19:15.701Z"
   },
   {
    "duration": 1561,
    "start_time": "2021-08-31T18:21:00.188Z"
   },
   {
    "duration": 1478,
    "start_time": "2021-08-31T18:21:01.751Z"
   },
   {
    "duration": 4,
    "start_time": "2021-08-31T18:21:03.232Z"
   },
   {
    "duration": 64,
    "start_time": "2021-08-31T18:21:03.239Z"
   },
   {
    "duration": 875,
    "start_time": "2021-08-31T18:21:03.305Z"
   },
   {
    "duration": 798,
    "start_time": "2021-08-31T18:21:04.183Z"
   },
   {
    "duration": 75,
    "start_time": "2021-08-31T18:21:04.984Z"
   },
   {
    "duration": 12,
    "start_time": "2021-08-31T18:21:05.064Z"
   },
   {
    "duration": 25,
    "start_time": "2021-08-31T18:21:05.080Z"
   },
   {
    "duration": 82,
    "start_time": "2021-08-31T18:21:05.109Z"
   },
   {
    "duration": 888,
    "start_time": "2021-08-31T18:21:05.194Z"
   },
   {
    "duration": 817,
    "start_time": "2021-08-31T18:21:06.085Z"
   },
   {
    "duration": 53,
    "start_time": "2021-08-31T18:21:06.904Z"
   },
   {
    "duration": 534,
    "start_time": "2021-08-31T18:21:06.960Z"
   },
   {
    "duration": 39,
    "start_time": "2021-08-31T18:21:07.496Z"
   },
   {
    "duration": 49,
    "start_time": "2021-08-31T18:21:07.555Z"
   },
   {
    "duration": 74,
    "start_time": "2021-08-31T18:21:07.606Z"
   },
   {
    "duration": 136,
    "start_time": "2021-08-31T18:21:07.682Z"
   },
   {
    "duration": 39,
    "start_time": "2021-08-31T18:21:07.820Z"
   },
   {
    "duration": 211,
    "start_time": "2021-08-31T18:21:07.862Z"
   },
   {
    "duration": 242,
    "start_time": "2021-08-31T18:21:08.075Z"
   },
   {
    "duration": 94,
    "start_time": "2021-08-31T18:21:08.321Z"
   },
   {
    "duration": 142,
    "start_time": "2021-08-31T18:21:08.418Z"
   },
   {
    "duration": 75,
    "start_time": "2021-08-31T18:21:08.564Z"
   },
   {
    "duration": 33,
    "start_time": "2021-08-31T18:21:08.655Z"
   },
   {
    "duration": 110,
    "start_time": "2021-08-31T18:21:08.691Z"
   },
   {
    "duration": 570,
    "start_time": "2021-08-31T18:21:08.806Z"
   },
   {
    "duration": 293,
    "start_time": "2021-09-01T10:40:46.904Z"
   },
   {
    "duration": 1219,
    "start_time": "2021-09-01T11:02:52.474Z"
   },
   {
    "duration": 982,
    "start_time": "2021-09-01T11:02:53.696Z"
   },
   {
    "duration": 5,
    "start_time": "2021-09-01T11:02:54.693Z"
   },
   {
    "duration": 30,
    "start_time": "2021-09-01T11:02:54.700Z"
   },
   {
    "duration": 525,
    "start_time": "2021-09-01T11:02:54.732Z"
   },
   {
    "duration": 480,
    "start_time": "2021-09-01T11:02:55.260Z"
   },
   {
    "duration": 42,
    "start_time": "2021-09-01T11:02:55.741Z"
   },
   {
    "duration": 13,
    "start_time": "2021-09-01T11:02:55.798Z"
   },
   {
    "duration": 13,
    "start_time": "2021-09-01T11:02:55.813Z"
   },
   {
    "duration": 37,
    "start_time": "2021-09-01T11:02:55.828Z"
   },
   {
    "duration": 600,
    "start_time": "2021-09-01T11:02:55.867Z"
   },
   {
    "duration": 548,
    "start_time": "2021-09-01T11:02:56.469Z"
   },
   {
    "duration": 30,
    "start_time": "2021-09-01T11:02:57.018Z"
   },
   {
    "duration": 321,
    "start_time": "2021-09-01T11:02:57.050Z"
   },
   {
    "duration": 47,
    "start_time": "2021-09-01T11:02:57.372Z"
   },
   {
    "duration": 28,
    "start_time": "2021-09-01T11:02:57.420Z"
   },
   {
    "duration": 61,
    "start_time": "2021-09-01T11:02:57.449Z"
   },
   {
    "duration": 37,
    "start_time": "2021-09-01T11:02:57.514Z"
   },
   {
    "duration": 63,
    "start_time": "2021-09-01T11:02:57.554Z"
   },
   {
    "duration": 164,
    "start_time": "2021-09-01T11:02:57.620Z"
   },
   {
    "duration": 195,
    "start_time": "2021-09-01T11:02:57.786Z"
   },
   {
    "duration": 70,
    "start_time": "2021-09-01T11:02:57.983Z"
   },
   {
    "duration": 108,
    "start_time": "2021-09-01T11:02:58.057Z"
   },
   {
    "duration": 69,
    "start_time": "2021-09-01T11:02:58.167Z"
   },
   {
    "duration": 36,
    "start_time": "2021-09-01T11:02:58.238Z"
   },
   {
    "duration": 71,
    "start_time": "2021-09-01T11:02:58.276Z"
   },
   {
    "duration": 713,
    "start_time": "2021-09-01T11:02:58.349Z"
   },
   {
    "duration": 437,
    "start_time": "2021-09-01T11:02:59.064Z"
   },
   {
    "duration": -2144,
    "start_time": "2021-09-01T11:03:01.648Z"
   },
   {
    "duration": 524,
    "start_time": "2021-09-01T11:03:55.620Z"
   },
   {
    "duration": 257,
    "start_time": "2021-09-01T11:15:33.744Z"
   },
   {
    "duration": 35,
    "start_time": "2021-09-01T11:15:53.889Z"
   },
   {
    "duration": 716,
    "start_time": "2021-09-01T11:15:58.496Z"
   },
   {
    "duration": 3,
    "start_time": "2021-09-01T14:16:05.319Z"
   },
   {
    "duration": 3,
    "start_time": "2021-09-01T14:27:35.436Z"
   },
   {
    "duration": 1163112,
    "start_time": "2021-09-01T14:32:40.154Z"
   },
   {
    "duration": 1300,
    "start_time": "2021-09-11T09:52:07.019Z"
   },
   {
    "duration": 7,
    "start_time": "2021-09-11T09:52:13.182Z"
   },
   {
    "duration": 1329,
    "start_time": "2021-09-11T10:13:20.269Z"
   },
   {
    "duration": 4828,
    "start_time": "2021-09-11T10:13:21.600Z"
   },
   {
    "duration": 3,
    "start_time": "2021-09-11T10:13:26.430Z"
   },
   {
    "duration": 28,
    "start_time": "2021-09-11T10:13:26.435Z"
   },
   {
    "duration": 523,
    "start_time": "2021-09-11T10:13:26.465Z"
   },
   {
    "duration": 514,
    "start_time": "2021-09-11T10:13:26.990Z"
   },
   {
    "duration": 41,
    "start_time": "2021-09-11T10:13:27.506Z"
   },
   {
    "duration": 8,
    "start_time": "2021-09-11T10:13:27.550Z"
   },
   {
    "duration": 23,
    "start_time": "2021-09-11T10:13:27.561Z"
   },
   {
    "duration": 35,
    "start_time": "2021-09-11T10:13:27.586Z"
   },
   {
    "duration": 548,
    "start_time": "2021-09-11T10:13:27.623Z"
   },
   {
    "duration": 518,
    "start_time": "2021-09-11T10:13:28.176Z"
   },
   {
    "duration": 27,
    "start_time": "2021-09-11T10:13:28.696Z"
   },
   {
    "duration": 331,
    "start_time": "2021-09-11T10:13:28.725Z"
   },
   {
    "duration": 41,
    "start_time": "2021-09-11T10:13:29.058Z"
   },
   {
    "duration": 70,
    "start_time": "2021-09-11T10:13:29.100Z"
   },
   {
    "duration": 62,
    "start_time": "2021-09-11T10:13:29.172Z"
   },
   {
    "duration": 30,
    "start_time": "2021-09-11T10:13:29.236Z"
   },
   {
    "duration": 31,
    "start_time": "2021-09-11T10:13:29.268Z"
   },
   {
    "duration": 151,
    "start_time": "2021-09-11T10:13:29.301Z"
   },
   {
    "duration": 173,
    "start_time": "2021-09-11T10:13:29.453Z"
   },
   {
    "duration": 67,
    "start_time": "2021-09-11T10:13:29.627Z"
   },
   {
    "duration": 110,
    "start_time": "2021-09-11T10:13:29.698Z"
   },
   {
    "duration": 68,
    "start_time": "2021-09-11T10:13:29.810Z"
   },
   {
    "duration": 22,
    "start_time": "2021-09-11T10:13:29.880Z"
   },
   {
    "duration": 705,
    "start_time": "2021-09-11T10:13:29.903Z"
   },
   {
    "duration": 729,
    "start_time": "2021-09-11T10:13:30.610Z"
   },
   {
    "duration": 121,
    "start_time": "2021-09-11T10:13:31.341Z"
   },
   {
    "duration": 674977,
    "start_time": "2021-09-11T10:15:48.625Z"
   },
   {
    "duration": 37,
    "start_time": "2021-09-11T13:45:47.372Z"
   },
   {
    "duration": 126,
    "start_time": "2021-09-11T13:49:59.242Z"
   },
   {
    "duration": 4,
    "start_time": "2021-09-11T13:50:24.504Z"
   },
   {
    "duration": 1017,
    "start_time": "2021-09-11T13:50:24.822Z"
   },
   {
    "duration": 3,
    "start_time": "2021-09-11T13:50:25.840Z"
   },
   {
    "duration": 32,
    "start_time": "2021-09-11T13:50:25.845Z"
   },
   {
    "duration": 523,
    "start_time": "2021-09-11T13:50:25.879Z"
   },
   {
    "duration": 575,
    "start_time": "2021-09-11T13:50:26.405Z"
   },
   {
    "duration": 31,
    "start_time": "2021-09-11T13:50:26.982Z"
   },
   {
    "duration": 8,
    "start_time": "2021-09-11T13:50:27.015Z"
   },
   {
    "duration": 11,
    "start_time": "2021-09-11T13:50:27.025Z"
   },
   {
    "duration": 29,
    "start_time": "2021-09-11T13:50:27.277Z"
   },
   {
    "duration": 516,
    "start_time": "2021-09-11T13:50:27.621Z"
   },
   {
    "duration": 462,
    "start_time": "2021-09-11T13:50:30.668Z"
   },
   {
    "duration": 27,
    "start_time": "2021-09-11T13:50:32.214Z"
   },
   {
    "duration": 316,
    "start_time": "2021-09-11T13:50:33.707Z"
   },
   {
    "duration": 32,
    "start_time": "2021-09-11T13:50:39.796Z"
   },
   {
    "duration": 33,
    "start_time": "2021-09-11T13:50:40.123Z"
   },
   {
    "duration": 33,
    "start_time": "2021-09-11T13:50:40.496Z"
   },
   {
    "duration": 30,
    "start_time": "2021-09-11T13:50:40.824Z"
   },
   {
    "duration": 34,
    "start_time": "2021-09-11T13:50:41.169Z"
   },
   {
    "duration": 176,
    "start_time": "2021-09-11T13:50:42.132Z"
   },
   {
    "duration": 225,
    "start_time": "2021-09-11T13:50:42.508Z"
   },
   {
    "duration": 63,
    "start_time": "2021-09-11T13:50:43.096Z"
   },
   {
    "duration": 100,
    "start_time": "2021-09-11T13:50:44.156Z"
   },
   {
    "duration": 63,
    "start_time": "2021-09-11T13:50:44.940Z"
   },
   {
    "duration": 21,
    "start_time": "2021-09-11T13:50:47.915Z"
   },
   {
    "duration": 742,
    "start_time": "2021-09-11T13:50:50.066Z"
   },
   {
    "duration": 733,
    "start_time": "2021-09-11T13:50:51.656Z"
   },
   {
    "duration": 334,
    "start_time": "2021-09-11T13:50:52.520Z"
   },
   {
    "duration": 46898,
    "start_time": "2021-09-11T13:51:01.337Z"
   },
   {
    "duration": 47070,
    "start_time": "2021-09-11T13:56:25.367Z"
   },
   {
    "duration": 264,
    "start_time": "2021-09-11T13:59:19.813Z"
   },
   {
    "duration": 260,
    "start_time": "2021-09-11T14:00:11.496Z"
   },
   {
    "duration": 5,
    "start_time": "2021-09-13T09:42:11.429Z"
   },
   {
    "duration": 1355,
    "start_time": "2021-09-13T09:48:28.750Z"
   },
   {
    "duration": 353,
    "start_time": "2021-09-13T09:50:42.563Z"
   },
   {
    "duration": 1160,
    "start_time": "2021-09-13T09:51:47.136Z"
   },
   {
    "duration": 885,
    "start_time": "2021-09-13T09:51:48.298Z"
   },
   {
    "duration": 2,
    "start_time": "2021-09-13T09:51:49.185Z"
   },
   {
    "duration": 26,
    "start_time": "2021-09-13T09:51:49.189Z"
   },
   {
    "duration": 475,
    "start_time": "2021-09-13T09:51:49.216Z"
   },
   {
    "duration": 441,
    "start_time": "2021-09-13T09:51:49.692Z"
   },
   {
    "duration": 48,
    "start_time": "2021-09-13T09:51:50.134Z"
   },
   {
    "duration": 7,
    "start_time": "2021-09-13T09:51:50.185Z"
   },
   {
    "duration": 15,
    "start_time": "2021-09-13T09:51:50.195Z"
   },
   {
    "duration": 34,
    "start_time": "2021-09-13T09:51:50.212Z"
   },
   {
    "duration": 549,
    "start_time": "2021-09-13T09:51:50.247Z"
   },
   {
    "duration": 417,
    "start_time": "2021-09-13T09:51:50.798Z"
   },
   {
    "duration": 25,
    "start_time": "2021-09-13T09:51:51.216Z"
   },
   {
    "duration": 291,
    "start_time": "2021-09-13T09:51:51.243Z"
   },
   {
    "duration": 30,
    "start_time": "2021-09-13T09:51:51.535Z"
   },
   {
    "duration": 33,
    "start_time": "2021-09-13T09:51:51.566Z"
   },
   {
    "duration": 33,
    "start_time": "2021-09-13T09:51:51.601Z"
   },
   {
    "duration": 44,
    "start_time": "2021-09-13T09:51:51.636Z"
   },
   {
    "duration": 28,
    "start_time": "2021-09-13T09:51:51.682Z"
   },
   {
    "duration": 139,
    "start_time": "2021-09-13T09:51:51.712Z"
   },
   {
    "duration": 158,
    "start_time": "2021-09-13T09:51:51.853Z"
   },
   {
    "duration": 67,
    "start_time": "2021-09-13T09:51:52.013Z"
   },
   {
    "duration": 104,
    "start_time": "2021-09-13T09:51:52.083Z"
   },
   {
    "duration": 59,
    "start_time": "2021-09-13T09:51:52.189Z"
   },
   {
    "duration": 32,
    "start_time": "2021-09-13T09:51:52.250Z"
   },
   {
    "duration": 482,
    "start_time": "2021-09-13T09:51:52.284Z"
   },
   {
    "duration": 669,
    "start_time": "2021-09-13T09:51:52.768Z"
   },
   {
    "duration": 400,
    "start_time": "2021-09-13T09:51:53.438Z"
   },
   {
    "duration": 94925,
    "start_time": "2021-09-13T09:54:16.160Z"
   },
   {
    "duration": 79644,
    "start_time": "2021-09-13T09:59:07.451Z"
   },
   {
    "duration": 4,
    "start_time": "2021-09-13T10:12:27.404Z"
   },
   {
    "duration": 21185,
    "start_time": "2021-09-13T10:12:33.995Z"
   },
   {
    "duration": 4,
    "start_time": "2021-09-13T10:22:00.462Z"
   },
   {
    "duration": 30495,
    "start_time": "2021-09-13T10:24:05.234Z"
   },
   {
    "duration": 284,
    "start_time": "2021-09-13T10:29:49.758Z"
   },
   {
    "duration": 1370,
    "start_time": "2021-09-13T10:30:03.061Z"
   },
   {
    "duration": 1028,
    "start_time": "2021-09-13T10:30:04.433Z"
   },
   {
    "duration": 3,
    "start_time": "2021-09-13T10:30:05.463Z"
   },
   {
    "duration": 39,
    "start_time": "2021-09-13T10:30:05.468Z"
   },
   {
    "duration": 525,
    "start_time": "2021-09-13T10:30:05.509Z"
   },
   {
    "duration": 490,
    "start_time": "2021-09-13T10:30:06.036Z"
   },
   {
    "duration": 49,
    "start_time": "2021-09-13T10:30:06.528Z"
   },
   {
    "duration": 8,
    "start_time": "2021-09-13T10:30:06.580Z"
   },
   {
    "duration": 15,
    "start_time": "2021-09-13T10:30:06.590Z"
   },
   {
    "duration": 39,
    "start_time": "2021-09-13T10:30:06.607Z"
   },
   {
    "duration": 727,
    "start_time": "2021-09-13T10:30:06.649Z"
   },
   {
    "duration": 462,
    "start_time": "2021-09-13T10:30:07.378Z"
   },
   {
    "duration": 42,
    "start_time": "2021-09-13T10:30:07.841Z"
   },
   {
    "duration": 342,
    "start_time": "2021-09-13T10:30:07.885Z"
   },
   {
    "duration": 33,
    "start_time": "2021-09-13T10:30:08.228Z"
   },
   {
    "duration": 45,
    "start_time": "2021-09-13T10:30:08.263Z"
   },
   {
    "duration": 48,
    "start_time": "2021-09-13T10:30:08.310Z"
   },
   {
    "duration": 42,
    "start_time": "2021-09-13T10:30:08.360Z"
   },
   {
    "duration": 31,
    "start_time": "2021-09-13T10:30:08.404Z"
   },
   {
    "duration": 159,
    "start_time": "2021-09-13T10:30:08.437Z"
   },
   {
    "duration": 179,
    "start_time": "2021-09-13T10:30:08.597Z"
   },
   {
    "duration": 62,
    "start_time": "2021-09-13T10:30:08.778Z"
   },
   {
    "duration": 117,
    "start_time": "2021-09-13T10:30:08.844Z"
   },
   {
    "duration": 61,
    "start_time": "2021-09-13T10:30:08.964Z"
   },
   {
    "duration": 31,
    "start_time": "2021-09-13T10:30:09.027Z"
   },
   {
    "duration": 601,
    "start_time": "2021-09-13T10:30:09.060Z"
   },
   {
    "duration": 741,
    "start_time": "2021-09-13T10:30:09.663Z"
   },
   {
    "duration": 78989,
    "start_time": "2021-09-13T10:30:10.406Z"
   },
   {
    "duration": 129987,
    "start_time": "2021-09-13T10:31:29.398Z"
   },
   {
    "duration": 132663,
    "start_time": "2021-09-13T10:36:03.516Z"
   },
   {
    "duration": 5,
    "start_time": "2021-09-13T10:56:06.338Z"
   },
   {
    "duration": 4,
    "start_time": "2021-09-13T10:56:16.539Z"
   },
   {
    "duration": 490,
    "start_time": "2021-09-13T10:56:24.680Z"
   },
   {
    "duration": 340,
    "start_time": "2021-09-13T10:58:50.743Z"
   },
   {
    "duration": 3,
    "start_time": "2021-09-13T10:59:00.217Z"
   },
   {
    "duration": 261,
    "start_time": "2021-09-13T11:01:23.676Z"
   },
   {
    "duration": 245,
    "start_time": "2021-09-13T11:03:57.854Z"
   },
   {
    "duration": 278,
    "start_time": "2021-09-13T11:04:58.136Z"
   },
   {
    "duration": 249,
    "start_time": "2021-09-13T11:05:23.632Z"
   },
   {
    "duration": 252,
    "start_time": "2021-09-13T11:06:39.840Z"
   },
   {
    "duration": 1094541,
    "start_time": "2021-09-13T11:06:45.136Z"
   },
   {
    "duration": 184705,
    "start_time": "2021-09-13T11:34:11.428Z"
   },
   {
    "duration": 114137,
    "start_time": "2021-09-13T11:52:17.245Z"
   },
   {
    "duration": 6485729,
    "start_time": "2021-09-13T11:58:16.077Z"
   },
   {
    "duration": 265601,
    "start_time": "2021-09-13T14:03:35.883Z"
   },
   {
    "duration": 15082,
    "start_time": "2021-09-13T14:08:49.086Z"
   },
   {
    "duration": 189687,
    "start_time": "2021-09-13T14:09:46.802Z"
   },
   {
    "duration": 5,
    "start_time": "2021-09-13T14:16:41.553Z"
   },
   {
    "duration": 659379,
    "start_time": "2021-09-13T14:44:45.122Z"
   },
   {
    "duration": 137,
    "start_time": "2021-09-13T15:10:29.394Z"
   },
   {
    "duration": 140123,
    "start_time": "2021-09-13T15:12:03.366Z"
   },
   {
    "duration": 17,
    "start_time": "2021-09-13T15:15:37.967Z"
   },
   {
    "duration": 28830,
    "start_time": "2021-09-13T15:25:29.350Z"
   },
   {
    "duration": 11783,
    "start_time": "2021-09-13T15:26:04.336Z"
   },
   {
    "duration": 112550,
    "start_time": "2021-09-13T15:31:46.794Z"
   },
   {
    "duration": 89563,
    "start_time": "2021-09-13T15:34:43.774Z"
   },
   {
    "duration": 402453,
    "start_time": "2021-09-13T16:11:09.329Z"
   },
   {
    "duration": 142525,
    "start_time": "2021-09-13T16:19:01.259Z"
   },
   {
    "duration": 71968,
    "start_time": "2021-09-13T16:23:07.221Z"
   },
   {
    "duration": 17311,
    "start_time": "2021-09-13T18:23:00.170Z"
   },
   {
    "duration": 195,
    "start_time": "2021-09-13T18:23:17.483Z"
   },
   {
    "duration": 237,
    "start_time": "2021-09-13T18:23:17.682Z"
   },
   {
    "duration": 5,
    "start_time": "2021-09-13T18:24:38.237Z"
   },
   {
    "duration": 5,
    "start_time": "2021-09-13T18:26:30.387Z"
   },
   {
    "duration": 5,
    "start_time": "2021-09-13T18:27:01.870Z"
   },
   {
    "duration": 30957,
    "start_time": "2021-09-13T18:28:55.221Z"
   },
   {
    "duration": 202,
    "start_time": "2021-09-13T18:29:26.181Z"
   },
   {
    "duration": 97,
    "start_time": "2021-09-13T18:29:26.386Z"
   },
   {
    "duration": 5,
    "start_time": "2021-09-13T18:29:30.045Z"
   },
   {
    "duration": 5,
    "start_time": "2021-09-13T18:30:42.084Z"
   },
   {
    "duration": 5,
    "start_time": "2021-09-13T18:31:16.689Z"
   },
   {
    "duration": 5,
    "start_time": "2021-09-13T18:32:03.171Z"
   },
   {
    "duration": 772628,
    "start_time": "2021-09-13T18:34:15.051Z"
   },
   {
    "duration": 64825,
    "start_time": "2021-09-13T18:47:47.184Z"
   },
   {
    "duration": 31013,
    "start_time": "2021-09-13T18:55:47.417Z"
   },
   {
    "duration": 163343,
    "start_time": "2021-09-13T18:56:44.685Z"
   },
   {
    "duration": 31201,
    "start_time": "2021-09-13T19:01:57.129Z"
   },
   {
    "duration": 154,
    "start_time": "2021-09-13T19:02:28.331Z"
   },
   {
    "duration": 5,
    "start_time": "2021-09-13T19:02:28.487Z"
   },
   {
    "duration": 15390,
    "start_time": "2021-09-13T19:02:28.495Z"
   },
   {
    "duration": 1207,
    "start_time": "2021-09-13T19:02:43.887Z"
   },
   {
    "duration": 84,
    "start_time": "2021-09-13T19:02:45.096Z"
   },
   {
    "duration": 45047,
    "start_time": "2021-09-13T19:12:19.516Z"
   },
   {
    "duration": 63410,
    "start_time": "2021-09-13T19:14:58.167Z"
   },
   {
    "duration": 3,
    "start_time": "2021-09-13T20:52:24.326Z"
   },
   {
    "duration": 845123,
    "start_time": "2021-09-13T20:52:31.230Z"
   },
   {
    "duration": 326023,
    "start_time": "2021-09-13T21:07:13.621Z"
   },
   {
    "duration": 84719,
    "start_time": "2021-09-13T21:15:21.454Z"
   },
   {
    "duration": 808,
    "start_time": "2021-09-13T21:16:46.174Z"
   },
   {
    "duration": 5,
    "start_time": "2021-09-13T21:16:46.984Z"
   },
   {
    "duration": 2353,
    "start_time": "2021-09-14T11:58:56.351Z"
   },
   {
    "duration": 22,
    "start_time": "2021-09-14T11:59:04.152Z"
   },
   {
    "duration": 1279,
    "start_time": "2021-09-14T11:59:10.126Z"
   },
   {
    "duration": 5,
    "start_time": "2021-09-14T11:59:19.587Z"
   },
   {
    "duration": 795,
    "start_time": "2021-09-14T12:02:16.097Z"
   },
   {
    "duration": 849,
    "start_time": "2021-09-14T12:04:28.306Z"
   },
   {
    "duration": 980,
    "start_time": "2021-09-14T12:04:41.632Z"
   },
   {
    "duration": 864,
    "start_time": "2021-09-14T12:06:00.626Z"
   },
   {
    "duration": 873,
    "start_time": "2021-09-14T12:07:51.935Z"
   },
   {
    "duration": 854,
    "start_time": "2021-09-14T12:08:42.985Z"
   },
   {
    "duration": 468,
    "start_time": "2021-09-14T12:09:30.322Z"
   },
   {
    "duration": 45,
    "start_time": "2021-09-14T12:09:39.238Z"
   },
   {
    "duration": 44,
    "start_time": "2021-09-14T12:10:03.237Z"
   },
   {
    "duration": 45,
    "start_time": "2021-09-14T12:10:14.917Z"
   },
   {
    "duration": 45,
    "start_time": "2021-09-14T12:10:26.397Z"
   },
   {
    "duration": 44,
    "start_time": "2021-09-14T12:10:31.035Z"
   },
   {
    "duration": 662,
    "start_time": "2021-09-14T12:10:44.079Z"
   },
   {
    "duration": 605,
    "start_time": "2021-09-14T12:10:55.856Z"
   },
   {
    "duration": 811,
    "start_time": "2021-09-14T12:11:06.178Z"
   },
   {
    "duration": 195,
    "start_time": "2021-09-14T12:11:09.471Z"
   },
   {
    "duration": 283,
    "start_time": "2021-09-14T12:11:34.376Z"
   },
   {
    "duration": 154,
    "start_time": "2021-09-14T12:11:39.842Z"
   },
   {
    "duration": 112,
    "start_time": "2021-09-14T12:11:43.290Z"
   },
   {
    "duration": 6,
    "start_time": "2021-09-14T12:12:22.947Z"
   },
   {
    "duration": 1323,
    "start_time": "2021-09-14T12:12:24.471Z"
   },
   {
    "duration": 4,
    "start_time": "2021-09-14T12:12:28.918Z"
   },
   {
    "duration": 28,
    "start_time": "2021-09-14T12:12:30.805Z"
   },
   {
    "duration": 778,
    "start_time": "2021-09-14T12:12:33.056Z"
   },
   {
    "duration": 848,
    "start_time": "2021-09-14T12:12:36.043Z"
   },
   {
    "duration": 49,
    "start_time": "2021-09-14T12:12:37.103Z"
   },
   {
    "duration": 10,
    "start_time": "2021-09-14T12:12:38.191Z"
   },
   {
    "duration": 13,
    "start_time": "2021-09-14T12:12:38.511Z"
   },
   {
    "duration": 48,
    "start_time": "2021-09-14T12:12:41.039Z"
   },
   {
    "duration": 804,
    "start_time": "2021-09-14T12:12:42.805Z"
   },
   {
    "duration": 714,
    "start_time": "2021-09-14T12:12:47.036Z"
   },
   {
    "duration": 44,
    "start_time": "2021-09-14T12:12:50.323Z"
   },
   {
    "duration": 485,
    "start_time": "2021-09-14T12:12:51.346Z"
   },
   {
    "duration": 39,
    "start_time": "2021-09-14T12:12:54.070Z"
   },
   {
    "duration": 38,
    "start_time": "2021-09-14T12:12:55.543Z"
   },
   {
    "duration": 41,
    "start_time": "2021-09-14T12:12:57.956Z"
   },
   {
    "duration": 39,
    "start_time": "2021-09-14T12:12:58.723Z"
   },
   {
    "duration": 40,
    "start_time": "2021-09-14T12:12:59.828Z"
   },
   {
    "duration": 177,
    "start_time": "2021-09-14T12:13:06.834Z"
   },
   {
    "duration": 224,
    "start_time": "2021-09-14T12:13:26.011Z"
   },
   {
    "duration": 75,
    "start_time": "2021-09-14T12:13:28.739Z"
   },
   {
    "duration": 135,
    "start_time": "2021-09-14T12:13:31.020Z"
   },
   {
    "duration": 74,
    "start_time": "2021-09-14T12:13:34.215Z"
   },
   {
    "duration": 28,
    "start_time": "2021-09-14T12:13:35.798Z"
   },
   {
    "duration": 565,
    "start_time": "2021-09-14T12:14:26.147Z"
   },
   {
    "duration": 1009,
    "start_time": "2021-09-14T12:14:32.081Z"
   },
   {
    "duration": 95222,
    "start_time": "2021-09-14T12:23:58.896Z"
   },
   {
    "duration": 95,
    "start_time": "2021-09-14T12:25:34.123Z"
   },
   {
    "duration": 158204,
    "start_time": "2021-09-14T12:25:34.221Z"
   },
   {
    "duration": 164998,
    "start_time": "2021-09-14T12:28:12.428Z"
   },
   {
    "duration": 66229,
    "start_time": "2021-09-14T12:31:04.115Z"
   },
   {
    "duration": 35224,
    "start_time": "2021-09-14T12:32:10.347Z"
   },
   {
    "duration": 529,
    "start_time": "2021-09-14T12:36:36.378Z"
   },
   {
    "duration": 1571,
    "start_time": "2021-09-14T12:36:38.936Z"
   },
   {
    "duration": 1262,
    "start_time": "2021-09-14T12:36:40.510Z"
   },
   {
    "duration": 4,
    "start_time": "2021-09-14T12:36:41.775Z"
   },
   {
    "duration": 58,
    "start_time": "2021-09-14T12:36:41.781Z"
   },
   {
    "duration": 807,
    "start_time": "2021-09-14T12:36:41.842Z"
   },
   {
    "duration": 764,
    "start_time": "2021-09-14T12:36:42.652Z"
   },
   {
    "duration": 68,
    "start_time": "2021-09-14T12:36:43.419Z"
   },
   {
    "duration": 11,
    "start_time": "2021-09-14T12:36:43.490Z"
   },
   {
    "duration": 13,
    "start_time": "2021-09-14T12:36:43.517Z"
   },
   {
    "duration": 65,
    "start_time": "2021-09-14T12:36:43.533Z"
   },
   {
    "duration": 925,
    "start_time": "2021-09-14T12:36:43.617Z"
   },
   {
    "duration": 793,
    "start_time": "2021-09-14T12:36:44.546Z"
   },
   {
    "duration": 45,
    "start_time": "2021-09-14T12:36:45.342Z"
   },
   {
    "duration": 571,
    "start_time": "2021-09-14T12:36:45.390Z"
   },
   {
    "duration": 55,
    "start_time": "2021-09-14T12:36:45.963Z"
   },
   {
    "duration": 39,
    "start_time": "2021-09-14T12:36:46.020Z"
   },
   {
    "duration": 73,
    "start_time": "2021-09-14T12:36:46.061Z"
   },
   {
    "duration": 50,
    "start_time": "2021-09-14T12:36:46.137Z"
   },
   {
    "duration": 54,
    "start_time": "2021-09-14T12:36:46.190Z"
   },
   {
    "duration": 192,
    "start_time": "2021-09-14T12:36:47.126Z"
   },
   {
    "duration": 252,
    "start_time": "2021-09-14T12:36:47.799Z"
   },
   {
    "duration": 136,
    "start_time": "2021-09-14T12:36:48.362Z"
   },
   {
    "duration": 194,
    "start_time": "2021-09-14T12:36:48.735Z"
   },
   {
    "duration": 74,
    "start_time": "2021-09-14T12:36:53.320Z"
   },
   {
    "duration": 27,
    "start_time": "2021-09-14T12:36:54.141Z"
   },
   {
    "duration": 696,
    "start_time": "2021-09-14T12:36:59.162Z"
   },
   {
    "duration": 1017,
    "start_time": "2021-09-14T12:37:00.963Z"
   },
   {
    "duration": 95501,
    "start_time": "2021-09-14T12:37:02.820Z"
   },
   {
    "duration": 93,
    "start_time": "2021-09-14T12:38:38.325Z"
   },
   {
    "duration": 156901,
    "start_time": "2021-09-14T12:38:38.421Z"
   },
   {
    "duration": 165299,
    "start_time": "2021-09-14T12:41:15.326Z"
   },
   {
    "duration": 26082,
    "start_time": "2021-09-14T12:56:38.243Z"
   },
   {
    "duration": 206,
    "start_time": "2021-09-14T12:57:04.328Z"
   },
   {
    "duration": 445,
    "start_time": "2021-09-14T12:57:09.775Z"
   },
   {
    "duration": 7,
    "start_time": "2021-09-14T12:57:27.439Z"
   },
   {
    "duration": 40422,
    "start_time": "2021-09-14T12:57:40.594Z"
   },
   {
    "duration": 202,
    "start_time": "2021-09-14T12:58:21.019Z"
   },
   {
    "duration": 94,
    "start_time": "2021-09-14T12:58:21.226Z"
   },
   {
    "duration": 106177,
    "start_time": "2021-09-14T12:58:21.323Z"
   },
   {
    "duration": 991,
    "start_time": "2021-09-14T13:00:07.503Z"
   },
   {
    "duration": 23,
    "start_time": "2021-09-14T13:00:08.496Z"
   },
   {
    "duration": 43382,
    "start_time": "2021-09-14T13:00:08.521Z"
   },
   {
    "duration": 310,
    "start_time": "2021-09-14T13:00:51.906Z"
   },
   {
    "duration": 8,
    "start_time": "2021-09-14T13:00:52.219Z"
   },
   {
    "duration": 19797,
    "start_time": "2021-09-14T13:00:52.230Z"
   },
   {
    "duration": 2095,
    "start_time": "2021-09-14T13:01:12.030Z"
   },
   {
    "duration": 7,
    "start_time": "2021-09-14T13:01:14.129Z"
   },
   {
    "duration": 490,
    "start_time": "2021-09-14T13:11:22.045Z"
   },
   {
    "duration": 1623,
    "start_time": "2021-09-14T13:15:43.880Z"
   },
   {
    "duration": 1339,
    "start_time": "2021-09-14T13:15:45.506Z"
   },
   {
    "duration": 4,
    "start_time": "2021-09-14T13:15:46.848Z"
   },
   {
    "duration": 65,
    "start_time": "2021-09-14T13:15:46.855Z"
   },
   {
    "duration": 826,
    "start_time": "2021-09-14T13:15:46.922Z"
   },
   {
    "duration": 788,
    "start_time": "2021-09-14T13:15:47.750Z"
   },
   {
    "duration": 68,
    "start_time": "2021-09-14T13:15:48.541Z"
   },
   {
    "duration": 14,
    "start_time": "2021-09-14T13:15:48.619Z"
   },
   {
    "duration": 23,
    "start_time": "2021-09-14T13:15:48.636Z"
   },
   {
    "duration": 80,
    "start_time": "2021-09-14T13:15:48.662Z"
   },
   {
    "duration": 939,
    "start_time": "2021-09-14T13:15:48.744Z"
   },
   {
    "duration": 742,
    "start_time": "2021-09-14T13:15:49.686Z"
   },
   {
    "duration": 46,
    "start_time": "2021-09-14T13:15:50.432Z"
   },
   {
    "duration": 525,
    "start_time": "2021-09-14T13:15:50.481Z"
   },
   {
    "duration": 44,
    "start_time": "2021-09-14T13:15:51.009Z"
   },
   {
    "duration": 41,
    "start_time": "2021-09-14T13:15:51.056Z"
   },
   {
    "duration": 46,
    "start_time": "2021-09-14T13:15:51.116Z"
   },
   {
    "duration": 70,
    "start_time": "2021-09-14T13:15:51.165Z"
   },
   {
    "duration": 40,
    "start_time": "2021-09-14T13:15:51.237Z"
   },
   {
    "duration": 219,
    "start_time": "2021-09-14T13:15:51.280Z"
   },
   {
    "duration": 272,
    "start_time": "2021-09-14T13:15:51.502Z"
   },
   {
    "duration": 94,
    "start_time": "2021-09-14T13:15:51.777Z"
   },
   {
    "duration": 160,
    "start_time": "2021-09-14T13:15:51.877Z"
   },
   {
    "duration": 85,
    "start_time": "2021-09-14T13:15:52.040Z"
   },
   {
    "duration": 28,
    "start_time": "2021-09-14T13:15:52.127Z"
   },
   {
    "duration": 601,
    "start_time": "2021-09-14T13:15:52.157Z"
   },
   {
    "duration": 1150,
    "start_time": "2021-09-14T13:15:52.761Z"
   },
   {
    "duration": 125111,
    "start_time": "2021-09-14T13:15:53.913Z"
   },
   {
    "duration": 9,
    "start_time": "2021-09-14T13:17:59.027Z"
   },
   {
    "duration": 210601,
    "start_time": "2021-09-14T13:17:59.127Z"
   },
   {
    "duration": 172405,
    "start_time": "2021-09-14T13:21:29.818Z"
   },
   {
    "duration": 1054701,
    "start_time": "2021-09-14T13:24:22.226Z"
   },
   {
    "duration": 429906,
    "start_time": "2021-09-14T13:41:56.929Z"
   },
   {
    "duration": 892319,
    "start_time": "2021-09-14T13:49:06.838Z"
   },
   {
    "duration": 200060,
    "start_time": "2021-09-14T14:03:59.160Z"
   },
   {
    "duration": 2048806,
    "start_time": "2021-09-14T14:07:19.222Z"
   },
   {
    "duration": 452012,
    "start_time": "2021-09-14T14:41:28.031Z"
   },
   {
    "duration": 31090,
    "start_time": "2021-09-14T14:49:00.046Z"
   },
   {
    "duration": 289,
    "start_time": "2021-09-14T14:49:31.139Z"
   },
   {
    "duration": 88,
    "start_time": "2021-09-14T14:49:31.436Z"
   },
   {
    "duration": 52412,
    "start_time": "2021-09-14T14:49:31.526Z"
   },
   {
    "duration": 297,
    "start_time": "2021-09-14T14:50:23.943Z"
   },
   {
    "duration": 5,
    "start_time": "2021-09-14T14:50:24.330Z"
   },
   {
    "duration": 113712,
    "start_time": "2021-09-14T14:50:24.337Z"
   },
   {
    "duration": 983,
    "start_time": "2021-09-14T14:52:18.052Z"
   },
   {
    "duration": 5,
    "start_time": "2021-09-14T14:52:19.038Z"
   },
   {
    "duration": 45524,
    "start_time": "2021-09-14T14:52:19.046Z"
   },
   {
    "duration": 287,
    "start_time": "2021-09-14T14:53:04.573Z"
   },
   {
    "duration": 4,
    "start_time": "2021-09-14T14:53:04.863Z"
   },
   {
    "duration": 98754,
    "start_time": "2021-09-14T14:53:04.870Z"
   },
   {
    "duration": 2103,
    "start_time": "2021-09-14T14:54:43.628Z"
   },
   {
    "duration": 4,
    "start_time": "2021-09-14T14:54:45.734Z"
   },
   {
    "duration": 640,
    "start_time": "2021-09-14T14:54:45.740Z"
   },
   {
    "duration": 17,
    "start_time": "2021-09-14T15:01:08.065Z"
   },
   {
    "duration": 1572,
    "start_time": "2021-09-15T08:41:10.673Z"
   },
   {
    "duration": 1306,
    "start_time": "2021-09-15T08:41:13.582Z"
   },
   {
    "duration": 4,
    "start_time": "2021-09-15T08:41:14.890Z"
   },
   {
    "duration": 39,
    "start_time": "2021-09-15T08:41:14.896Z"
   },
   {
    "duration": 854,
    "start_time": "2021-09-15T08:41:14.959Z"
   },
   {
    "duration": 771,
    "start_time": "2021-09-15T08:41:15.816Z"
   },
   {
    "duration": 77,
    "start_time": "2021-09-15T08:41:16.590Z"
   },
   {
    "duration": 11,
    "start_time": "2021-09-15T08:41:16.670Z"
   },
   {
    "duration": 15,
    "start_time": "2021-09-15T08:41:16.684Z"
   },
   {
    "duration": 89,
    "start_time": "2021-09-15T08:41:16.701Z"
   },
   {
    "duration": 955,
    "start_time": "2021-09-15T08:41:16.955Z"
   },
   {
    "duration": 747,
    "start_time": "2021-09-15T08:41:17.913Z"
   },
   {
    "duration": 48,
    "start_time": "2021-09-15T08:41:18.664Z"
   },
   {
    "duration": 583,
    "start_time": "2021-09-15T08:41:21.800Z"
   },
   {
    "duration": 37,
    "start_time": "2021-09-15T08:41:22.386Z"
   },
   {
    "duration": 43,
    "start_time": "2021-09-15T08:41:22.552Z"
   },
   {
    "duration": 45,
    "start_time": "2021-09-15T08:41:24.532Z"
   },
   {
    "duration": 40,
    "start_time": "2021-09-15T08:41:25.310Z"
   },
   {
    "duration": 46,
    "start_time": "2021-09-15T08:41:25.647Z"
   },
   {
    "duration": 285,
    "start_time": "2021-09-15T08:41:28.939Z"
   },
   {
    "duration": 243,
    "start_time": "2021-09-15T08:41:30.378Z"
   },
   {
    "duration": 80,
    "start_time": "2021-09-15T08:41:33.439Z"
   },
   {
    "duration": 128,
    "start_time": "2021-09-15T08:41:34.398Z"
   },
   {
    "duration": 79,
    "start_time": "2021-09-15T08:41:36.653Z"
   },
   {
    "duration": 26,
    "start_time": "2021-09-15T08:41:38.003Z"
   },
   {
    "duration": 524,
    "start_time": "2021-09-15T08:41:49.094Z"
   },
   {
    "duration": 1050,
    "start_time": "2021-09-15T08:41:51.596Z"
   },
   {
    "duration": 25,
    "start_time": "2021-09-15T08:42:17.464Z"
   },
   {
    "duration": 17,
    "start_time": "2021-09-15T08:43:01.593Z"
   },
   {
    "duration": 151,
    "start_time": "2021-09-15T09:09:04.792Z"
   },
   {
    "duration": 15,
    "start_time": "2021-09-15T09:10:40.977Z"
   },
   {
    "duration": 151,
    "start_time": "2021-09-15T09:11:25.490Z"
   },
   {
    "duration": 144,
    "start_time": "2021-09-15T09:15:54.472Z"
   },
   {
    "duration": 126,
    "start_time": "2021-09-15T09:15:57.602Z"
   },
   {
    "duration": 143,
    "start_time": "2021-09-15T09:18:12.702Z"
   },
   {
    "duration": 79965,
    "start_time": "2021-09-15T09:18:16.135Z"
   },
   {
    "duration": 16943,
    "start_time": "2021-09-15T09:19:36.102Z"
   },
   {
    "duration": 178,
    "start_time": "2021-09-15T09:19:57.412Z"
   },
   {
    "duration": 1367257,
    "start_time": "2021-09-15T09:20:02.764Z"
   },
   {
    "duration": 3,
    "start_time": "2021-09-15T09:42:50.024Z"
   },
   {
    "duration": 306493,
    "start_time": "2021-09-15T09:44:02.877Z"
   },
   {
    "duration": 204,
    "start_time": "2021-09-15T09:50:35.500Z"
   },
   {
    "duration": 530189,
    "start_time": "2021-09-15T09:50:36.666Z"
   },
   {
    "duration": 74272,
    "start_time": "2021-09-15T10:03:33.285Z"
   },
   {
    "duration": 119,
    "start_time": "2021-09-15T10:04:55.280Z"
   },
   {
    "duration": 69233,
    "start_time": "2021-09-15T10:07:04.347Z"
   },
   {
    "duration": 288,
    "start_time": "2021-09-15T10:08:13.583Z"
   },
   {
    "duration": 5,
    "start_time": "2021-09-15T10:08:13.876Z"
   },
   {
    "duration": 15383,
    "start_time": "2021-09-15T10:08:13.883Z"
   },
   {
    "duration": 2089,
    "start_time": "2021-09-15T10:08:29.268Z"
   },
   {
    "duration": 5,
    "start_time": "2021-09-15T10:08:31.360Z"
   },
   {
    "duration": 8,
    "start_time": "2021-09-15T10:09:49.458Z"
   },
   {
    "duration": 5,
    "start_time": "2021-09-15T10:10:09.482Z"
   },
   {
    "duration": 7,
    "start_time": "2021-09-15T10:10:17.496Z"
   },
   {
    "duration": 7,
    "start_time": "2021-09-15T10:10:37.494Z"
   },
   {
    "duration": 1711,
    "start_time": "2021-09-15T10:56:20.689Z"
   },
   {
    "duration": 1290,
    "start_time": "2021-09-15T10:56:22.403Z"
   },
   {
    "duration": 5,
    "start_time": "2021-09-15T10:56:23.702Z"
   },
   {
    "duration": 70,
    "start_time": "2021-09-15T10:56:23.710Z"
   },
   {
    "duration": 802,
    "start_time": "2021-09-15T10:56:23.783Z"
   },
   {
    "duration": 752,
    "start_time": "2021-09-15T10:56:24.588Z"
   },
   {
    "duration": 73,
    "start_time": "2021-09-15T10:56:25.343Z"
   },
   {
    "duration": 10,
    "start_time": "2021-09-15T10:56:25.419Z"
   },
   {
    "duration": 32,
    "start_time": "2021-09-15T10:56:25.432Z"
   },
   {
    "duration": 68,
    "start_time": "2021-09-15T10:56:25.467Z"
   },
   {
    "duration": 997,
    "start_time": "2021-09-15T10:56:25.537Z"
   },
   {
    "duration": 719,
    "start_time": "2021-09-15T10:56:26.537Z"
   },
   {
    "duration": 48,
    "start_time": "2021-09-15T10:56:27.258Z"
   },
   {
    "duration": 510,
    "start_time": "2021-09-15T10:56:27.308Z"
   },
   {
    "duration": 47,
    "start_time": "2021-09-15T10:56:27.820Z"
   },
   {
    "duration": 42,
    "start_time": "2021-09-15T10:56:27.869Z"
   },
   {
    "duration": 63,
    "start_time": "2021-09-15T10:56:27.913Z"
   },
   {
    "duration": 39,
    "start_time": "2021-09-15T10:56:27.979Z"
   },
   {
    "duration": 48,
    "start_time": "2021-09-15T10:56:28.021Z"
   },
   {
    "duration": 190,
    "start_time": "2021-09-15T10:56:28.072Z"
   },
   {
    "duration": 244,
    "start_time": "2021-09-15T10:56:28.265Z"
   },
   {
    "duration": 83,
    "start_time": "2021-09-15T10:56:28.515Z"
   },
   {
    "duration": 132,
    "start_time": "2021-09-15T10:56:28.602Z"
   },
   {
    "duration": 75,
    "start_time": "2021-09-15T10:56:28.737Z"
   },
   {
    "duration": 43,
    "start_time": "2021-09-15T10:56:28.814Z"
   },
   {
    "duration": 492,
    "start_time": "2021-09-15T10:56:28.859Z"
   },
   {
    "duration": 996,
    "start_time": "2021-09-15T10:56:29.356Z"
   },
   {
    "duration": 96008,
    "start_time": "2021-09-15T10:56:30.356Z"
   },
   {
    "duration": 5,
    "start_time": "2021-09-15T10:58:06.457Z"
   },
   {
    "duration": 161400,
    "start_time": "2021-09-15T10:58:06.465Z"
   },
   {
    "duration": 166107,
    "start_time": "2021-09-15T11:00:47.958Z"
   },
   {
    "duration": 1072267,
    "start_time": "2021-09-15T11:03:34.158Z"
   },
   {
    "duration": 425112,
    "start_time": "2021-09-15T11:21:26.428Z"
   },
   {
    "duration": 858391,
    "start_time": "2021-09-15T11:28:31.543Z"
   },
   {
    "duration": 189130,
    "start_time": "2021-09-15T11:42:49.937Z"
   },
   {
    "duration": 197,
    "start_time": "2021-09-15T11:45:59.069Z"
   },
   {
    "duration": 1303042,
    "start_time": "2021-09-15T11:45:59.269Z"
   },
   {
    "duration": 299655,
    "start_time": "2021-09-15T12:07:42.313Z"
   },
   {
    "duration": 1509695,
    "start_time": "2021-09-15T12:12:41.972Z"
   },
   {
    "duration": 279809,
    "start_time": "2021-09-15T12:37:51.672Z"
   },
   {
    "duration": 247,
    "start_time": "2021-09-15T12:42:31.483Z"
   },
   {
    "duration": 1189148,
    "start_time": "2021-09-15T12:42:31.733Z"
   },
   {
    "duration": 243523,
    "start_time": "2021-09-15T13:02:20.958Z"
   },
   {
    "duration": 24991,
    "start_time": "2021-09-15T13:06:24.484Z"
   },
   {
    "duration": 281,
    "start_time": "2021-09-15T13:06:49.478Z"
   },
   {
    "duration": 12,
    "start_time": "2021-09-15T13:06:49.764Z"
   },
   {
    "duration": 43505,
    "start_time": "2021-09-15T13:06:49.858Z"
   },
   {
    "duration": 195,
    "start_time": "2021-09-15T13:07:33.367Z"
   },
   {
    "duration": 7,
    "start_time": "2021-09-15T13:07:33.566Z"
   },
   {
    "duration": 114600,
    "start_time": "2021-09-15T13:07:33.657Z"
   },
   {
    "duration": 989,
    "start_time": "2021-09-15T13:09:28.262Z"
   },
   {
    "duration": 6,
    "start_time": "2021-09-15T13:09:29.257Z"
   },
   {
    "duration": 44288,
    "start_time": "2021-09-15T13:09:29.266Z"
   },
   {
    "duration": 313,
    "start_time": "2021-09-15T13:10:13.558Z"
   },
   {
    "duration": 6,
    "start_time": "2021-09-15T13:10:13.874Z"
   },
   {
    "duration": 71281,
    "start_time": "2021-09-15T13:10:13.884Z"
   },
   {
    "duration": 298,
    "start_time": "2021-09-15T13:11:25.169Z"
   },
   {
    "duration": 5,
    "start_time": "2021-09-15T13:11:25.471Z"
   },
   {
    "duration": 56084,
    "start_time": "2021-09-15T13:11:25.479Z"
   },
   {
    "duration": 2194,
    "start_time": "2021-09-15T13:12:21.566Z"
   },
   {
    "duration": 8,
    "start_time": "2021-09-15T13:12:23.764Z"
   },
   {
    "duration": 52295,
    "start_time": "2021-09-15T13:12:23.775Z"
   },
   {
    "duration": 2090,
    "start_time": "2021-09-15T13:13:16.073Z"
   },
   {
    "duration": 7,
    "start_time": "2021-09-15T13:13:18.166Z"
   },
   {
    "duration": 563,
    "start_time": "2021-09-15T13:13:18.176Z"
   },
   {
    "duration": 18,
    "start_time": "2021-09-15T13:15:26.022Z"
   },
   {
    "duration": 119,
    "start_time": "2021-09-15T13:19:49.311Z"
   },
   {
    "duration": 17,
    "start_time": "2021-09-15T13:19:59.693Z"
   },
   {
    "duration": 17,
    "start_time": "2021-09-15T13:28:37.874Z"
   },
   {
    "duration": 6,
    "start_time": "2021-09-15T13:43:55.609Z"
   }
  ],
  "kernelspec": {
   "display_name": "Python 3",
   "language": "python",
   "name": "python3"
  },
  "language_info": {
   "codemirror_mode": {
    "name": "ipython",
    "version": 3
   },
   "file_extension": ".py",
   "mimetype": "text/x-python",
   "name": "python",
   "nbconvert_exporter": "python",
   "pygments_lexer": "ipython3",
   "version": "3.8.5"
  },
  "toc": {
   "base_numbering": 1,
   "nav_menu": {},
   "number_sections": true,
   "sideBar": true,
   "skip_h1_title": true,
   "title_cell": "Содержание",
   "title_sidebar": "Contents",
   "toc_cell": true,
   "toc_position": {},
   "toc_section_display": true,
   "toc_window_display": false
  }
 },
 "nbformat": 4,
 "nbformat_minor": 2
}
