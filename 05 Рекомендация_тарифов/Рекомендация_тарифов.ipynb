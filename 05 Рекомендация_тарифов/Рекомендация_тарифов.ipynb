{
 "cells": [
  {
   "cell_type": "markdown",
   "metadata": {
    "toc": true
   },
   "source": [
    "<h1>Оглавление<span class=\"tocSkip\"></span></h1>\n",
    "<div class=\"toc\"><ul class=\"toc-item\"><li><span><a href=\"#Откроем-и-изучим-файл\" data-toc-modified-id=\"Откроем-и-изучим-файл-1\"><span class=\"toc-item-num\">1&nbsp;&nbsp;</span>Откроем и изучим файл</a></span><ul class=\"toc-item\"><li><span><a href=\"#Вывод:\" data-toc-modified-id=\"Вывод:-1.1\"><span class=\"toc-item-num\">1.1&nbsp;&nbsp;</span>Вывод:</a></span></li></ul></li><li><span><a href=\"#Разбиение-данных-на-выборки\" data-toc-modified-id=\"Разбиение-данных-на-выборки-2\"><span class=\"toc-item-num\">2&nbsp;&nbsp;</span>Разбиение данных на выборки</a></span></li><li><span><a href=\"#Исследование-моделей\" data-toc-modified-id=\"Исследование-моделей-3\"><span class=\"toc-item-num\">3&nbsp;&nbsp;</span>Исследование моделей</a></span><ul class=\"toc-item\"><li><span><a href=\"#Дерево-решений\" data-toc-modified-id=\"Дерево-решений-3.1\"><span class=\"toc-item-num\">3.1&nbsp;&nbsp;</span>Дерево решений</a></span></li><li><span><a href=\"#Случайный-лес\" data-toc-modified-id=\"Случайный-лес-3.2\"><span class=\"toc-item-num\">3.2&nbsp;&nbsp;</span>Случайный лес</a></span></li><li><span><a href=\"#Логистиечская-регрессия\" data-toc-modified-id=\"Логистиечская-регрессия-3.3\"><span class=\"toc-item-num\">3.3&nbsp;&nbsp;</span>Логистиечская регрессия</a></span></li><li><span><a href=\"#Вывод:\" data-toc-modified-id=\"Вывод:-3.4\"><span class=\"toc-item-num\">3.4&nbsp;&nbsp;</span>Вывод:</a></span></li></ul></li><li><span><a href=\"#Проверка-моделей-на-тестовой-выборке\" data-toc-modified-id=\"Проверка-моделей-на-тестовой-выборке-4\"><span class=\"toc-item-num\">4&nbsp;&nbsp;</span>Проверка моделей на тестовой выборке</a></span><ul class=\"toc-item\"><li><span><a href=\"#Вывод:\" data-toc-modified-id=\"Вывод:-4.1\"><span class=\"toc-item-num\">4.1&nbsp;&nbsp;</span>Вывод:</a></span></li></ul></li><li><span><a href=\"#Проверка-моделей-на-адекватность\" data-toc-modified-id=\"Проверка-моделей-на-адекватность-5\"><span class=\"toc-item-num\">5&nbsp;&nbsp;</span>Проверка моделей на адекватность</a></span><ul class=\"toc-item\"><li><span><a href=\"#Вывод:\" data-toc-modified-id=\"Вывод:-5.1\"><span class=\"toc-item-num\">5.1&nbsp;&nbsp;</span>Вывод:</a></span></li></ul></li><li><span><a href=\"#Общий-вывод:\" data-toc-modified-id=\"Общий-вывод:-6\"><span class=\"toc-item-num\">6&nbsp;&nbsp;</span>Общий вывод:</a></span></li></ul></div>"
   ]
  },
  {
   "cell_type": "markdown",
   "metadata": {},
   "source": [
    "# Рекомендация тарифов"
   ]
  },
  {
   "cell_type": "markdown",
   "metadata": {},
   "source": [
    "В нашем распоряжении данные о поведении клиентов компании \"Мегалайн\", которые перешли на тарифы \"Смарт\" и \"Ультра\".\n",
    "\n",
    "*Цель работы* - построить модель для задачи классификации, которая выберет подходящий тариф для новых клиентов. \n",
    "\n",
    "*План действий:*\n",
    "- откроем и изучим файл с данными;\n",
    "- разделим выборки;\n",
    "- исследуем модели;\n",
    "- с помощью тестовой выборки выберем модель с максимально большим значением *accuracy*;\n",
    "- сформулируем общий вывод."
   ]
  },
  {
   "cell_type": "markdown",
   "metadata": {},
   "source": [
    "## Откроем и изучим файл"
   ]
  },
  {
   "cell_type": "code",
   "execution_count": 1,
   "metadata": {},
   "outputs": [
    {
     "name": "stdout",
     "output_type": "stream",
     "text": [
      "<class 'pandas.core.frame.DataFrame'>\n",
      "RangeIndex: 3214 entries, 0 to 3213\n",
      "Data columns (total 5 columns):\n",
      "calls       3214 non-null float64\n",
      "minutes     3214 non-null float64\n",
      "messages    3214 non-null float64\n",
      "mb_used     3214 non-null float64\n",
      "is_ultra    3214 non-null int64\n",
      "dtypes: float64(4), int64(1)\n",
      "memory usage: 125.7 KB\n"
     ]
    },
    {
     "data": {
      "text/html": [
       "<div>\n",
       "<style scoped>\n",
       "    .dataframe tbody tr th:only-of-type {\n",
       "        vertical-align: middle;\n",
       "    }\n",
       "\n",
       "    .dataframe tbody tr th {\n",
       "        vertical-align: top;\n",
       "    }\n",
       "\n",
       "    .dataframe thead th {\n",
       "        text-align: right;\n",
       "    }\n",
       "</style>\n",
       "<table border=\"1\" class=\"dataframe\">\n",
       "  <thead>\n",
       "    <tr style=\"text-align: right;\">\n",
       "      <th></th>\n",
       "      <th>calls</th>\n",
       "      <th>minutes</th>\n",
       "      <th>messages</th>\n",
       "      <th>mb_used</th>\n",
       "      <th>is_ultra</th>\n",
       "    </tr>\n",
       "  </thead>\n",
       "  <tbody>\n",
       "    <tr>\n",
       "      <td>0</td>\n",
       "      <td>40.0</td>\n",
       "      <td>311.90</td>\n",
       "      <td>83.0</td>\n",
       "      <td>19915.42</td>\n",
       "      <td>0</td>\n",
       "    </tr>\n",
       "    <tr>\n",
       "      <td>1</td>\n",
       "      <td>85.0</td>\n",
       "      <td>516.75</td>\n",
       "      <td>56.0</td>\n",
       "      <td>22696.96</td>\n",
       "      <td>0</td>\n",
       "    </tr>\n",
       "    <tr>\n",
       "      <td>2</td>\n",
       "      <td>77.0</td>\n",
       "      <td>467.66</td>\n",
       "      <td>86.0</td>\n",
       "      <td>21060.45</td>\n",
       "      <td>0</td>\n",
       "    </tr>\n",
       "    <tr>\n",
       "      <td>3</td>\n",
       "      <td>106.0</td>\n",
       "      <td>745.53</td>\n",
       "      <td>81.0</td>\n",
       "      <td>8437.39</td>\n",
       "      <td>1</td>\n",
       "    </tr>\n",
       "    <tr>\n",
       "      <td>4</td>\n",
       "      <td>66.0</td>\n",
       "      <td>418.74</td>\n",
       "      <td>1.0</td>\n",
       "      <td>14502.75</td>\n",
       "      <td>0</td>\n",
       "    </tr>\n",
       "  </tbody>\n",
       "</table>\n",
       "</div>"
      ],
      "text/plain": [
       "   calls  minutes  messages   mb_used  is_ultra\n",
       "0   40.0   311.90      83.0  19915.42         0\n",
       "1   85.0   516.75      56.0  22696.96         0\n",
       "2   77.0   467.66      86.0  21060.45         0\n",
       "3  106.0   745.53      81.0   8437.39         1\n",
       "4   66.0   418.74       1.0  14502.75         0"
      ]
     },
     "execution_count": 1,
     "metadata": {},
     "output_type": "execute_result"
    }
   ],
   "source": [
    "import pandas as pd\n",
    "from sklearn.model_selection import train_test_split\n",
    "from sklearn.tree import DecisionTreeClassifier\n",
    "from sklearn.ensemble import RandomForestClassifier\n",
    "from sklearn.linear_model import LogisticRegression\n",
    "from random import randint\n",
    "from sklearn.metrics import accuracy_score\n",
    "import numpy as np\n",
    "\n",
    "\n",
    "df = pd.read_csv('/datasets/users_behavior.csv')\n",
    "\n",
    "df.info()\n",
    "df.head()"
   ]
  },
  {
   "cell_type": "markdown",
   "metadata": {},
   "source": [
    "### Вывод:\n",
    "\n",
    "Входные данные представляют собой таблицу из 3214 строк, каждая из которых описывает одного клиента компании\"Мегалайн\" по 5 признакам.\n",
    "\n",
    "- сalls — количество звонков,\n",
    "- minutes — суммарная длительность звонков в минутах,\n",
    "- messages — количество sms-сообщений,\n",
    "- mb_used — израсходованный интернет-трафик в Мб,\n",
    "- is_ultra — каким тарифом пользовался в течение месяца («Ультра» — 1, «Смарт» — 0).\n",
    "\n",
    "Также были добавлены библиотеки и функции, которые нужны для выполнения проекта.\n",
    "\n",
    "В техническом описании сказано, что предобработка данных уже осуществленна, а значит сразу можно приступить к обучению моделей."
   ]
  },
  {
   "cell_type": "markdown",
   "metadata": {},
   "source": [
    "## Разбиение данных на выборки\n",
    "\n",
    "Для того чтобы обучать модели нам потребуется разбить входной датасет на 3 части: тренировочную, валидационную и тестовую выборки."
   ]
  },
  {
   "cell_type": "code",
   "execution_count": 2,
   "metadata": {},
   "outputs": [],
   "source": [
    "# методом train_test_split сначала отделим тренировочную выборку в размере 60% от всех данных\n",
    "train, other = train_test_split(df, test_size=0.4, random_state=5)\n",
    "# затем оставшуюся часть поделим поровну между валидационной и тестовой выборками.\n",
    "valid, test = train_test_split(other, test_size=0.5, random_state=5)"
   ]
  },
  {
   "cell_type": "markdown",
   "metadata": {},
   "source": [
    "Целевым признаком является столбец *is_ultra*. Отделим его от остальных признаков для каждой выборки."
   ]
  },
  {
   "cell_type": "code",
   "execution_count": 3,
   "metadata": {},
   "outputs": [],
   "source": [
    "train_features = train.drop('is_ultra', axis=1)\n",
    "train_target = train['is_ultra']\n",
    "\n",
    "valid_features = valid.drop('is_ultra', axis=1)\n",
    "valid_target = valid['is_ultra']\n",
    "\n",
    "test_features = test.drop('is_ultra', axis=1)\n",
    "test_target = test['is_ultra']"
   ]
  },
  {
   "cell_type": "markdown",
   "metadata": {},
   "source": [
    "## Исследование моделей\n",
    "\n",
    "В целях поиска лучшего результата, попробуем несколько моделей машинного обучения."
   ]
  },
  {
   "cell_type": "markdown",
   "metadata": {},
   "source": [
    "### Дерево решений\n",
    "Первой попробуем модель дерева решений. Так как данная модель склонна к переобучению при большой глубине дерева и недообучения при малой - в цикле переберем максимальную глубину в диапазоне от 1 до 10. Выведем на экран лучший показатель и соответсвующую глубину дерева решений."
   ]
  },
  {
   "cell_type": "code",
   "execution_count": 4,
   "metadata": {},
   "outputs": [
    {
     "name": "stdout",
     "output_type": "stream",
     "text": [
      "Лучший результат = 0.8009331259720062, глубина = 6.\n"
     ]
    }
   ],
   "source": [
    "best_score = 0\n",
    "for depth in range(1, 11):\n",
    "    # помещаем в model_tree алгоритм дерева решений\n",
    "    model_tree = DecisionTreeClassifier(random_state=5, max_depth=depth)\n",
    "    # обучаем на тренировочной выборке\n",
    "    model_tree.fit(train_features, train_target)\n",
    "    # смотрим на правильность предсказаний\n",
    "    score = model_tree.score(valid_features, valid_target)\n",
    "    # и наконец выявляем лучшую глубину\n",
    "    if score > best_score:\n",
    "        best_score = score\n",
    "        best_depth = depth\n",
    "print(f'Лучший результат = {best_score}, глубина = {best_depth}.')"
   ]
  },
  {
   "cell_type": "markdown",
   "metadata": {},
   "source": [
    "### Случайный лес\n",
    "Следующей опробуем модель случаного леса. Так как эта можель тоже склонна к переобучению, ведь лес по сути состоит из решающи деревьев, то также будем перебирать максимальную глубину в поисках лучшей. Помимо этого стоит перебрать разные количества деревьев, рассмотрим диапазон до 50 деревьев с шагом в 5."
   ]
  },
  {
   "cell_type": "code",
   "execution_count": 5,
   "metadata": {},
   "outputs": [
    {
     "name": "stdout",
     "output_type": "stream",
     "text": [
      "Лучший результат = 0.8102643856920684, количесвто деревьев = 10, глубина = 5.\n"
     ]
    }
   ],
   "source": [
    "best_score = 0\n",
    "for est in range(5, 50, 5):\n",
    "    for depth in range(1, 10):\n",
    "        model_forest = RandomForestClassifier(random_state=5, max_depth=depth, n_estimators=est)\n",
    "        model_forest.fit(train_features, train_target)\n",
    "        score = model_forest.score(valid_features, valid_target)\n",
    "        if score > best_score:\n",
    "            best_score = score\n",
    "            best_depth = depth\n",
    "            best_est = est\n",
    "print(f'Лучший результат = {best_score}, количество деревьев = {best_est}, глубина = {best_depth}.')"
   ]
  },
  {
   "cell_type": "markdown",
   "metadata": {},
   "source": [
    "Случайный лес показал резульат лучше на 1%."
   ]
  },
  {
   "cell_type": "markdown",
   "metadata": {},
   "source": [
    "### Логистиечская регрессия\n",
    "\n",
    "Осталось проверить последнюю модель. "
   ]
  },
  {
   "cell_type": "code",
   "execution_count": 6,
   "metadata": {},
   "outputs": [
    {
     "data": {
      "text/plain": [
       "0.7589424572317263"
      ]
     },
     "execution_count": 6,
     "metadata": {},
     "output_type": "execute_result"
    }
   ],
   "source": [
    "# записываем в переменную model_logreg алгоритм логистической регрессии\n",
    "# указываем параметр solver='liblinear', чтобы избежать предупреждения о будущей ошибке\n",
    "model_logreg = LogisticRegression(random_state=5, solver='liblinear')\n",
    "model_logreg.fit(train_features, train_target)\n",
    "model_logreg.score(valid_features, valid_target)"
   ]
  },
  {
   "cell_type": "markdown",
   "metadata": {},
   "source": [
    "### Вывод:\n",
    "\n",
    "По тестам на валидационной выборке лучшего всего себя показала модель **случаного леса** (≈81% точности). Немного хуже справилась модель решающего дерева (≈80% точности). И хуже всех - модель логистической регрессии с точностью в райное 76%."
   ]
  },
  {
   "cell_type": "markdown",
   "metadata": {},
   "source": [
    "## Проверка моделей на тестовой выборке\n",
    "\n",
    "Теперь проверим модели с помощью тестовой выборки и окончательно выберем лучшую."
   ]
  },
  {
   "cell_type": "code",
   "execution_count": 7,
   "metadata": {},
   "outputs": [
    {
     "name": "stdout",
     "output_type": "stream",
     "text": [
      "Дерево решений          -  0.776049766718507\n",
      "Случайный лес           -  0.7978227060653188\n",
      "Логистическая регрессия -  0.7371695178849145\n"
     ]
    }
   ],
   "source": [
    "print('Дерево решений          - ',model_tree.score(test_features, test_target))\n",
    "print('Случайный лес           - ', model_forest.score(test_features, test_target))\n",
    "print('Логистическая регрессия - ', model_logreg.score(test_features, test_target))"
   ]
  },
  {
   "cell_type": "markdown",
   "metadata": {},
   "source": [
    "### Вывод:\n",
    "Наилучшей моделью остается модель созданная алгоритмом случайного леса, правильность предсказаний упала всего на 1,2%. У остальных моделей точность упала на 2-3%, что говорит о том, что они немного переучились."
   ]
  },
  {
   "cell_type": "markdown",
   "metadata": {},
   "source": [
    "## Проверка моделей на адекватность\n",
    "\n",
    "Сравним наши показатели с моделью, которая случайно предсказывает ответ."
   ]
  },
  {
   "cell_type": "code",
   "execution_count": 8,
   "metadata": {},
   "outputs": [
    {
     "data": {
      "text/plain": [
       "0.5178849144634526"
      ]
     },
     "execution_count": 8,
     "metadata": {},
     "output_type": "execute_result"
    }
   ],
   "source": [
    "# с помощью функции randint создадим список равный по длине test_target, в котором будут случайно указаны ответы\n",
    "rndm = [randint(0, 1) for _ in range(len(test_target))]\n",
    "# так как ответы каждый раз могут сильно различаться , возьмем средние из ста таких экспериментов\n",
    "rndm_score = np.mean([accuracy_score(rndm, test_target) for _ in range(100)])\n",
    "rndm_score"
   ]
  },
  {
   "cell_type": "markdown",
   "metadata": {},
   "source": [
    "### Вывод:\n",
    "Слуйчайная модель предсказывает правильные ответы с вероятность около 50%. Из этого следует, что любая наша модель справляется лучше мининмум на 23%."
   ]
  },
  {
   "cell_type": "markdown",
   "metadata": {},
   "source": [
    "## Общий вывод:\n",
    "\n",
    "Результат исследования показал, что аналитикам компании \"Мегалайн\" лучше воспользоваться **моделью случайного леса с параметрами: количество деревьев = 10, глубина деревьев = 5.** Такая модель лучше всего выберет какому клиенту какой тариф лучше предложить."
   ]
  }
 ],
 "metadata": {
  "kernelspec": {
   "display_name": "Python 3",
   "language": "python",
   "name": "python3"
  },
  "language_info": {
   "codemirror_mode": {
    "name": "ipython",
    "version": 3
   },
   "file_extension": ".py",
   "mimetype": "text/x-python",
   "name": "python",
   "nbconvert_exporter": "python",
   "pygments_lexer": "ipython3",
   "version": "3.8.5"
  },
  "toc": {
   "base_numbering": 1,
   "nav_menu": {},
   "number_sections": true,
   "sideBar": true,
   "skip_h1_title": true,
   "title_cell": "Оглавление",
   "title_sidebar": "Contents",
   "toc_cell": true,
   "toc_position": {},
   "toc_section_display": true,
   "toc_window_display": false
  }
 },
 "nbformat": 4,
 "nbformat_minor": 2
}
