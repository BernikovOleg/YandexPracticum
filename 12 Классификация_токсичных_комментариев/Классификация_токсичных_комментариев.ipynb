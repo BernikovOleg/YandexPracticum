{
 "cells": [
  {
   "cell_type": "markdown",
   "metadata": {
    "toc": true
   },
   "source": [
    "<h1>Содержание<span class=\"tocSkip\"></span></h1>\n",
    "<div class=\"toc\"><ul class=\"toc-item\"><li><span><a href=\"#Подготовка\" data-toc-modified-id=\"Подготовка-1\"><span class=\"toc-item-num\">1&nbsp;&nbsp;</span>Подготовка</a></span><ul class=\"toc-item\"><li><span><a href=\"#Загрузка-и-прочтение-данных\" data-toc-modified-id=\"Загрузка-и-прочтение-данных-1.1\"><span class=\"toc-item-num\">1.1&nbsp;&nbsp;</span>Загрузка и прочтение данных</a></span></li><li><span><a href=\"#Предобработка\" data-toc-modified-id=\"Предобработка-1.2\"><span class=\"toc-item-num\">1.2&nbsp;&nbsp;</span>Предобработка</a></span></li><li><span><a href=\"#Лемматизация\" data-toc-modified-id=\"Лемматизация-1.3\"><span class=\"toc-item-num\">1.3&nbsp;&nbsp;</span>Лемматизация</a></span></li><li><span><a href=\"#Сознание-признаков-через-TF-IDF\" data-toc-modified-id=\"Сознание-признаков-через-TF-IDF-1.4\"><span class=\"toc-item-num\">1.4&nbsp;&nbsp;</span>Сознание признаков через TF-IDF</a></span></li><li><span><a href=\"#Вывод:\" data-toc-modified-id=\"Вывод:-1.5\"><span class=\"toc-item-num\">1.5&nbsp;&nbsp;</span>Вывод:</a></span></li></ul></li><li><span><a href=\"#Обучение\" data-toc-modified-id=\"Обучение-2\"><span class=\"toc-item-num\">2&nbsp;&nbsp;</span>Обучение</a></span><ul class=\"toc-item\"><li><span><a href=\"#LogisticRegression\" data-toc-modified-id=\"LogisticRegression-2.1\"><span class=\"toc-item-num\">2.1&nbsp;&nbsp;</span>LogisticRegression</a></span></li><li><span><a href=\"#CatBoostClassifier\" data-toc-modified-id=\"CatBoostClassifier-2.2\"><span class=\"toc-item-num\">2.2&nbsp;&nbsp;</span>CatBoostClassifier</a></span></li><li><span><a href=\"#LGBMClassifier\" data-toc-modified-id=\"LGBMClassifier-2.3\"><span class=\"toc-item-num\">2.3&nbsp;&nbsp;</span>LGBMClassifier</a></span></li></ul></li><li><span><a href=\"#Общий-вывод:\" data-toc-modified-id=\"Общий-вывод:-3\"><span class=\"toc-item-num\">3&nbsp;&nbsp;</span>Общий вывод:</a></span></li></ul></div>"
   ]
  },
  {
   "cell_type": "markdown",
   "metadata": {},
   "source": [
    "# Классификация токсичных комментариев"
   ]
  },
  {
   "cell_type": "markdown",
   "metadata": {},
   "source": [
    "Интернет-магазин «Викишоп» запускает новый сервис. Теперь пользователи могут редактировать и дополнять описания товаров, как в вики-сообществах. То есть клиенты предлагают свои правки и комментируют изменения других. Магазину нужен инструмент, который будет искать токсичные комментарии и отправлять их на модерацию. \n",
    "\n",
    "Обучим модель классифицировать комментарии на позитивные и негативные. В нашем распоряжении набор данных с разметкой о токсичности правок.\n",
    "\n",
    "Построим модель со значением метрики качества *F1* не меньше 0.75. \n",
    "\n",
    "*План работы:*\n",
    "\n",
    "1. Загрузим и подготовим данные.\n",
    "2. Обучим разные модели. \n",
    "3. Сделаем выводы."
   ]
  },
  {
   "cell_type": "markdown",
   "metadata": {},
   "source": [
    "## Подготовка\n",
    "\n",
    "Для начала импортируем все нужные библиотеки и функции для работы."
   ]
  },
  {
   "cell_type": "code",
   "execution_count": 1,
   "metadata": {
    "scrolled": true
   },
   "outputs": [
    {
     "name": "stdout",
     "output_type": "stream",
     "text": [
      "Requirement already up-to-date: scikit-learn in c:\\users\\user\\anaconda3\\lib\\site-packages (1.0.1)\n",
      "Requirement already satisfied, skipping upgrade: joblib>=0.11 in c:\\users\\user\\anaconda3\\lib\\site-packages (from scikit-learn) (0.17.0)\n",
      "Requirement already satisfied, skipping upgrade: scipy>=1.1.0 in c:\\users\\user\\anaconda3\\lib\\site-packages (from scikit-learn) (1.5.2)\n",
      "Requirement already satisfied, skipping upgrade: threadpoolctl>=2.0.0 in c:\\users\\user\\anaconda3\\lib\\site-packages (from scikit-learn) (2.1.0)\n",
      "Requirement already satisfied, skipping upgrade: numpy>=1.14.6 in c:\\users\\user\\anaconda3\\lib\\site-packages (from scikit-learn) (1.19.2)\n",
      "Requirement already satisfied: catboost in c:\\users\\user\\anaconda3\\lib\\site-packages (0.26.1)\n",
      "Requirement already satisfied: scipy in c:\\users\\user\\anaconda3\\lib\\site-packages (from catboost) (1.5.2)\n",
      "Requirement already satisfied: six in c:\\users\\user\\anaconda3\\lib\\site-packages (from catboost) (1.15.0)\n",
      "Requirement already satisfied: graphviz in c:\\users\\user\\anaconda3\\lib\\site-packages (from catboost) (0.17)\n",
      "Requirement already satisfied: plotly in c:\\users\\user\\anaconda3\\lib\\site-packages (from catboost) (5.3.1)\n",
      "Requirement already satisfied: matplotlib in c:\\users\\user\\anaconda3\\lib\\site-packages (from catboost) (3.3.2)\n",
      "Requirement already satisfied: numpy>=1.16.0 in c:\\users\\user\\anaconda3\\lib\\site-packages (from catboost) (1.19.2)\n",
      "Requirement already satisfied: pandas>=0.24.0 in c:\\users\\user\\anaconda3\\lib\\site-packages (from catboost) (1.1.3)\n",
      "Requirement already satisfied: tenacity>=6.2.0 in c:\\users\\user\\anaconda3\\lib\\site-packages (from plotly->catboost) (8.0.1)\n",
      "Requirement already satisfied: cycler>=0.10 in c:\\users\\user\\anaconda3\\lib\\site-packages (from matplotlib->catboost) (0.10.0)\n",
      "Requirement already satisfied: python-dateutil>=2.1 in c:\\users\\user\\anaconda3\\lib\\site-packages (from matplotlib->catboost) (2.8.1)\n",
      "Requirement already satisfied: pyparsing!=2.0.4,!=2.1.2,!=2.1.6,>=2.0.3 in c:\\users\\user\\anaconda3\\lib\\site-packages (from matplotlib->catboost) (2.4.7)\n",
      "Requirement already satisfied: pillow>=6.2.0 in c:\\users\\user\\anaconda3\\lib\\site-packages (from matplotlib->catboost) (8.0.1)\n",
      "Requirement already satisfied: kiwisolver>=1.0.1 in c:\\users\\user\\anaconda3\\lib\\site-packages (from matplotlib->catboost) (1.3.0)\n",
      "Requirement already satisfied: certifi>=2020.06.20 in c:\\users\\user\\anaconda3\\lib\\site-packages (from matplotlib->catboost) (2020.6.20)\n",
      "Requirement already satisfied: pytz>=2017.2 in c:\\users\\user\\anaconda3\\lib\\site-packages (from pandas>=0.24.0->catboost) (2020.1)\n",
      "Requirement already satisfied: lightgbm in c:\\users\\user\\anaconda3\\lib\\site-packages (3.2.1)\n",
      "Requirement already satisfied: scipy in c:\\users\\user\\anaconda3\\lib\\site-packages (from lightgbm) (1.5.2)\n",
      "Requirement already satisfied: numpy in c:\\users\\user\\anaconda3\\lib\\site-packages (from lightgbm) (1.19.2)\n",
      "Requirement already satisfied: wheel in c:\\users\\user\\anaconda3\\lib\\site-packages (from lightgbm) (0.35.1)\n",
      "Requirement already satisfied: scikit-learn!=0.22.0 in c:\\users\\user\\anaconda3\\lib\\site-packages (from lightgbm) (1.0.1)\n",
      "Requirement already satisfied: joblib>=0.11 in c:\\users\\user\\anaconda3\\lib\\site-packages (from scikit-learn!=0.22.0->lightgbm) (0.17.0)\n",
      "Requirement already satisfied: threadpoolctl>=2.0.0 in c:\\users\\user\\anaconda3\\lib\\site-packages (from scikit-learn!=0.22.0->lightgbm) (2.1.0)\n"
     ]
    },
    {
     "name": "stderr",
     "output_type": "stream",
     "text": [
      "[nltk_data] Downloading package averaged_perceptron_tagger to\n",
      "[nltk_data]     C:\\Users\\User\\AppData\\Roaming\\nltk_data...\n",
      "[nltk_data]   Package averaged_perceptron_tagger is already up-to-\n",
      "[nltk_data]       date!\n",
      "[nltk_data] Downloading package wordnet to\n",
      "[nltk_data]     C:\\Users\\User\\AppData\\Roaming\\nltk_data...\n",
      "[nltk_data]   Package wordnet is already up-to-date!\n",
      "[nltk_data] Downloading package stopwords to\n",
      "[nltk_data]     C:\\Users\\User\\AppData\\Roaming\\nltk_data...\n",
      "[nltk_data]   Package stopwords is already up-to-date!\n",
      "[nltk_data] Downloading package punkt to\n",
      "[nltk_data]     C:\\Users\\User\\AppData\\Roaming\\nltk_data...\n",
      "[nltk_data]   Package punkt is already up-to-date!\n"
     ]
    }
   ],
   "source": [
    "!pip install -U scikit-learn\n",
    "!pip3 install catboost\n",
    "!pip install lightgbm\n",
    "\n",
    "import pandas as pd\n",
    "import numpy as np\n",
    "import re\n",
    "\n",
    "import nltk\n",
    "from nltk.corpus import stopwords as nltk_stopwords \n",
    "from nltk.stem import WordNetLemmatizer\n",
    "from nltk import word_tokenize,pos_tag\n",
    "\n",
    "from sklearn.feature_extraction.text import TfidfVectorizer\n",
    "\n",
    "from sklearn.model_selection import train_test_split, GridSearchCV, cross_val_score\n",
    "from sklearn.metrics import f1_score\n",
    "\n",
    "from sklearn.linear_model import LogisticRegression\n",
    "from catboost import CatBoostClassifier\n",
    "from lightgbm import LGBMClassifier\n",
    "\n",
    "nltk.download('averaged_perceptron_tagger')\n",
    "nltk.download('wordnet')\n",
    "nltk.download('stopwords')\n",
    "nltk.download('punkt')\n",
    "stopwords = set(nltk_stopwords.words('english'))"
   ]
  },
  {
   "cell_type": "markdown",
   "metadata": {},
   "source": [
    "### Загрузка и прочтение данных"
   ]
  },
  {
   "cell_type": "code",
   "execution_count": 2,
   "metadata": {},
   "outputs": [
    {
     "name": "stdout",
     "output_type": "stream",
     "text": [
      "<class 'pandas.core.frame.DataFrame'>\n",
      "RangeIndex: 159571 entries, 0 to 159570\n",
      "Data columns (total 2 columns):\n",
      " #   Column  Non-Null Count   Dtype \n",
      "---  ------  --------------   ----- \n",
      " 0   text    159571 non-null  object\n",
      " 1   toxic   159571 non-null  int64 \n",
      "dtypes: int64(1), object(1)\n",
      "memory usage: 2.4+ MB\n"
     ]
    },
    {
     "data": {
      "text/html": [
       "<div>\n",
       "<style scoped>\n",
       "    .dataframe tbody tr th:only-of-type {\n",
       "        vertical-align: middle;\n",
       "    }\n",
       "\n",
       "    .dataframe tbody tr th {\n",
       "        vertical-align: top;\n",
       "    }\n",
       "\n",
       "    .dataframe thead th {\n",
       "        text-align: right;\n",
       "    }\n",
       "</style>\n",
       "<table border=\"1\" class=\"dataframe\">\n",
       "  <thead>\n",
       "    <tr style=\"text-align: right;\">\n",
       "      <th></th>\n",
       "      <th>text</th>\n",
       "      <th>toxic</th>\n",
       "    </tr>\n",
       "  </thead>\n",
       "  <tbody>\n",
       "    <tr>\n",
       "      <th>0</th>\n",
       "      <td>Explanation\\nWhy the edits made under my usern...</td>\n",
       "      <td>0</td>\n",
       "    </tr>\n",
       "    <tr>\n",
       "      <th>1</th>\n",
       "      <td>D'aww! He matches this background colour I'm s...</td>\n",
       "      <td>0</td>\n",
       "    </tr>\n",
       "    <tr>\n",
       "      <th>2</th>\n",
       "      <td>Hey man, I'm really not trying to edit war. It...</td>\n",
       "      <td>0</td>\n",
       "    </tr>\n",
       "    <tr>\n",
       "      <th>3</th>\n",
       "      <td>\"\\nMore\\nI can't make any real suggestions on ...</td>\n",
       "      <td>0</td>\n",
       "    </tr>\n",
       "    <tr>\n",
       "      <th>4</th>\n",
       "      <td>You, sir, are my hero. Any chance you remember...</td>\n",
       "      <td>0</td>\n",
       "    </tr>\n",
       "  </tbody>\n",
       "</table>\n",
       "</div>"
      ],
      "text/plain": [
       "                                                text  toxic\n",
       "0  Explanation\\nWhy the edits made under my usern...      0\n",
       "1  D'aww! He matches this background colour I'm s...      0\n",
       "2  Hey man, I'm really not trying to edit war. It...      0\n",
       "3  \"\\nMore\\nI can't make any real suggestions on ...      0\n",
       "4  You, sir, are my hero. Any chance you remember...      0"
      ]
     },
     "execution_count": 2,
     "metadata": {},
     "output_type": "execute_result"
    }
   ],
   "source": [
    "df = pd.read_csv('toxic_comments.csv')\n",
    "\n",
    "df.info()\n",
    "df.head()"
   ]
  },
  {
   "cell_type": "markdown",
   "metadata": {},
   "source": [
    "Входные данные представялют собой таблицу, в которой каждая строка это наблюдение за одним комментарием. Столбец *text* в нём содержит текст комментария, а *toxic* — целевой признак; столбец бинарный, а значит в нем *1* означает \"да\", а *0* означает \"нет\". \n",
    "\n",
    "Сразу же видно, что в данных нет пропусков."
   ]
  },
  {
   "cell_type": "markdown",
   "metadata": {},
   "source": [
    "### Предобработка\n",
    "\n",
    "Проверим наличие полных дубликатов."
   ]
  },
  {
   "cell_type": "code",
   "execution_count": 3,
   "metadata": {},
   "outputs": [
    {
     "data": {
      "text/plain": [
       "0"
      ]
     },
     "execution_count": 3,
     "metadata": {},
     "output_type": "execute_result"
    }
   ],
   "source": [
    "df.duplicated().sum()"
   ]
  },
  {
   "cell_type": "markdown",
   "metadata": {},
   "source": [
    "Теперь стоит проверить целевой признак на наличие аномальных значений."
   ]
  },
  {
   "cell_type": "code",
   "execution_count": 4,
   "metadata": {
    "scrolled": true
   },
   "outputs": [
    {
     "data": {
      "text/plain": [
       "0    143346\n",
       "1     16225\n",
       "Name: toxic, dtype: int64"
      ]
     },
     "execution_count": 4,
     "metadata": {},
     "output_type": "execute_result"
    }
   ],
   "source": [
    "df['toxic'].value_counts()"
   ]
  },
  {
   "cell_type": "markdown",
   "metadata": {},
   "source": [
    "Отлично, столбец бинарный."
   ]
  },
  {
   "cell_type": "markdown",
   "metadata": {},
   "source": [
    "### Лемматизация\n",
    "\n",
    "Теперь лемматизируем тексты, чтобы потом можно было подготовить признаки."
   ]
  },
  {
   "cell_type": "code",
   "execution_count": 5,
   "metadata": {},
   "outputs": [],
   "source": [
    "def lemmatize(text):\n",
    "    '''\n",
    "    Функция принимает строку, оставялет в ней только англицские буквы и потом находит из оставшего текста леммы\n",
    "    '''\n",
    "    #с помощью регуляки оставим только английские буквы\n",
    "    re_text = re.sub(r'[^a-zA-Z]', ' ', text.lower())\n",
    "    clear_re =  ' '.join(re_text.split())\n",
    "    \n",
    "    #возьмем английский лемматизатор\n",
    "    wordnet = WordNetLemmatizer()\n",
    "    \n",
    "    lemm_list = []\n",
    "    for token,tag in pos_tag(word_tokenize(clear_re)):\n",
    "        pos=tag[0].lower()\n",
    "        \n",
    "        if pos not in ['a', 'r', 'n', 'v']:\n",
    "            pos='n'\n",
    "        \n",
    "        lemm_list.append(wordnet.lemmatize(token,pos))\n",
    "    \n",
    "    lemm_text = \" \".join(lemm_list)\n",
    "    \n",
    "    return lemm_text"
   ]
  },
  {
   "cell_type": "code",
   "execution_count": 6,
   "metadata": {},
   "outputs": [
    {
     "name": "stdout",
     "output_type": "stream",
     "text": [
      "Wall time: 12min 51s\n"
     ]
    }
   ],
   "source": [
    "%%time\n",
    "clear_text = df['text'].apply(lemmatize)"
   ]
  },
  {
   "cell_type": "code",
   "execution_count": 7,
   "metadata": {},
   "outputs": [
    {
     "name": "stdout",
     "output_type": "stream",
     "text": [
      "0    Explanation\\nWhy the edits made under my usern...\n",
      "1    D'aww! He matches this background colour I'm s...\n",
      "2    Hey man, I'm really not trying to edit war. It...\n",
      "3    \"\\nMore\\nI can't make any real suggestions on ...\n",
      "4    You, sir, are my hero. Any chance you remember...\n",
      "Name: text, dtype: object\n",
      "------------------------------------------------------\n",
      "0    explanation why the edits make under my userna...\n",
      "1    d aww he match this background colour i m seem...\n",
      "2    hey man i m really not try to edit war it s ju...\n",
      "3    more i can t make any real suggestion on impro...\n",
      "4    you sir be my hero any chance you remember wha...\n",
      "Name: text, dtype: object\n"
     ]
    }
   ],
   "source": [
    "print(df['text'].head())\n",
    "print('------------------------------------------------------')\n",
    "print(clear_text.head())"
   ]
  },
  {
   "cell_type": "markdown",
   "metadata": {},
   "source": [
    "### Сознание признаков через TF-IDF\n",
    "\n",
    "Сначала разделим выборки."
   ]
  },
  {
   "cell_type": "code",
   "execution_count": 8,
   "metadata": {},
   "outputs": [],
   "source": [
    "train_x, test_x = train_test_split(clear_text, test_size=0.25, random_state=5)\n",
    "\n",
    "train_y = df.loc[train_x.index, 'toxic']\n",
    "test_y = df.loc[test_x.index, 'toxic']"
   ]
  },
  {
   "cell_type": "markdown",
   "metadata": {},
   "source": [
    "Теперь через счётчик величин TF-IDF преобразуем лемматизированный текст в векторную форму, понятную алгоритам ML."
   ]
  },
  {
   "cell_type": "code",
   "execution_count": 9,
   "metadata": {},
   "outputs": [],
   "source": [
    "count_tf_idf = TfidfVectorizer(stop_words=stopwords)\n",
    "\n",
    "count_tf_idf.fit(train_x)\n",
    "train_tfidf = count_tf_idf.transform(train_x)\n",
    "test_tfidf = count_tf_idf.transform(test_x)"
   ]
  },
  {
   "cell_type": "markdown",
   "metadata": {},
   "source": [
    "### Вывод:\n",
    "\n",
    "Данные были успешно загружены. Данные были хорошо собраны: нет пропущенных значений, нет дубликатов, нет аномалий.\n",
    "\n",
    "В ходе подготовки признаков для дальнейшего обучения, текстовые столбец был лемматизирован, а затем преобразован в векторную форму с помощью TF-IDF. На выходе мы получили готовые обучающую и тестовую выборки."
   ]
  },
  {
   "cell_type": "markdown",
   "metadata": {},
   "source": [
    "## Обучение"
   ]
  },
  {
   "cell_type": "markdown",
   "metadata": {},
   "source": [
    "Для обучения попробуем 3 модели: \n",
    " 1. LogisticRegression\n",
    " 2. CatBoostClassifier\n",
    " 3. LGBMClassifier\n",
    " \n",
    "Для каждой модели подберем лучшие параметры на кроссвалидации. Затем модели с лучшими параметрами протестируем на тестовой выборке и вычислиним для них результаты метрики качества F1."
   ]
  },
  {
   "cell_type": "markdown",
   "metadata": {},
   "source": [
    "### LogisticRegression"
   ]
  },
  {
   "cell_type": "code",
   "execution_count": 10,
   "metadata": {
    "scrolled": true
   },
   "outputs": [
    {
     "name": "stdout",
     "output_type": "stream",
     "text": [
      "Лучшие параметры для LogisticRegression {'C': 7, 'class_weight': None}\n",
      "\n",
      "Wall time: 3min 46s\n"
     ]
    },
    {
     "name": "stderr",
     "output_type": "stream",
     "text": [
      "C:\\Users\\User\\anaconda3\\lib\\site-packages\\sklearn\\linear_model\\_logistic.py:814: ConvergenceWarning: lbfgs failed to converge (status=1):\n",
      "STOP: TOTAL NO. of ITERATIONS REACHED LIMIT.\n",
      "\n",
      "Increase the number of iterations (max_iter) or scale the data as shown in:\n",
      "    https://scikit-learn.org/stable/modules/preprocessing.html\n",
      "Please also refer to the documentation for alternative solver options:\n",
      "    https://scikit-learn.org/stable/modules/linear_model.html#logistic-regression\n",
      "  n_iter_i = _check_optimize_result(\n"
     ]
    }
   ],
   "source": [
    "%%time \n",
    "\n",
    "model_lr = LogisticRegression(random_state=5)\n",
    "params_lr = {'class_weight': ['balanced', None], 'C':np.arange(1, 10)}\n",
    "grid_lr = GridSearchCV(model_lr, params_lr, cv=3, n_jobs=-1)\n",
    "\n",
    "grid_lr.fit(train_tfidf, train_y)\n",
    "\n",
    "print('Лучшие параметры для LogisticRegression', grid_lr.best_params_, end='\\n\\n')"
   ]
  },
  {
   "cell_type": "markdown",
   "metadata": {},
   "source": [
    "Протестируем параметры."
   ]
  },
  {
   "cell_type": "code",
   "execution_count": 11,
   "metadata": {},
   "outputs": [
    {
     "name": "stderr",
     "output_type": "stream",
     "text": [
      "C:\\Users\\User\\anaconda3\\lib\\site-packages\\sklearn\\linear_model\\_logistic.py:814: ConvergenceWarning: lbfgs failed to converge (status=1):\n",
      "STOP: TOTAL NO. of ITERATIONS REACHED LIMIT.\n",
      "\n",
      "Increase the number of iterations (max_iter) or scale the data as shown in:\n",
      "    https://scikit-learn.org/stable/modules/preprocessing.html\n",
      "Please also refer to the documentation for alternative solver options:\n",
      "    https://scikit-learn.org/stable/modules/linear_model.html#logistic-regression\n",
      "  n_iter_i = _check_optimize_result(\n"
     ]
    }
   ],
   "source": [
    "model_lr_test = LogisticRegression(class_weight=None , C=7, random_state=5)\n",
    "model_lr_test.fit(train_tfidf, train_y)\n",
    "preds_lr = model_lr_test.predict(test_tfidf)\n",
    "lr_f1_test = f1_score(test_y, preds_lr)"
   ]
  },
  {
   "cell_type": "code",
   "execution_count": 12,
   "metadata": {},
   "outputs": [
    {
     "data": {
      "text/plain": [
       "0.7695307060298009"
      ]
     },
     "execution_count": 12,
     "metadata": {},
     "output_type": "execute_result"
    }
   ],
   "source": [
    "lr_f1_test"
   ]
  },
  {
   "cell_type": "markdown",
   "metadata": {},
   "source": [
    "### CatBoostClassifier"
   ]
  },
  {
   "cell_type": "markdown",
   "metadata": {},
   "source": [
    "Из-за нехватки мощности код ниже выполнялся в Google Colab.\n",
    "\n",
    "\n",
    "```python\n",
    "model_cat = CatBoostClassifier(loss_function='Logloss', iterations=150, random_seed=5, verbose=False)\n",
    "parameters_cat = {'depth':[3, 5, 10], 'learning_rate':np.arange(0.1, 1, 0.2)}\n",
    "cat_grid = GridSearchCV(model_cat, parameters_cat, cv=3, n_jobs=-1)\n",
    "\n",
    "cat_grid.fit(train_tfidf, train_y)\n",
    "\n",
    "print('Лучшие параметры для CatBoost', cat_grid.best_params_, end='\\n\\n')\n",
    "```"
   ]
  },
  {
   "cell_type": "markdown",
   "metadata": {},
   "source": [
    "Лучшие параметры для CatBoost {'depth': 5, 'learning_rate': 0.5}\n",
    "\n",
    "Протестируем их."
   ]
  },
  {
   "cell_type": "code",
   "execution_count": 13,
   "metadata": {},
   "outputs": [
    {
     "name": "stdout",
     "output_type": "stream",
     "text": [
      "Wall time: 1min 58s\n"
     ]
    }
   ],
   "source": [
    "%%time\n",
    "\n",
    "model_cat_test = CatBoostClassifier(loss_function='Logloss', iterations=150, random_seed=5, verbose=False,\n",
    "                                  learning_rate=0.5, depth=5)\n",
    "model_cat_test.fit(train_tfidf, train_y)\n",
    "\n",
    "cat_preds = model_cat_test.predict(test_tfidf)\n",
    "\n",
    "cat_f1_test = f1_score(test_y, cat_preds) "
   ]
  },
  {
   "cell_type": "code",
   "execution_count": 14,
   "metadata": {},
   "outputs": [
    {
     "data": {
      "text/plain": [
       "0.7472622478386166"
      ]
     },
     "execution_count": 14,
     "metadata": {},
     "output_type": "execute_result"
    }
   ],
   "source": [
    "cat_f1_test"
   ]
  },
  {
   "cell_type": "markdown",
   "metadata": {},
   "source": [
    "### LGBMClassifier"
   ]
  },
  {
   "cell_type": "markdown",
   "metadata": {},
   "source": [
    "Из-за нехватки мощности код ниже выполнялся в Google Colab\n",
    "\n",
    "```python\n",
    "model_lgbm = LGBMClassifier(boosting_type='gbdt') \n",
    "\n",
    "params_lgbm = {'num_leaves':[31, 50, 100], 'learning_rate':[0.1, 0.4, 0.7]}\n",
    "grid_lgbm = GridSearchCV(model_lgbm, params_lgbm, cv=3, n_jobs=-1)\n",
    "\n",
    "grid_lgbm.fit(train_tfidf, train_y)\n",
    "\n",
    "print('Лучшие параметры для модели LightGBM', grid_lgbm.best_params_, end='\\n\\n')\n",
    "```"
   ]
  },
  {
   "cell_type": "markdown",
   "metadata": {},
   "source": [
    "Лучшие параметры для модели LightGBM: {'num_leaves': 5, 'learning_rate': 0.1}\n",
    "\n",
    "Тестируем."
   ]
  },
  {
   "cell_type": "code",
   "execution_count": 15,
   "metadata": {},
   "outputs": [
    {
     "name": "stdout",
     "output_type": "stream",
     "text": [
      "Wall time: 58.6 s\n"
     ]
    }
   ],
   "source": [
    "%%time\n",
    "\n",
    "model_lgbm_test = LGBMClassifier(boosting_type='gbdt', learning_rate=0.1, num_leaves=100)\n",
    "model_lgbm_test.fit(train_tfidf, train_y)\n",
    "\n",
    "lgbm_preds = model_lgbm_test.predict(test_tfidf)\n",
    "\n",
    "lgbm_f1_test = f1_score(test_y, lgbm_preds) "
   ]
  },
  {
   "cell_type": "code",
   "execution_count": 16,
   "metadata": {},
   "outputs": [
    {
     "data": {
      "text/plain": [
       "0.774452756996398"
      ]
     },
     "execution_count": 16,
     "metadata": {},
     "output_type": "execute_result"
    }
   ],
   "source": [
    "lgbm_f1_test"
   ]
  },
  {
   "cell_type": "markdown",
   "metadata": {},
   "source": [
    "## Общий вывод:\n",
    "\n",
    "Входные данные представляли собой таблицу из двух колонок: в первой был текст комментария, а во второй - бинарно представлял токсичен комментарий или нет.\n",
    "\n",
    "Данные были отлично собранны. В них отсутствовали пропуски и дубликаты. Аномалий тоже не обнаружено.\n",
    "\n",
    "Тексты комментариев были лемматизированы, а затем переведены в векторные представляения с помощью техники TF-IDF.\n",
    "\n",
    "Были опробованы 3 модели ML: *LogisticRegression, CatBoostClassifier и LGBMClassifier*. Для каждой модели были подобраны лучшие парметры на кросс-валидации.\n",
    "\n",
    "По итогам проверки на тестовой выборке только модели LogisticRegression и LGBMClassifier смогли преодолеть минимальный порог метрики качества. \n",
    "\n",
    "Поэтому лучшей моделью для определения токсичности комментариев признается **модель LGBMClassifier с гиперпараметрами:  boosting_type='gbdt', learning_rate=0.1, num_leaves=100; и результатом F1 = 0.774452756996398**"
   ]
  }
 ],
 "metadata": {
  "ExecuteTimeLog": [
   {
    "duration": 224,
    "start_time": "2021-09-23T09:29:02.717Z"
   },
   {
    "duration": 565,
    "start_time": "2021-09-23T09:29:05.275Z"
   },
   {
    "duration": 2810,
    "start_time": "2021-09-23T09:29:05.842Z"
   },
   {
    "duration": 6,
    "start_time": "2021-09-23T09:30:32.535Z"
   },
   {
    "duration": 16,
    "start_time": "2021-09-23T09:31:13.886Z"
   },
   {
    "duration": 204,
    "start_time": "2021-09-23T09:59:38.847Z"
   },
   {
    "duration": 57,
    "start_time": "2021-09-23T10:01:00.167Z"
   },
   {
    "duration": 6,
    "start_time": "2021-09-23T10:01:08.620Z"
   },
   {
    "duration": 6700,
    "start_time": "2021-09-23T10:08:38.748Z"
   },
   {
    "duration": 7187,
    "start_time": "2021-09-23T10:08:55.016Z"
   },
   {
    "duration": 5692,
    "start_time": "2021-09-23T10:09:21.883Z"
   },
   {
    "duration": 5644,
    "start_time": "2021-09-23T10:09:28.994Z"
   },
   {
    "duration": 2315,
    "start_time": "2021-09-23T10:09:50.964Z"
   },
   {
    "duration": 2307,
    "start_time": "2021-09-23T10:10:00.815Z"
   },
   {
    "duration": 589,
    "start_time": "2021-09-23T10:38:18.991Z"
   },
   {
    "duration": 661,
    "start_time": "2021-09-23T10:38:19.582Z"
   },
   {
    "duration": 222,
    "start_time": "2021-09-23T10:38:20.245Z"
   },
   {
    "duration": 6,
    "start_time": "2021-09-23T10:38:20.469Z"
   },
   {
    "duration": 2316,
    "start_time": "2021-09-23T10:38:20.477Z"
   },
   {
    "duration": 57676,
    "start_time": "2021-09-23T10:38:22.800Z"
   },
   {
    "duration": 3,
    "start_time": "2021-09-23T10:57:16.878Z"
   },
   {
    "duration": -1442,
    "start_time": "2021-09-23T11:19:07.706Z"
   },
   {
    "duration": 4,
    "start_time": "2021-09-23T11:19:37.162Z"
   },
   {
    "duration": 71,
    "start_time": "2021-09-23T11:21:30.377Z"
   },
   {
    "duration": 3,
    "start_time": "2021-09-23T11:21:40.606Z"
   },
   {
    "duration": 2457,
    "start_time": "2021-09-23T11:21:42.298Z"
   },
   {
    "duration": 5,
    "start_time": "2021-09-23T11:22:02.123Z"
   },
   {
    "duration": 5,
    "start_time": "2021-09-23T11:22:22.938Z"
   },
   {
    "duration": 3280,
    "start_time": "2021-09-23T11:22:30.868Z"
   },
   {
    "duration": 4,
    "start_time": "2021-09-23T11:22:59.573Z"
   },
   {
    "duration": 6,
    "start_time": "2021-09-23T11:23:04.204Z"
   },
   {
    "duration": 4,
    "start_time": "2021-09-23T11:23:26.402Z"
   },
   {
    "duration": 1339,
    "start_time": "2021-09-23T11:23:27.527Z"
   },
   {
    "duration": 1291,
    "start_time": "2021-09-23T11:23:58.035Z"
   },
   {
    "duration": 1373,
    "start_time": "2021-09-23T11:34:51.279Z"
   },
   {
    "duration": 624,
    "start_time": "2021-09-23T11:34:52.655Z"
   },
   {
    "duration": 214,
    "start_time": "2021-09-23T11:34:53.282Z"
   },
   {
    "duration": 7,
    "start_time": "2021-09-23T11:34:53.499Z"
   },
   {
    "duration": 2308,
    "start_time": "2021-09-23T11:34:53.508Z"
   },
   {
    "duration": 4,
    "start_time": "2021-09-23T11:34:55.818Z"
   },
   {
    "duration": 9,
    "start_time": "2021-09-23T11:34:55.824Z"
   },
   {
    "duration": 64,
    "start_time": "2021-09-23T11:34:55.837Z"
   },
   {
    "duration": -1458,
    "start_time": "2021-09-23T11:34:57.361Z"
   },
   {
    "duration": 6,
    "start_time": "2021-09-23T11:36:06.928Z"
   },
   {
    "duration": 6,
    "start_time": "2021-09-23T11:36:23.193Z"
   },
   {
    "duration": 5,
    "start_time": "2021-09-23T11:36:32.247Z"
   },
   {
    "duration": 6,
    "start_time": "2021-09-23T11:37:08.361Z"
   },
   {
    "duration": 6,
    "start_time": "2021-09-23T11:37:20.074Z"
   },
   {
    "duration": 6,
    "start_time": "2021-09-23T11:37:30.981Z"
   },
   {
    "duration": 4,
    "start_time": "2021-09-23T11:37:44.635Z"
   },
   {
    "duration": 6,
    "start_time": "2021-09-23T11:37:45.196Z"
   },
   {
    "duration": 3,
    "start_time": "2021-09-23T12:57:08.604Z"
   },
   {
    "duration": 6,
    "start_time": "2021-09-23T12:57:12.249Z"
   },
   {
    "duration": 3,
    "start_time": "2021-09-23T12:57:32.169Z"
   },
   {
    "duration": 5,
    "start_time": "2021-09-23T12:57:33.373Z"
   },
   {
    "duration": 3,
    "start_time": "2021-09-23T12:57:58.445Z"
   },
   {
    "duration": 6,
    "start_time": "2021-09-23T12:57:59.039Z"
   },
   {
    "duration": 3,
    "start_time": "2021-09-23T12:58:29.929Z"
   },
   {
    "duration": 6,
    "start_time": "2021-09-23T12:58:30.347Z"
   },
   {
    "duration": 6,
    "start_time": "2021-09-23T12:58:35.709Z"
   },
   {
    "duration": 4,
    "start_time": "2021-09-23T12:58:37.617Z"
   },
   {
    "duration": 5,
    "start_time": "2021-09-23T12:58:38.651Z"
   },
   {
    "duration": 3,
    "start_time": "2021-09-23T12:58:52.097Z"
   },
   {
    "duration": 5,
    "start_time": "2021-09-23T12:58:52.558Z"
   },
   {
    "duration": 4,
    "start_time": "2021-09-23T12:59:13.788Z"
   },
   {
    "duration": 6,
    "start_time": "2021-09-23T12:59:15.017Z"
   },
   {
    "duration": 110,
    "start_time": "2021-09-23T13:06:02.018Z"
   },
   {
    "duration": 3,
    "start_time": "2021-09-23T13:06:12.147Z"
   },
   {
    "duration": 5,
    "start_time": "2021-09-23T13:06:14.336Z"
   },
   {
    "duration": 3,
    "start_time": "2021-09-23T13:06:23.619Z"
   },
   {
    "duration": 1243,
    "start_time": "2021-09-23T13:06:35.917Z"
   },
   {
    "duration": 622,
    "start_time": "2021-09-23T13:06:37.162Z"
   },
   {
    "duration": 219,
    "start_time": "2021-09-23T13:06:37.786Z"
   },
   {
    "duration": 6,
    "start_time": "2021-09-23T13:06:38.007Z"
   },
   {
    "duration": 2254,
    "start_time": "2021-09-23T13:06:38.015Z"
   },
   {
    "duration": 3,
    "start_time": "2021-09-23T13:06:40.271Z"
   },
   {
    "duration": 10,
    "start_time": "2021-09-23T13:06:40.276Z"
   },
   {
    "duration": 87,
    "start_time": "2021-09-23T13:06:40.288Z"
   },
   {
    "duration": -1440,
    "start_time": "2021-09-23T13:06:41.817Z"
   },
   {
    "duration": 6,
    "start_time": "2021-09-23T13:07:02.819Z"
   },
   {
    "duration": 63,
    "start_time": "2021-09-23T13:07:26.956Z"
   },
   {
    "duration": 67,
    "start_time": "2021-09-23T13:07:42.919Z"
   },
   {
    "duration": 6,
    "start_time": "2021-09-23T13:07:52.979Z"
   },
   {
    "duration": 6,
    "start_time": "2021-09-23T13:09:11.118Z"
   },
   {
    "duration": 6,
    "start_time": "2021-09-23T13:09:29.228Z"
   },
   {
    "duration": 377,
    "start_time": "2021-09-23T13:10:31.106Z"
   },
   {
    "duration": 3,
    "start_time": "2021-09-23T13:10:50.240Z"
   },
   {
    "duration": 1071,
    "start_time": "2021-09-23T13:10:51.127Z"
   },
   {
    "duration": 4,
    "start_time": "2021-09-23T13:11:02.917Z"
   },
   {
    "duration": 995,
    "start_time": "2021-09-23T13:11:03.542Z"
   },
   {
    "duration": 4,
    "start_time": "2021-09-23T13:11:21.129Z"
   },
   {
    "duration": 1260,
    "start_time": "2021-09-23T13:11:21.732Z"
   },
   {
    "duration": 3,
    "start_time": "2021-09-23T13:11:43.319Z"
   },
   {
    "duration": 6,
    "start_time": "2021-09-23T13:11:43.761Z"
   },
   {
    "duration": 3,
    "start_time": "2021-09-23T13:12:04.981Z"
   },
   {
    "duration": 6,
    "start_time": "2021-09-23T13:12:06.231Z"
   },
   {
    "duration": 4,
    "start_time": "2021-09-23T13:12:20.170Z"
   },
   {
    "duration": 5,
    "start_time": "2021-09-23T13:12:20.906Z"
   },
   {
    "duration": 4,
    "start_time": "2021-09-23T13:12:46.106Z"
   },
   {
    "duration": 6,
    "start_time": "2021-09-23T13:12:47.077Z"
   },
   {
    "duration": 4,
    "start_time": "2021-09-23T13:12:59.021Z"
   },
   {
    "duration": 6,
    "start_time": "2021-09-23T13:12:59.836Z"
   },
   {
    "duration": 5,
    "start_time": "2021-09-23T13:13:17.584Z"
   },
   {
    "duration": 5,
    "start_time": "2021-09-23T13:13:57.142Z"
   },
   {
    "duration": 5,
    "start_time": "2021-09-23T13:14:13.124Z"
   },
   {
    "duration": 3,
    "start_time": "2021-09-23T13:14:48.580Z"
   },
   {
    "duration": 985,
    "start_time": "2021-09-23T13:14:49.041Z"
   },
   {
    "duration": 3,
    "start_time": "2021-09-23T13:15:41.981Z"
   },
   {
    "duration": 5,
    "start_time": "2021-09-23T13:15:42.390Z"
   },
   {
    "duration": 4,
    "start_time": "2021-09-23T13:24:48.538Z"
   },
   {
    "duration": 1202,
    "start_time": "2021-09-23T13:24:54.251Z"
   },
   {
    "duration": 3,
    "start_time": "2021-09-23T13:25:21.183Z"
   },
   {
    "duration": 899,
    "start_time": "2021-09-23T13:25:21.666Z"
   },
   {
    "duration": 3,
    "start_time": "2021-09-23T13:25:29.795Z"
   },
   {
    "duration": 1003,
    "start_time": "2021-09-23T13:25:30.331Z"
   },
   {
    "duration": 4,
    "start_time": "2021-09-23T13:26:04.693Z"
   },
   {
    "duration": 941,
    "start_time": "2021-09-23T13:26:05.122Z"
   },
   {
    "duration": 4,
    "start_time": "2021-09-23T13:26:15.905Z"
   },
   {
    "duration": 3,
    "start_time": "2021-09-23T13:26:21.292Z"
   },
   {
    "duration": 923,
    "start_time": "2021-09-23T13:26:21.640Z"
   },
   {
    "duration": 4,
    "start_time": "2021-09-23T13:27:09.542Z"
   },
   {
    "duration": 1144,
    "start_time": "2021-09-23T13:27:10.088Z"
   },
   {
    "duration": 4,
    "start_time": "2021-09-23T13:27:44.558Z"
   },
   {
    "duration": 2261,
    "start_time": "2021-09-23T13:27:44.833Z"
   },
   {
    "duration": 3,
    "start_time": "2021-09-23T13:27:56.235Z"
   },
   {
    "duration": 6,
    "start_time": "2021-09-23T13:27:56.673Z"
   },
   {
    "duration": 4,
    "start_time": "2021-09-23T13:29:35.923Z"
   },
   {
    "duration": 6,
    "start_time": "2021-09-23T13:29:36.133Z"
   },
   {
    "duration": 6,
    "start_time": "2021-09-23T13:29:54.000Z"
   },
   {
    "duration": 3,
    "start_time": "2021-09-23T13:30:12.633Z"
   },
   {
    "duration": 5,
    "start_time": "2021-09-23T13:30:13.461Z"
   },
   {
    "duration": 3,
    "start_time": "2021-09-23T13:31:25.116Z"
   },
   {
    "duration": 5,
    "start_time": "2021-09-23T13:31:25.495Z"
   },
   {
    "duration": 3,
    "start_time": "2021-09-23T13:31:43.220Z"
   },
   {
    "duration": 6,
    "start_time": "2021-09-23T13:31:43.546Z"
   },
   {
    "duration": 4,
    "start_time": "2021-09-23T13:31:49.934Z"
   },
   {
    "duration": 5,
    "start_time": "2021-09-23T13:31:50.169Z"
   },
   {
    "duration": 4,
    "start_time": "2021-09-23T13:32:35.680Z"
   },
   {
    "duration": 872,
    "start_time": "2021-09-23T13:32:36.149Z"
   },
   {
    "duration": 3,
    "start_time": "2021-09-23T13:32:46.531Z"
   },
   {
    "duration": 978,
    "start_time": "2021-09-23T13:32:46.889Z"
   },
   {
    "duration": 4,
    "start_time": "2021-09-23T13:33:49.160Z"
   },
   {
    "duration": 6,
    "start_time": "2021-09-23T13:33:49.631Z"
   },
   {
    "duration": 4,
    "start_time": "2021-09-23T13:34:08.023Z"
   },
   {
    "duration": 6,
    "start_time": "2021-09-23T13:34:08.834Z"
   },
   {
    "duration": 5546,
    "start_time": "2021-09-23T13:39:10.438Z"
   },
   {
    "duration": 13080,
    "start_time": "2021-09-23T13:40:07.647Z"
   },
   {
    "duration": 5,
    "start_time": "2021-09-23T13:40:34.033Z"
   },
   {
    "duration": 1238,
    "start_time": "2021-09-23T13:42:30.409Z"
   },
   {
    "duration": 624,
    "start_time": "2021-09-23T13:42:31.649Z"
   },
   {
    "duration": 219,
    "start_time": "2021-09-23T13:42:32.276Z"
   },
   {
    "duration": 7,
    "start_time": "2021-09-23T13:42:32.500Z"
   },
   {
    "duration": 2245,
    "start_time": "2021-09-23T13:42:32.509Z"
   },
   {
    "duration": 6,
    "start_time": "2021-09-23T13:42:34.755Z"
   },
   {
    "duration": 87924,
    "start_time": "2021-09-23T13:42:34.763Z"
   },
   {
    "duration": 11,
    "start_time": "2021-09-23T13:44:02.688Z"
   },
   {
    "duration": 64,
    "start_time": "2021-09-23T13:44:02.701Z"
   },
   {
    "duration": -1446,
    "start_time": "2021-09-23T13:44:04.213Z"
   },
   {
    "duration": 5,
    "start_time": "2021-09-23T13:51:36.859Z"
   },
   {
    "duration": 284,
    "start_time": "2021-09-23T13:58:24.751Z"
   },
   {
    "duration": 5,
    "start_time": "2021-09-23T14:00:37.073Z"
   },
   {
    "duration": 25,
    "start_time": "2021-09-23T14:03:37.808Z"
   },
   {
    "duration": 3,
    "start_time": "2021-09-23T14:04:18.733Z"
   },
   {
    "duration": 895,
    "start_time": "2021-09-23T14:04:19.949Z"
   },
   {
    "duration": 4,
    "start_time": "2021-09-23T14:04:33.016Z"
   },
   {
    "duration": 34264,
    "start_time": "2021-09-23T14:04:33.452Z"
   },
   {
    "duration": 5,
    "start_time": "2021-09-23T14:05:07.718Z"
   },
   {
    "duration": 5,
    "start_time": "2021-09-23T14:05:48.676Z"
   },
   {
    "duration": 3,
    "start_time": "2021-09-23T14:09:00.280Z"
   },
   {
    "duration": 33321,
    "start_time": "2021-09-23T14:09:06.884Z"
   },
   {
    "duration": 6,
    "start_time": "2021-09-23T14:09:40.207Z"
   },
   {
    "duration": 7,
    "start_time": "2021-09-23T14:09:40.215Z"
   },
   {
    "duration": 5604,
    "start_time": "2021-09-23T14:09:44.485Z"
   },
   {
    "duration": 10,
    "start_time": "2021-09-23T14:09:50.091Z"
   },
   {
    "duration": 7,
    "start_time": "2021-09-23T14:09:50.103Z"
   },
   {
    "duration": 4,
    "start_time": "2021-09-23T14:10:30.711Z"
   },
   {
    "duration": 5384,
    "start_time": "2021-09-23T14:10:31.293Z"
   },
   {
    "duration": 6,
    "start_time": "2021-09-23T14:10:36.679Z"
   },
   {
    "duration": 15,
    "start_time": "2021-09-23T14:10:36.686Z"
   },
   {
    "duration": 5,
    "start_time": "2021-09-23T14:18:26.132Z"
   },
   {
    "duration": 5,
    "start_time": "2021-09-23T14:22:01.743Z"
   },
   {
    "duration": 1008,
    "start_time": "2021-09-23T14:22:04.624Z"
   },
   {
    "duration": 6,
    "start_time": "2021-09-23T14:22:05.925Z"
   },
   {
    "duration": 372,
    "start_time": "2021-09-23T14:23:03.515Z"
   },
   {
    "duration": 460643,
    "start_time": "2021-09-23T14:23:11.096Z"
   },
   {
    "duration": 5,
    "start_time": "2021-09-23T14:30:51.740Z"
   },
   {
    "duration": 18,
    "start_time": "2021-09-23T14:30:51.747Z"
   },
   {
    "duration": 140,
    "start_time": "2021-09-23T14:55:22.681Z"
   },
   {
    "duration": 37,
    "start_time": "2021-09-23T14:55:28.309Z"
   },
   {
    "duration": 5,
    "start_time": "2021-09-23T14:55:39.473Z"
   },
   {
    "duration": 5,
    "start_time": "2021-09-23T14:55:52.733Z"
   },
   {
    "duration": 10708,
    "start_time": "2021-09-23T14:59:28.472Z"
   },
   {
    "duration": 44,
    "start_time": "2021-09-23T15:04:48.488Z"
   },
   {
    "duration": 8976,
    "start_time": "2021-09-23T15:06:07.774Z"
   },
   {
    "duration": 9202,
    "start_time": "2021-09-23T15:06:31.836Z"
   },
   {
    "duration": 8864,
    "start_time": "2021-09-23T15:07:19.653Z"
   },
   {
    "duration": 8756,
    "start_time": "2021-09-23T15:08:37.121Z"
   },
   {
    "duration": 28,
    "start_time": "2021-09-23T15:08:45.879Z"
   },
   {
    "duration": 6,
    "start_time": "2021-09-23T15:11:47.242Z"
   },
   {
    "duration": 119,
    "start_time": "2021-09-23T15:13:59.771Z"
   },
   {
    "duration": 127,
    "start_time": "2021-09-23T15:14:07.533Z"
   },
   {
    "duration": 7,
    "start_time": "2021-09-23T15:14:21.640Z"
   },
   {
    "duration": 155,
    "start_time": "2021-09-23T15:14:25.641Z"
   },
   {
    "duration": 2613,
    "start_time": "2021-09-24T08:24:52.613Z"
   },
   {
    "duration": 747,
    "start_time": "2021-09-24T08:24:55.229Z"
   },
   {
    "duration": 306,
    "start_time": "2021-09-24T08:24:55.982Z"
   },
   {
    "duration": 8,
    "start_time": "2021-09-24T08:24:56.290Z"
   },
   {
    "duration": 2885,
    "start_time": "2021-09-24T08:24:56.301Z"
   },
   {
    "duration": 7,
    "start_time": "2021-09-24T08:24:59.188Z"
   },
   {
    "duration": 789574,
    "start_time": "2021-09-24T08:24:59.198Z"
   },
   {
    "duration": 56,
    "start_time": "2021-09-24T08:38:08.775Z"
   },
   {
    "duration": 16816,
    "start_time": "2021-09-24T08:38:08.833Z"
   },
   {
    "duration": 8830,
    "start_time": "2021-09-24T08:38:25.651Z"
   },
   {
    "duration": 19,
    "start_time": "2021-09-24T08:38:34.483Z"
   },
   {
    "duration": 4,
    "start_time": "2021-09-24T08:38:34.523Z"
   },
   {
    "duration": 5,
    "start_time": "2021-09-24T08:53:47.081Z"
   },
   {
    "duration": 5,
    "start_time": "2021-09-24T08:54:07.404Z"
   },
   {
    "duration": 408,
    "start_time": "2021-09-24T08:55:09.735Z"
   },
   {
    "duration": -2502,
    "start_time": "2021-09-24T08:57:29.598Z"
   },
   {
    "duration": 537570,
    "start_time": "2021-09-24T08:57:38.211Z"
   },
   {
    "duration": 5,
    "start_time": "2021-09-24T09:07:50.391Z"
   },
   {
    "duration": 6,
    "start_time": "2021-09-24T09:08:25.149Z"
   },
   {
    "duration": 249,
    "start_time": "2021-09-24T10:52:40.785Z"
   },
   {
    "duration": 2593,
    "start_time": "2021-09-24T10:53:16.035Z"
   },
   {
    "duration": 784,
    "start_time": "2021-09-24T10:53:18.632Z"
   },
   {
    "duration": 281,
    "start_time": "2021-09-24T10:53:19.423Z"
   },
   {
    "duration": 21,
    "start_time": "2021-09-24T10:53:19.708Z"
   },
   {
    "duration": 3645,
    "start_time": "2021-09-24T10:53:19.733Z"
   },
   {
    "duration": 29,
    "start_time": "2021-09-24T10:53:23.381Z"
   },
   {
    "duration": 900082,
    "start_time": "2021-09-24T10:53:23.414Z"
   },
   {
    "duration": 66,
    "start_time": "2021-09-24T11:08:23.500Z"
   },
   {
    "duration": 18991,
    "start_time": "2021-09-24T11:08:23.570Z"
   },
   {
    "duration": 15318,
    "start_time": "2021-09-24T11:08:42.564Z"
   },
   {
    "duration": 19,
    "start_time": "2021-09-24T11:08:57.884Z"
   },
   {
    "duration": 5,
    "start_time": "2021-09-24T11:08:57.923Z"
   },
   {
    "duration": 2045,
    "start_time": "2021-09-24T11:31:29.984Z"
   },
   {
    "duration": 897,
    "start_time": "2021-09-24T11:31:32.032Z"
   },
   {
    "duration": 304,
    "start_time": "2021-09-24T11:31:32.934Z"
   },
   {
    "duration": 9,
    "start_time": "2021-09-24T11:31:33.240Z"
   },
   {
    "duration": 2917,
    "start_time": "2021-09-24T11:31:33.251Z"
   },
   {
    "duration": 13,
    "start_time": "2021-09-24T11:31:36.171Z"
   },
   {
    "duration": 960882,
    "start_time": "2021-09-24T11:31:36.187Z"
   },
   {
    "duration": 53,
    "start_time": "2021-09-24T11:47:37.072Z"
   },
   {
    "duration": 16994,
    "start_time": "2021-09-24T11:47:37.128Z"
   },
   {
    "duration": 14764,
    "start_time": "2021-09-24T11:47:54.124Z"
   },
   {
    "duration": 39,
    "start_time": "2021-09-24T11:48:08.891Z"
   },
   {
    "duration": 5,
    "start_time": "2021-09-24T11:48:08.932Z"
   },
   {
    "duration": 284,
    "start_time": "2021-09-24T14:25:25.826Z"
   },
   {
    "duration": 1928,
    "start_time": "2021-09-24T14:25:52.710Z"
   },
   {
    "duration": 776,
    "start_time": "2021-09-24T14:25:54.641Z"
   },
   {
    "duration": 296,
    "start_time": "2021-09-24T14:25:55.420Z"
   },
   {
    "duration": 10,
    "start_time": "2021-09-24T14:25:55.722Z"
   },
   {
    "duration": 2953,
    "start_time": "2021-09-24T14:25:55.734Z"
   },
   {
    "duration": 10,
    "start_time": "2021-09-24T14:25:58.689Z"
   },
   {
    "duration": 834577,
    "start_time": "2021-09-24T14:25:58.701Z"
   },
   {
    "duration": 53,
    "start_time": "2021-09-24T14:39:53.281Z"
   },
   {
    "duration": 18863,
    "start_time": "2021-09-24T14:39:53.338Z"
   },
   {
    "duration": 17293,
    "start_time": "2021-09-24T14:40:12.204Z"
   },
   {
    "duration": 46,
    "start_time": "2021-09-24T14:40:29.501Z"
   },
   {
    "duration": 7,
    "start_time": "2021-09-24T14:40:29.550Z"
   },
   {
    "duration": 278,
    "start_time": "2021-09-24T14:56:01.088Z"
   },
   {
    "duration": 1986,
    "start_time": "2021-09-24T14:56:21.771Z"
   },
   {
    "duration": 812,
    "start_time": "2021-09-24T14:56:23.761Z"
   },
   {
    "duration": 295,
    "start_time": "2021-09-24T14:56:24.576Z"
   },
   {
    "duration": 8,
    "start_time": "2021-09-24T14:56:24.874Z"
   },
   {
    "duration": 2726,
    "start_time": "2021-09-24T14:56:24.884Z"
   },
   {
    "duration": 20,
    "start_time": "2021-09-24T14:56:27.612Z"
   },
   {
    "duration": 873169,
    "start_time": "2021-09-24T14:56:27.634Z"
   },
   {
    "duration": 56,
    "start_time": "2021-09-24T15:11:00.808Z"
   },
   {
    "duration": 18126,
    "start_time": "2021-09-24T15:11:00.867Z"
   },
   {
    "duration": 14779,
    "start_time": "2021-09-24T15:11:18.995Z"
   },
   {
    "duration": 18,
    "start_time": "2021-09-24T15:11:33.777Z"
   },
   {
    "duration": 32,
    "start_time": "2021-09-24T15:11:33.797Z"
   },
   {
    "duration": 236,
    "start_time": "2021-09-24T15:13:35.852Z"
   },
   {
    "duration": 197,
    "start_time": "2021-09-24T15:13:41.369Z"
   },
   {
    "duration": 61501,
    "start_time": "2021-12-04T11:06:46.881Z"
   },
   {
    "duration": 3182,
    "start_time": "2021-12-04T11:07:48.387Z"
   },
   {
    "duration": -1032,
    "start_time": "2021-12-04T11:07:52.605Z"
   },
   {
    "duration": -1033,
    "start_time": "2021-12-04T11:07:52.608Z"
   },
   {
    "duration": -1033,
    "start_time": "2021-12-04T11:07:52.610Z"
   },
   {
    "duration": -1033,
    "start_time": "2021-12-04T11:07:52.612Z"
   },
   {
    "duration": -1072,
    "start_time": "2021-12-04T11:07:52.653Z"
   },
   {
    "duration": -1073,
    "start_time": "2021-12-04T11:07:52.655Z"
   },
   {
    "duration": -1072,
    "start_time": "2021-12-04T11:07:52.657Z"
   },
   {
    "duration": -1073,
    "start_time": "2021-12-04T11:07:52.660Z"
   },
   {
    "duration": -1074,
    "start_time": "2021-12-04T11:07:52.663Z"
   },
   {
    "duration": -999,
    "start_time": "2021-12-04T11:07:52.665Z"
   },
   {
    "duration": -1000,
    "start_time": "2021-12-04T11:07:52.668Z"
   },
   {
    "duration": -1027,
    "start_time": "2021-12-04T11:07:52.696Z"
   },
   {
    "duration": -1025,
    "start_time": "2021-12-04T11:07:52.697Z"
   },
   {
    "duration": -1074,
    "start_time": "2021-12-04T11:07:52.748Z"
   },
   {
    "duration": 9593,
    "start_time": "2021-12-04T11:11:40.682Z"
   },
   {
    "duration": 9100,
    "start_time": "2021-12-04T11:11:50.278Z"
   },
   {
    "duration": 809,
    "start_time": "2021-12-04T11:11:59.382Z"
   },
   {
    "duration": 10,
    "start_time": "2021-12-04T11:12:00.199Z"
   },
   {
    "duration": 19,
    "start_time": "2021-12-04T11:12:00.271Z"
   }
  ],
  "kernelspec": {
   "display_name": "Python 3",
   "language": "python",
   "name": "python3"
  },
  "language_info": {
   "codemirror_mode": {
    "name": "ipython",
    "version": 3
   },
   "file_extension": ".py",
   "mimetype": "text/x-python",
   "name": "python",
   "nbconvert_exporter": "python",
   "pygments_lexer": "ipython3",
   "version": "3.8.5"
  },
  "toc": {
   "base_numbering": 1,
   "nav_menu": {},
   "number_sections": true,
   "sideBar": true,
   "skip_h1_title": true,
   "title_cell": "Содержание",
   "title_sidebar": "Contents",
   "toc_cell": true,
   "toc_position": {
    "height": "calc(100% - 180px)",
    "left": "10px",
    "top": "150px",
    "width": "302.391px"
   },
   "toc_section_display": true,
   "toc_window_display": false
  }
 },
 "nbformat": 4,
 "nbformat_minor": 2
}
